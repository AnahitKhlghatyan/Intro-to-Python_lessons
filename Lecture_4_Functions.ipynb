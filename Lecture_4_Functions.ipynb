{
 "cells": [
  {
   "cell_type": "markdown",
   "metadata": {
    "id": "ATeDSVYN9-O5"
   },
   "source": [
    "# Functions"
   ]
  },
  {
   "cell_type": "markdown",
   "metadata": {
    "id": "JukyFPh49-O6"
   },
   "source": [
    "Հաճախ մեր պրոեկտի տարբեր հատվածներում անհրաժեշտ է լինում նույն կոդը օգտագործել։ Դա ժամանակատար է և համակարգչային հիշողության համար ոչ էֆեկտիվ։ Դրանից խուսափելու համար օգտագործում ենք ֆունկցիաներ։ Ֆունկցիաները բազմակի օգտագործման համար նախատեսված կոդի բլոկներ են։"
   ]
  },
  {
   "cell_type": "markdown",
   "metadata": {
    "id": "ld8PI2fX9-O8"
   },
   "source": [
    "Ֆունկցիաների սինտաքսը սա է․"
   ]
  },
  {
   "cell_type": "markdown",
   "metadata": {
    "id": "LJnLp8079-O9"
   },
   "source": [
    "```python \n",
    "def funcname(arg1, arg2,... argN):\n",
    "    \n",
    "    \"\"\" Document String \"\"\"\n",
    "\n",
    "    statements\n",
    "\n",
    "    return <value>\n",
    "```"
   ]
  },
  {
   "cell_type": "markdown",
   "metadata": {
    "id": "dDyilZ-d9-O-"
   },
   "source": [
    "def-ն ասում է, որ ֆունկցիա ենք հայտարարում, funcname-ը անունն է և ֆունկցիան ընդունում է փակագծերում գրված արգումենտները։ Ներսում առաջին տողը docstring է, որի միջոցով դոկումենտացնում ենք ֆունկցիան։ Ապա գրվում է ֆունկցիոնալությունը և վեևջապես վերադարձնում ենք արժեք return-ի միջոցով։"
   ]
  },
  {
   "cell_type": "code",
   "execution_count": null,
   "metadata": {
    "id": "mn5NrVyP9-O_"
   },
   "outputs": [],
   "source": [
    "def my_sum_1(a, b):\n",
    "  print(a + b)"
   ]
  },
  {
   "cell_type": "code",
   "execution_count": null,
   "metadata": {
    "colab": {
     "base_uri": "https://localhost:8080/"
    },
    "executionInfo": {
     "elapsed": 266,
     "status": "ok",
     "timestamp": 1629215902298,
     "user": {
      "displayName": "Intro Python",
      "photoUrl": "",
      "userId": "07941982911866096271"
     },
     "user_tz": -240
    },
    "id": "v138uwqV1ZKV",
    "outputId": "b05c119a-4c30-4ec9-d37c-e078d0f0e412"
   },
   "outputs": [
    {
     "name": "stdout",
     "output_type": "stream",
     "text": [
      "Hello World!\n"
     ]
    }
   ],
   "source": [
    "my_sum_1('Hello ', 'World!')"
   ]
  },
  {
   "cell_type": "code",
   "execution_count": null,
   "metadata": {
    "colab": {
     "base_uri": "https://localhost:8080/"
    },
    "executionInfo": {
     "elapsed": 603,
     "status": "ok",
     "timestamp": 1629214580821,
     "user": {
      "displayName": "Intro Python",
      "photoUrl": "",
      "userId": "07941982911866096271"
     },
     "user_tz": -240
    },
    "id": "zZKr8Esn9-PA",
    "outputId": "d0e5cd35-c90f-43ab-a4c9-a484e2597c5c"
   },
   "outputs": [
    {
     "name": "stdout",
     "output_type": "stream",
     "text": [
      "18\n"
     ]
    }
   ],
   "source": [
    "my_sum(6, 12)"
   ]
  },
  {
   "cell_type": "code",
   "execution_count": null,
   "metadata": {
    "id": "bdHhUgoI9-PB"
   },
   "outputs": [],
   "source": [
    "def multi(a, b):\n",
    "  print(a * b)"
   ]
  },
  {
   "cell_type": "code",
   "execution_count": null,
   "metadata": {
    "colab": {
     "base_uri": "https://localhost:8080/"
    },
    "executionInfo": {
     "elapsed": 310,
     "status": "ok",
     "timestamp": 1629214630755,
     "user": {
      "displayName": "Intro Python",
      "photoUrl": "",
      "userId": "07941982911866096271"
     },
     "user_tz": -240
    },
    "id": "fe8A34X39-PC",
    "outputId": "191b41d9-e631-4426-c7d3-0c69e3da08ad"
   },
   "outputs": [
    {
     "name": "stdout",
     "output_type": "stream",
     "text": [
      "72\n"
     ]
    }
   ],
   "source": [
    "multi(8, 9)"
   ]
  },
  {
   "cell_type": "code",
   "execution_count": null,
   "metadata": {
    "colab": {
     "base_uri": "https://localhost:8080/",
     "height": 168
    },
    "executionInfo": {
     "elapsed": 271,
     "status": "error",
     "timestamp": 1629214692964,
     "user": {
      "displayName": "Intro Python",
      "photoUrl": "",
      "userId": "07941982911866096271"
     },
     "user_tz": -240
    },
    "id": "AgYBMH3b9-PD",
    "outputId": "e72be457-4364-4b85-b9ca-080cd393186d"
   },
   "outputs": [
    {
     "ename": "TypeError",
     "evalue": "ignored",
     "output_type": "error",
     "traceback": [
      "\u001b[0;31m---------------------------------------------------------------------------\u001b[0m",
      "\u001b[0;31mTypeError\u001b[0m                                 Traceback (most recent call last)",
      "\u001b[0;32m<ipython-input-5-cacafd4b8283>\u001b[0m in \u001b[0;36m<module>\u001b[0;34m()\u001b[0m\n\u001b[0;32m----> 1\u001b[0;31m \u001b[0mmulti\u001b[0m\u001b[0;34m(\u001b[0m\u001b[0;36m1\u001b[0m\u001b[0;34m,\u001b[0m \u001b[0;36m2\u001b[0m\u001b[0;34m,\u001b[0m \u001b[0;36m3\u001b[0m\u001b[0;34m)\u001b[0m\u001b[0;34m\u001b[0m\u001b[0;34m\u001b[0m\u001b[0m\n\u001b[0m",
      "\u001b[0;31mTypeError\u001b[0m: multi() takes 2 positional arguments but 3 were given"
     ]
    }
   ],
   "source": [
    "multi(1, 2, 3)"
   ]
  },
  {
   "cell_type": "code",
   "execution_count": null,
   "metadata": {
    "colab": {
     "base_uri": "https://localhost:8080/",
     "height": 168
    },
    "executionInfo": {
     "elapsed": 275,
     "status": "error",
     "timestamp": 1629214715707,
     "user": {
      "displayName": "Intro Python",
      "photoUrl": "",
      "userId": "07941982911866096271"
     },
     "user_tz": -240
    },
    "id": "QUVhSG6P9-PD",
    "outputId": "54701caf-e5a4-4e94-a5ca-10b7997795a1"
   },
   "outputs": [
    {
     "ename": "TypeError",
     "evalue": "ignored",
     "output_type": "error",
     "traceback": [
      "\u001b[0;31m---------------------------------------------------------------------------\u001b[0m",
      "\u001b[0;31mTypeError\u001b[0m                                 Traceback (most recent call last)",
      "\u001b[0;32m<ipython-input-6-43bbb2274c9a>\u001b[0m in \u001b[0;36m<module>\u001b[0;34m()\u001b[0m\n\u001b[0;32m----> 1\u001b[0;31m \u001b[0mmulti\u001b[0m\u001b[0;34m(\u001b[0m\u001b[0;36m4\u001b[0m\u001b[0;34m)\u001b[0m\u001b[0;34m\u001b[0m\u001b[0;34m\u001b[0m\u001b[0m\n\u001b[0m",
      "\u001b[0;31mTypeError\u001b[0m: multi() missing 1 required positional argument: 'b'"
     ]
    }
   ],
   "source": [
    "multi(4)"
   ]
  },
  {
   "cell_type": "code",
   "execution_count": null,
   "metadata": {
    "id": "Dzy3dChB9-PE"
   },
   "outputs": [],
   "source": [
    "def my_sum_2(a, b):\n",
    "  print('Sum of {} {} equals {}'.format(a, b, a + b))\n",
    "  return a + b\n",
    "  print('I will not be called :(')"
   ]
  },
  {
   "cell_type": "code",
   "execution_count": null,
   "metadata": {
    "colab": {
     "base_uri": "https://localhost:8080/"
    },
    "executionInfo": {
     "elapsed": 311,
     "status": "ok",
     "timestamp": 1629214873025,
     "user": {
      "displayName": "Intro Python",
      "photoUrl": "",
      "userId": "07941982911866096271"
     },
     "user_tz": -240
    },
    "id": "suOX2SFoNJmr",
    "outputId": "8b2b779c-8768-4a49-aa79-9bb75519037d"
   },
   "outputs": [
    {
     "name": "stdout",
     "output_type": "stream",
     "text": [
      "7\n"
     ]
    }
   ],
   "source": [
    "x_1 = my_sum_1(2, 5)"
   ]
  },
  {
   "cell_type": "code",
   "execution_count": null,
   "metadata": {
    "colab": {
     "base_uri": "https://localhost:8080/"
    },
    "executionInfo": {
     "elapsed": 253,
     "status": "ok",
     "timestamp": 1629215228813,
     "user": {
      "displayName": "Intro Python",
      "photoUrl": "",
      "userId": "07941982911866096271"
     },
     "user_tz": -240
    },
    "id": "Vp9rSUXh9-PG",
    "outputId": "be594992-c41f-49ef-edd5-865d4dc4cd1a"
   },
   "outputs": [
    {
     "name": "stdout",
     "output_type": "stream",
     "text": [
      "Sum of 2 5 equals 7\n"
     ]
    }
   ],
   "source": [
    "x_2 = my_sum_2(2, 5)"
   ]
  },
  {
   "cell_type": "code",
   "execution_count": null,
   "metadata": {
    "colab": {
     "base_uri": "https://localhost:8080/"
    },
    "executionInfo": {
     "elapsed": 283,
     "status": "ok",
     "timestamp": 1629214903306,
     "user": {
      "displayName": "Intro Python",
      "photoUrl": "",
      "userId": "07941982911866096271"
     },
     "user_tz": -240
    },
    "id": "lU_5KqfZ9-PJ",
    "outputId": "7f441a51-ab03-4251-a369-6031e783fddd"
   },
   "outputs": [
    {
     "name": "stdout",
     "output_type": "stream",
     "text": [
      "None\n",
      "7\n"
     ]
    }
   ],
   "source": [
    "print(x_1)\n",
    "print(x_2)"
   ]
  },
  {
   "cell_type": "code",
   "execution_count": null,
   "metadata": {
    "id": "aoBMlEZZx165"
   },
   "outputs": [],
   "source": [
    "lst = [1, 2, 3, 12, 5, 4]\n",
    "\n",
    "# x = lst.pop(1)\n"
   ]
  },
  {
   "cell_type": "code",
   "execution_count": null,
   "metadata": {
    "id": "ru8IW3-qx69U"
   },
   "outputs": [],
   "source": [
    "h = lst.sort()"
   ]
  },
  {
   "cell_type": "code",
   "execution_count": null,
   "metadata": {
    "colab": {
     "base_uri": "https://localhost:8080/"
    },
    "executionInfo": {
     "elapsed": 259,
     "status": "ok",
     "timestamp": 1629215086229,
     "user": {
      "displayName": "Intro Python",
      "photoUrl": "",
      "userId": "07941982911866096271"
     },
     "user_tz": -240
    },
    "id": "B0wTL9-cySxw",
    "outputId": "3cf7ca3e-e112-4c33-d327-547797bdfd4e"
   },
   "outputs": [
    {
     "data": {
      "text/plain": [
       "[1, 2, 3, 4, 5, 12]"
      ]
     },
     "execution_count": 27,
     "metadata": {
      "tags": []
     },
     "output_type": "execute_result"
    }
   ],
   "source": [
    "lst"
   ]
  },
  {
   "cell_type": "code",
   "execution_count": null,
   "metadata": {
    "colab": {
     "base_uri": "https://localhost:8080/"
    },
    "executionInfo": {
     "elapsed": 5,
     "status": "ok",
     "timestamp": 1629215090241,
     "user": {
      "displayName": "Intro Python",
      "photoUrl": "",
      "userId": "07941982911866096271"
     },
     "user_tz": -240
    },
    "id": "v9v_PrcMyVpd",
    "outputId": "f7197a40-248a-4f66-be54-2bbe91f98810"
   },
   "outputs": [
    {
     "name": "stdout",
     "output_type": "stream",
     "text": [
      "None\n"
     ]
    }
   ],
   "source": [
    "print(h)"
   ]
  },
  {
   "cell_type": "code",
   "execution_count": null,
   "metadata": {
    "id": "6GGKnQxnzBba"
   },
   "outputs": [],
   "source": [
    "def equals_ten(x):\n",
    "  if x == 10:\n",
    "    print('x is {}'.format(x))\n",
    "  else:\n",
    "    print('x is not ten, but it is {}'.format(x))"
   ]
  },
  {
   "cell_type": "code",
   "execution_count": null,
   "metadata": {
    "colab": {
     "base_uri": "https://localhost:8080/"
    },
    "executionInfo": {
     "elapsed": 2291,
     "status": "ok",
     "timestamp": 1629215375065,
     "user": {
      "displayName": "Intro Python",
      "photoUrl": "",
      "userId": "07941982911866096271"
     },
     "user_tz": -240
    },
    "id": "8yVvMdjGzRq0",
    "outputId": "7488c26c-df27-43a2-b459-e6d182c4666d"
   },
   "outputs": [
    {
     "name": "stdout",
     "output_type": "stream",
     "text": [
      "10\n",
      "x is 10\n"
     ]
    }
   ],
   "source": [
    "y = int(input())\n",
    "\n",
    "equals_ten(y)"
   ]
  },
  {
   "cell_type": "code",
   "execution_count": null,
   "metadata": {
    "id": "RQ-l0eLkzflV"
   },
   "outputs": [],
   "source": [
    "def equals_ten(x):\n",
    "  if x == 10:\n",
    "    print('x is {}'.format(x))\n",
    "    return x ** 2\n",
    "  else:\n",
    "    print('x is not ten, but it is {}'.format(x))\n",
    "    return x ** 3"
   ]
  },
  {
   "cell_type": "code",
   "execution_count": null,
   "metadata": {
    "colab": {
     "base_uri": "https://localhost:8080/"
    },
    "executionInfo": {
     "elapsed": 2322,
     "status": "ok",
     "timestamp": 1629215461780,
     "user": {
      "displayName": "Intro Python",
      "photoUrl": "",
      "userId": "07941982911866096271"
     },
     "user_tz": -240
    },
    "id": "DarvBO5Izot2",
    "outputId": "c36337d0-f58e-430d-c2e0-dc2f55726bcc"
   },
   "outputs": [
    {
     "name": "stdout",
     "output_type": "stream",
     "text": [
      "10\n",
      "x is 10\n"
     ]
    }
   ],
   "source": [
    "y = int(input())\n",
    "\n",
    "z = equals_ten(y)"
   ]
  },
  {
   "cell_type": "code",
   "execution_count": null,
   "metadata": {
    "colab": {
     "base_uri": "https://localhost:8080/"
    },
    "executionInfo": {
     "elapsed": 252,
     "status": "ok",
     "timestamp": 1629215464164,
     "user": {
      "displayName": "Intro Python",
      "photoUrl": "",
      "userId": "07941982911866096271"
     },
     "user_tz": -240
    },
    "id": "eyMGZygazuum",
    "outputId": "217141b1-8819-4941-c804-12291ff232e8"
   },
   "outputs": [
    {
     "data": {
      "text/plain": [
       "100"
      ]
     },
     "execution_count": 41,
     "metadata": {
      "tags": []
     },
     "output_type": "execute_result"
    }
   ],
   "source": [
    "z"
   ]
  },
  {
   "cell_type": "code",
   "execution_count": null,
   "metadata": {
    "id": "0ofzNBU11lq7"
   },
   "outputs": [],
   "source": [
    "def sort(lst):\n",
    "  for i in range(len(lst)):\n",
    "    for j in range(len(lst)):\n",
    "      print(lst)\n",
    "\n",
    "      if lst[i] < lst[j]:\n",
    "        # temp = lst[i]\n",
    "        # lst[i] = lst[j]\n",
    "        # lst[j] = temp\n",
    "        lst[i], lst[j] = lst[j], lst[i]\n",
    "  print(lst)"
   ]
  },
  {
   "cell_type": "code",
   "execution_count": null,
   "metadata": {
    "id": "0LlhONiM2VOC"
   },
   "outputs": [],
   "source": [
    "lst = [2, 8, 9, 3, 12, 78, 10]"
   ]
  },
  {
   "cell_type": "code",
   "execution_count": null,
   "metadata": {
    "colab": {
     "base_uri": "https://localhost:8080/"
    },
    "executionInfo": {
     "elapsed": 4,
     "status": "ok",
     "timestamp": 1629217063319,
     "user": {
      "displayName": "Intro Python",
      "photoUrl": "",
      "userId": "07941982911866096271"
     },
     "user_tz": -240
    },
    "id": "GTxUQCTr2auJ",
    "outputId": "31b7a7ef-0f87-48b8-acf3-94efe54ff007"
   },
   "outputs": [
    {
     "name": "stdout",
     "output_type": "stream",
     "text": [
      "[2, 3, 8, 9, 10, 12, 78]\n"
     ]
    }
   ],
   "source": [
    "sort(lst)"
   ]
  },
  {
   "cell_type": "code",
   "execution_count": null,
   "metadata": {
    "colab": {
     "base_uri": "https://localhost:8080/"
    },
    "executionInfo": {
     "elapsed": 261,
     "status": "ok",
     "timestamp": 1629216286772,
     "user": {
      "displayName": "Intro Python",
      "photoUrl": "",
      "userId": "07941982911866096271"
     },
     "user_tz": -240
    },
    "id": "WrxVq1d72jRO",
    "outputId": "8a67f36f-17fc-4a24-a0ff-53be39eb1ead"
   },
   "outputs": [
    {
     "name": "stdout",
     "output_type": "stream",
     "text": [
      "10 20\n",
      "20 10\n",
      "10 20\n"
     ]
    }
   ],
   "source": [
    "a = 10\n",
    "b = 20\n",
    "print(a, b)\n",
    "\n",
    "temp = a\n",
    "a = b\n",
    "b = temp\n",
    "print(a, b)\n",
    "\n",
    "a, b = (b, a)\n",
    "print(a, b)\n"
   ]
  },
  {
   "cell_type": "code",
   "execution_count": null,
   "metadata": {
    "colab": {
     "base_uri": "https://localhost:8080/"
    },
    "executionInfo": {
     "elapsed": 264,
     "status": "ok",
     "timestamp": 1629216435753,
     "user": {
      "displayName": "Intro Python",
      "photoUrl": "",
      "userId": "07941982911866096271"
     },
     "user_tz": -240
    },
    "id": "o1qs11k63Hms",
    "outputId": "acf01ca3-a609-4b2a-ad2e-0be37b482fc6"
   },
   "outputs": [
    {
     "name": "stdout",
     "output_type": "stream",
     "text": [
      "i is: 0\n",
      "j is: 0\n",
      "j is: 1\n",
      "j is: 2\n",
      "i is: 1\n",
      "j is: 0\n",
      "j is: 1\n",
      "j is: 2\n",
      "i is: 2\n",
      "j is: 0\n",
      "j is: 1\n",
      "j is: 2\n"
     ]
    }
   ],
   "source": [
    "for i in range(0, 3):\n",
    "  print('i is:', i)\n",
    "  for j in range(0, 3):\n",
    "    print('j is:', j)\n"
   ]
  },
  {
   "cell_type": "markdown",
   "metadata": {
    "id": "8DPq1ffTFzg-"
   },
   "source": [
    "***args** դրվում է որպես արգումենտ, եթե արգումենտների կոնկրետ քանակ սահմանված չի, այսինքն ֆունկցիան կընդունի անսահմանափակ արգումենտներ։ ****kwargs**-ը ունի նույն իմաստը, բայց keyword argument-ների համար։ \n",
    "\n",
    "Եթե ստուգենք դրանց տիպը ֆունկցիայի մեջ, կտեսնենք, որ args-ը լիստ է, որը պարունակում է բոլոր արգումենտները, իսկ kwargs-ը Dictionary, որը պարունակում է բոլոր keyword արգումենտները։"
   ]
  },
  {
   "cell_type": "code",
   "execution_count": null,
   "metadata": {
    "id": "omh8Q0XVzs3a"
   },
   "outputs": [],
   "source": [
    "def my_print(*args, ban='-', ending='?'):\n",
    "  print(*args, sep=separator, end=ending)"
   ]
  },
  {
   "cell_type": "code",
   "execution_count": null,
   "metadata": {
    "colab": {
     "base_uri": "https://localhost:8080/"
    },
    "executionInfo": {
     "elapsed": 445,
     "status": "ok",
     "timestamp": 1629217155241,
     "user": {
      "displayName": "Intro Python",
      "photoUrl": "",
      "userId": "07941982911866096271"
     },
     "user_tz": -240
    },
    "id": "IcZs2Wr9Nl8A",
    "outputId": "6a870284-7279-463a-f434-ced006b1faf5"
   },
   "outputs": [
    {
     "name": "stdout",
     "output_type": "stream",
     "text": [
      "1-2-3-4p"
     ]
    }
   ],
   "source": [
    "print(1, 2, 3, 4, sep='-', end='\\n')  "
   ]
  },
  {
   "cell_type": "code",
   "execution_count": null,
   "metadata": {
    "colab": {
     "base_uri": "https://localhost:8080/"
    },
    "executionInfo": {
     "elapsed": 389,
     "status": "ok",
     "timestamp": 1629217848972,
     "user": {
      "displayName": "Intro Python",
      "photoUrl": "",
      "userId": "07941982911866096271"
     },
     "user_tz": -240
    },
    "id": "TzgDy2acNmi6",
    "outputId": "7376f239-ba51-40d6-a39e-59aac17005f4"
   },
   "outputs": [
    {
     "name": "stdout",
     "output_type": "stream",
     "text": [
      "1+2+3+4+5+7+string["
     ]
    }
   ],
   "source": [
    "my_print(1, 2, 3, 4, 5, 7, 'string', ban='+', ending='[')\n",
    "# type(1, 2, 3, 4, 5, 7)"
   ]
  },
  {
   "cell_type": "code",
   "execution_count": null,
   "metadata": {
    "colab": {
     "base_uri": "https://localhost:8080/"
    },
    "executionInfo": {
     "elapsed": 330,
     "status": "ok",
     "timestamp": 1629217573559,
     "user": {
      "displayName": "Intro Python",
      "photoUrl": "",
      "userId": "07941982911866096271"
     },
     "user_tz": -240
    },
    "id": "OJ9OXzYM9-PK",
    "outputId": "5ecb9f8b-c53b-4ca2-b65a-18a86ae4e02b"
   },
   "outputs": [
    {
     "name": "stdout",
     "output_type": "stream",
     "text": [
      "1 2 3 4 5 7 string\n"
     ]
    }
   ],
   "source": [
    "print(1, 2, 3, 4, 5, 7, 'string')"
   ]
  },
  {
   "cell_type": "code",
   "execution_count": null,
   "metadata": {
    "id": "d9oqCHwE9-PK"
   },
   "outputs": [],
   "source": [
    "def f(*args, **kwargs):\n",
    "  print(kwargs)\n",
    "  print(args)\n",
    "  print(*kwargs)"
   ]
  },
  {
   "cell_type": "code",
   "execution_count": null,
   "metadata": {
    "colab": {
     "base_uri": "https://localhost:8080/"
    },
    "executionInfo": {
     "elapsed": 359,
     "status": "ok",
     "timestamp": 1629218132259,
     "user": {
      "displayName": "Intro Python",
      "photoUrl": "",
      "userId": "07941982911866096271"
     },
     "user_tz": -240
    },
    "id": "6yw251r49-PL",
    "outputId": "4ef1bb60-2ddd-401c-a81c-b7ff52aac17f"
   },
   "outputs": [
    {
     "name": "stdout",
     "output_type": "stream",
     "text": [
      "{'x': '10', 'y': '21', 'z': '1283'}\n",
      "(1, 2, 3, 4, 5, 6, 7)\n",
      "x y z\n"
     ]
    }
   ],
   "source": [
    "f(1, 2, 3, 4, 5, 6, 7, x='10', y='21', z='1283')"
   ]
  },
  {
   "cell_type": "markdown",
   "metadata": {
    "id": "gB75MOyC9-PM"
   },
   "source": [
    "## Return Statement"
   ]
  },
  {
   "cell_type": "markdown",
   "metadata": {
    "id": "ymwEZixP9-PM"
   },
   "source": [
    "Եթե ֆունկցիան պետք է արժեք վերադարձնի, դա անում ենք return-ի միջոցով։ Վերադարձված արժեքը կարող ենք պահել փոփոխականի մեջ, փոխանցել այլ ֆունկցիայի և այլն։"
   ]
  },
  {
   "cell_type": "code",
   "execution_count": null,
   "metadata": {
    "colab": {
     "base_uri": "https://localhost:8080/"
    },
    "executionInfo": {
     "elapsed": 4702,
     "status": "ok",
     "timestamp": 1629218507266,
     "user": {
      "displayName": "Intro Python",
      "photoUrl": "",
      "userId": "07941982911866096271"
     },
     "user_tz": -240
    },
    "id": "h-FUvApo9-PP",
    "outputId": "14bef3b4-29dd-4d88-ecda-4af1c9f9bbca"
   },
   "outputs": [
    {
     "name": "stdout",
     "output_type": "stream",
     "text": [
      "Start: 0\n",
      "End: 1000\n"
     ]
    },
    {
     "data": {
      "text/plain": [
       "404"
      ]
     },
     "execution_count": 124,
     "metadata": {
      "tags": []
     },
     "output_type": "execute_result"
    }
   ],
   "source": [
    "import random\n",
    "\n",
    "def random_number(start, end):\n",
    "  x = random.randint(start, end)\n",
    "  return x\n",
    "\n",
    "s = int(input('Start: '))\n",
    "e = int(input('End: '))\n",
    "z = random_number(s, e)\n",
    "z"
   ]
  },
  {
   "cell_type": "code",
   "execution_count": null,
   "metadata": {
    "id": "DeQ9Kzdp9-PR"
   },
   "outputs": [],
   "source": []
  },
  {
   "cell_type": "markdown",
   "metadata": {
    "id": "oTiEQLocHZbz"
   },
   "source": [
    "Ինչպես ասացինք ֆունկցիան կարող ենք դոկումենտացնել docstring-երով։ "
   ]
  },
  {
   "cell_type": "code",
   "execution_count": null,
   "metadata": {
    "id": "2p3DIbrf9-PS"
   },
   "outputs": [],
   "source": [
    "def add(x, y, z):\n",
    "  \"\"\"\n",
    "  This function returns sum of given arguments\n",
    "  ============================================\n",
    "  Args:\n",
    "  x (int): First operand\n",
    "  y (int): Second operand\n",
    "  z (int): Third operand\n",
    "  \"\"\"\n",
    "  return x + y + z"
   ]
  },
  {
   "cell_type": "code",
   "execution_count": null,
   "metadata": {
    "id": "LukMN4CERGTo"
   },
   "outputs": [],
   "source": []
  },
  {
   "cell_type": "markdown",
   "metadata": {
    "id": "uq_zTAzG9-PT"
   },
   "source": [
    "**help()** ֆունկցիան ցույց է տալիս ֆունկցիայի docstring-ի մեջ գրված տեքստը։"
   ]
  },
  {
   "cell_type": "code",
   "execution_count": null,
   "metadata": {
    "colab": {
     "base_uri": "https://localhost:8080/"
    },
    "executionInfo": {
     "elapsed": 459,
     "status": "ok",
     "timestamp": 1629218786138,
     "user": {
      "displayName": "Intro Python",
      "photoUrl": "",
      "userId": "07941982911866096271"
     },
     "user_tz": -240
    },
    "id": "yciUU5wS9-PT",
    "outputId": "1c50d6c3-0a2b-4f9d-f75c-5d4dfe27911e"
   },
   "outputs": [
    {
     "name": "stdout",
     "output_type": "stream",
     "text": [
      "Help on function add in module __main__:\n",
      "\n",
      "add(x, y, z)\n",
      "    This function returns sum of given arguments\n",
      "    ============================================\n",
      "    Args:\n",
      "    x (int): First operand\n",
      "    y (int): Second operand\n",
      "    z (int): Third operand\n",
      "\n"
     ]
    }
   ],
   "source": [
    "help(add)"
   ]
  },
  {
   "cell_type": "code",
   "execution_count": null,
   "metadata": {
    "id": "j7LepxVm9-PU"
   },
   "outputs": [],
   "source": []
  },
  {
   "cell_type": "markdown",
   "metadata": {
    "id": "A7Zj7jnl9-PV"
   },
   "source": [
    "Կարող ենք վերադարձնել մի քանի փոփոխական։ Օրինակ գրենք ֆունկցիա, որը կվերադարձնի լիստի առավելագույն և նվազագույն արժեքները"
   ]
  },
  {
   "cell_type": "code",
   "execution_count": null,
   "metadata": {
    "id": "RKwSgLmA9-PV"
   },
   "outputs": [],
   "source": [
    "def max_min(lst):\n",
    "  lst.sort()\n",
    "\n",
    "  return lst[0], lst[-1]"
   ]
  },
  {
   "cell_type": "code",
   "execution_count": null,
   "metadata": {
    "colab": {
     "base_uri": "https://localhost:8080/"
    },
    "executionInfo": {
     "elapsed": 3,
     "status": "ok",
     "timestamp": 1629219472993,
     "user": {
      "displayName": "Intro Python",
      "photoUrl": "",
      "userId": "07941982911866096271"
     },
     "user_tz": -240
    },
    "id": "_PYPgic-9-PW",
    "outputId": "d4eb2cd1-5935-4b8a-ce11-0afe0c6ae4e9"
   },
   "outputs": [
    {
     "name": "stdout",
     "output_type": "stream",
     "text": [
      "x: -555 y: 100\n"
     ]
    }
   ],
   "source": [
    "lst = [2, 3, 1, 4 ,6,100, -555, -1000]\n",
    "\n",
    "x, y = max_min(lst)\n",
    "\n",
    "print('x:', x, 'y:', y)"
   ]
  },
  {
   "cell_type": "code",
   "execution_count": null,
   "metadata": {
    "colab": {
     "base_uri": "https://localhost:8080/"
    },
    "executionInfo": {
     "elapsed": 311,
     "status": "ok",
     "timestamp": 1629219290718,
     "user": {
      "displayName": "Intro Python",
      "photoUrl": "",
      "userId": "07941982911866096271"
     },
     "user_tz": -240
    },
    "id": "089kfDbTCTxf",
    "outputId": "a960e9bb-f8c1-47e8-82e3-17e987419607"
   },
   "outputs": [
    {
     "name": "stdout",
     "output_type": "stream",
     "text": [
      "3\n",
      "6\n"
     ]
    }
   ],
   "source": [
    "x, y = (3, 6)\n",
    "print(x)\n",
    "print(y)"
   ]
  },
  {
   "cell_type": "markdown",
   "metadata": {
    "id": "k3Sx8DwQ9-PW"
   },
   "source": [
    "Վերադարձված մի քանի փոփոխականները default-ով վերադառնում են tuple-ի տեսքով"
   ]
  },
  {
   "cell_type": "code",
   "execution_count": null,
   "metadata": {
    "colab": {
     "base_uri": "https://localhost:8080/"
    },
    "executionInfo": {
     "elapsed": 643,
     "status": "ok",
     "timestamp": 1629219158313,
     "user": {
      "displayName": "Intro Python",
      "photoUrl": "",
      "userId": "07941982911866096271"
     },
     "user_tz": -240
    },
    "id": "pDHh6IrE9-PX",
    "outputId": "d59116d6-021e-40a5-dbb0-61ecc288f070"
   },
   "outputs": [
    {
     "name": "stdout",
     "output_type": "stream",
     "text": [
      "<class 'tuple'>\n"
     ]
    }
   ],
   "source": [
    "print(type(max_min(lst)))"
   ]
  },
  {
   "cell_type": "code",
   "execution_count": null,
   "metadata": {
    "colab": {
     "base_uri": "https://localhost:8080/"
    },
    "executionInfo": {
     "elapsed": 422,
     "status": "ok",
     "timestamp": 1629219189266,
     "user": {
      "displayName": "Intro Python",
      "photoUrl": "",
      "userId": "07941982911866096271"
     },
     "user_tz": -240
    },
    "id": "Nm4siNa19-PY",
    "outputId": "12fcdf0c-33c5-4bb2-eacc-c0e46de0cc9c"
   },
   "outputs": [
    {
     "name": "stdout",
     "output_type": "stream",
     "text": [
      "-555 100\n"
     ]
    }
   ],
   "source": [
    "print(*max_min(lst))"
   ]
  },
  {
   "cell_type": "markdown",
   "metadata": {
    "id": "Vm7lUW759-PY"
   },
   "source": [
    "## Default arguments"
   ]
  },
  {
   "cell_type": "markdown",
   "metadata": {
    "id": "sZY_i3cK9-PZ"
   },
   "source": [
    "Keyword argument-ները գործածվում են, երբ որոշակի արգումենտ սովորաբար պետք է ունենա որոշակի default արժեք։ "
   ]
  },
  {
   "cell_type": "code",
   "execution_count": null,
   "metadata": {
    "id": "q-EPkZ-6JbS8"
   },
   "outputs": [],
   "source": [
    "def implicit_add(a, b, c, k1=6, k2=8):\n",
    "  return a + b + c + k1 + k2"
   ]
  },
  {
   "cell_type": "code",
   "execution_count": null,
   "metadata": {
    "colab": {
     "base_uri": "https://localhost:8080/"
    },
    "executionInfo": {
     "elapsed": 285,
     "status": "ok",
     "timestamp": 1629219661844,
     "user": {
      "displayName": "Intro Python",
      "photoUrl": "",
      "userId": "07941982911866096271"
     },
     "user_tz": -240
    },
    "id": "qR29xbsDV13-",
    "outputId": "5585e806-8080-4c49-b2d7-9bfaf4270d76"
   },
   "outputs": [
    {
     "data": {
      "text/plain": [
       "8"
      ]
     },
     "execution_count": 142,
     "metadata": {
      "tags": []
     },
     "output_type": "execute_result"
    }
   ],
   "source": [
    "implicit_add(1, 2, 3, k1=0, k2=2)"
   ]
  },
  {
   "cell_type": "code",
   "execution_count": null,
   "metadata": {
    "colab": {
     "base_uri": "https://localhost:8080/"
    },
    "executionInfo": {
     "elapsed": 466,
     "status": "ok",
     "timestamp": 1629219764505,
     "user": {
      "displayName": "Intro Python",
      "photoUrl": "",
      "userId": "07941982911866096271"
     },
     "user_tz": -240
    },
    "id": "jlzuOBAYW0IE",
    "outputId": "e7b06d8c-4b33-4341-9130-774b670bed73"
   },
   "outputs": [
    {
     "data": {
      "text/plain": [
       "14"
      ]
     },
     "execution_count": 144,
     "metadata": {
      "tags": []
     },
     "output_type": "execute_result"
    }
   ],
   "source": [
    "implicit_add(1, 2, 3, k2=2)"
   ]
  },
  {
   "cell_type": "code",
   "execution_count": null,
   "metadata": {
    "id": "235pAiv2EIyv"
   },
   "outputs": [],
   "source": []
  },
  {
   "cell_type": "markdown",
   "metadata": {
    "id": "7POSTnb3JfGl"
   },
   "source": [
    "Իրական կյանքում օգտագործվող դեպք՝"
   ]
  },
  {
   "cell_type": "code",
   "execution_count": null,
   "metadata": {
    "id": "0rxjxF2sI5fH"
   },
   "outputs": [],
   "source": [
    "def grav_force(m, g=9.8):\n",
    "  return m * g"
   ]
  },
  {
   "cell_type": "code",
   "execution_count": null,
   "metadata": {
    "colab": {
     "base_uri": "https://localhost:8080/"
    },
    "executionInfo": {
     "elapsed": 429,
     "status": "ok",
     "timestamp": 1629219824955,
     "user": {
      "displayName": "Intro Python",
      "photoUrl": "",
      "userId": "07941982911866096271"
     },
     "user_tz": -240
    },
    "id": "bCW0xM6lXrdk",
    "outputId": "b8a0da40-1733-4250-9179-c31313a4f7d1"
   },
   "outputs": [
    {
     "name": "stdout",
     "output_type": "stream",
     "text": [
      "98.0N\n"
     ]
    }
   ],
   "source": [
    "print('{}N'.format(grav_force(10)))"
   ]
  },
  {
   "cell_type": "code",
   "execution_count": null,
   "metadata": {
    "colab": {
     "base_uri": "https://localhost:8080/"
    },
    "executionInfo": {
     "elapsed": 579,
     "status": "ok",
     "timestamp": 1629219850667,
     "user": {
      "displayName": "Intro Python",
      "photoUrl": "",
      "userId": "07941982911866096271"
     },
     "user_tz": -240
    },
    "id": "8IzFctBOEcWe",
    "outputId": "616058b5-9140-4ab6-954c-269e983efee7"
   },
   "outputs": [
    {
     "data": {
      "text/plain": [
       "97.89999999999999"
      ]
     },
     "execution_count": 148,
     "metadata": {
      "tags": []
     },
     "output_type": "execute_result"
    }
   ],
   "source": [
    "grav_force(10, 9.79)"
   ]
  },
  {
   "cell_type": "markdown",
   "metadata": {
    "id": "Mhz62AzEJAQ2"
   },
   "source": [
    "Եթե գործ ունենք այլ մոլորակների հետ, կամ գրավիտացիոն հաստատունի ավելի ճշգրիտ արժեքն է պետք, այդ ժամանակ կարող ենք այն փոփոխել։"
   ]
  },
  {
   "cell_type": "code",
   "execution_count": null,
   "metadata": {
    "colab": {
     "base_uri": "https://localhost:8080/"
    },
    "executionInfo": {
     "elapsed": 432,
     "status": "ok",
     "timestamp": 1629219876499,
     "user": {
      "displayName": "Intro Python",
      "photoUrl": "",
      "userId": "07941982911866096271"
     },
     "user_tz": -240
    },
    "id": "4xqTXbCFJJa8",
    "outputId": "5364255f-8c93-47e5-fb26-748d49934afc"
   },
   "outputs": [
    {
     "data": {
      "text/plain": [
       "35.0"
      ]
     },
     "execution_count": 149,
     "metadata": {
      "tags": []
     },
     "output_type": "execute_result"
    }
   ],
   "source": [
    "grav_force(10, 3.5)"
   ]
  },
  {
   "cell_type": "code",
   "execution_count": null,
   "metadata": {
    "id": "c-5KTumV9-PZ"
   },
   "outputs": [],
   "source": []
  },
  {
   "cell_type": "markdown",
   "metadata": {
    "id": "BkWKN3r-9-Pa"
   },
   "source": [
    "Վերցնենք վերևում հայտարարած **sort()** ֆունկցիան։ Այն միայն աճման կարգով է սորտավորում։ Եթե ուզում ենք ցանկության դեպքում նվազման կարգով դասավորել, կարող ենք ավելացնել keyword արգումենտ։"
   ]
  },
  {
   "cell_type": "code",
   "execution_count": null,
   "metadata": {
    "id": "sslPUXGoINXo"
   },
   "outputs": [],
   "source": [
    "def sort(lst, reverse=False):\n",
    "  if not reverse:\n",
    "    for i in range(len(lst)):\n",
    "      for j in range(len(lst)):\n",
    "        if lst[i] < lst[j]:\n",
    "          lst[i], lst[j] = lst[j], lst[i]\n",
    "  else:\n",
    "    for i in range(len(lst)):\n",
    "      for j in range(len(lst)):\n",
    "        if lst[i] > lst[j]:\n",
    "          lst[i], lst[j] = lst[j], lst[i]\n",
    "\n",
    "  return lst"
   ]
  },
  {
   "cell_type": "code",
   "execution_count": null,
   "metadata": {
    "colab": {
     "base_uri": "https://localhost:8080/"
    },
    "executionInfo": {
     "elapsed": 576,
     "status": "ok",
     "timestamp": 1629220028865,
     "user": {
      "displayName": "Intro Python",
      "photoUrl": "",
      "userId": "07941982911866096271"
     },
     "user_tz": -240
    },
    "id": "wzqFe6Cg9-Pb",
    "outputId": "b95b4367-98a9-4c2f-c8c4-1d4d91f1b436"
   },
   "outputs": [
    {
     "data": {
      "text/plain": [
       "[-1000, -555, 1, 2, 3, 4, 6, 100]"
      ]
     },
     "execution_count": 152,
     "metadata": {
      "tags": []
     },
     "output_type": "execute_result"
    }
   ],
   "source": [
    "sort(lst)"
   ]
  },
  {
   "cell_type": "code",
   "execution_count": null,
   "metadata": {
    "colab": {
     "base_uri": "https://localhost:8080/"
    },
    "executionInfo": {
     "elapsed": 2,
     "status": "ok",
     "timestamp": 1629220040444,
     "user": {
      "displayName": "Intro Python",
      "photoUrl": "",
      "userId": "07941982911866096271"
     },
     "user_tz": -240
    },
    "id": "76KknnnOFMwQ",
    "outputId": "df3abbeb-8183-4e70-8d06-e372d1a193de"
   },
   "outputs": [
    {
     "data": {
      "text/plain": [
       "[100, 6, 4, 3, 2, 1, -555, -1000]"
      ]
     },
     "execution_count": 153,
     "metadata": {
      "tags": []
     },
     "output_type": "execute_result"
    }
   ],
   "source": [
    "sort(lst, reverse=True)"
   ]
  },
  {
   "cell_type": "markdown",
   "metadata": {
    "id": "ZjJEFnVR9-Pc"
   },
   "source": [
    "Այնուհետև փոխենք descending-ը True-ի\n",
    "\n"
   ]
  },
  {
   "cell_type": "code",
   "execution_count": null,
   "metadata": {
    "id": "Cv6gLpvv9-Pc"
   },
   "outputs": [],
   "source": []
  },
  {
   "cell_type": "markdown",
   "metadata": {
    "id": "8vVbz9aZC9NL"
   },
   "source": [
    "## Type Hinting"
   ]
  },
  {
   "cell_type": "markdown",
   "metadata": {
    "id": "m5LddcPTDB6l"
   },
   "source": [
    "Ինչպես արդեն գիտենք, Python-ը դինամիկ տիպավորմամբ լեզու է։ Սակայն Python 3.5-ից սկսված, լեզվում առկա է տիպերի հուշման համակարգը։ Դրա միջոցով կոդը գործածողներին կարելի է հուշել, թե տվյալ փոփոխականը, ֆունկցիայի արգումենտները, վերադարձվող արժեքը ինչ տիպի պետք է լինեն։\n",
    "\n",
    "Դա արվում է ':'-ի միջոցով։"
   ]
  },
  {
   "cell_type": "code",
   "execution_count": null,
   "metadata": {
    "colab": {
     "base_uri": "https://localhost:8080/"
    },
    "executionInfo": {
     "elapsed": 545,
     "status": "ok",
     "timestamp": 1629220295159,
     "user": {
      "displayName": "Intro Python",
      "photoUrl": "",
      "userId": "07941982911866096271"
     },
     "user_tz": -240
    },
    "id": "p4Ka4fc4DA53",
    "outputId": "3f74ad0a-8bb3-45cc-c603-9a1a10258cb2"
   },
   "outputs": [
    {
     "name": "stdout",
     "output_type": "stream",
     "text": [
      "We need to buy 5x 10\n"
     ]
    }
   ],
   "source": [
    "def shopping_list(food_name: str, count: int):\n",
    "  print(f'We need to buy {count}x {food_name}')\n",
    "\n",
    "shopping_list('Apple', 5)"
   ]
  },
  {
   "cell_type": "code",
   "execution_count": null,
   "metadata": {
    "id": "BpACy1TBGeTi"
   },
   "outputs": [],
   "source": [
    "def shopping_list(food_name: str, count: int) -> str:\n",
    "  return f'We need to buy {count}x {food_name}'\n",
    "\n"
   ]
  },
  {
   "cell_type": "code",
   "execution_count": null,
   "metadata": {
    "colab": {
     "base_uri": "https://localhost:8080/",
     "height": 36
    },
    "executionInfo": {
     "elapsed": 9,
     "status": "ok",
     "timestamp": 1629220402696,
     "user": {
      "displayName": "Intro Python",
      "photoUrl": "",
      "userId": "07941982911866096271"
     },
     "user_tz": -240
    },
    "id": "7yj8WGjSGjsY",
    "outputId": "ab1a78ed-9e7e-47b8-9f17-5674fcc09723"
   },
   "outputs": [
    {
     "data": {
      "application/vnd.google.colaboratory.intrinsic+json": {
       "type": "string"
      },
      "text/plain": [
       "'We need to buy 5x Apple'"
      ]
     },
     "execution_count": 160,
     "metadata": {
      "tags": []
     },
     "output_type": "execute_result"
    }
   ],
   "source": [
    "shopping = shopping_list('Apple', 5)\n",
    "shopping"
   ]
  },
  {
   "cell_type": "code",
   "execution_count": null,
   "metadata": {
    "id": "0ktT0QQcHHnE"
   },
   "outputs": [],
   "source": [
    "count: int = 8\n",
    "switch: bool = False"
   ]
  },
  {
   "cell_type": "markdown",
   "metadata": {
    "id": "N9UqKN3c9-Pd"
   },
   "source": [
    "## Any number of arguments"
   ]
  },
  {
   "cell_type": "markdown",
   "metadata": {
    "id": "yPkdKgY19-Pd"
   },
   "source": [
    "Ինչպես արդեն խոսեցինք, ***args**-ի միջոցով կարող ենք ցանկացած քանակությամբ արգումենտ տալ ֆունկցիային։\n",
    "\n"
   ]
  },
  {
   "cell_type": "code",
   "execution_count": null,
   "metadata": {
    "id": "gCsu3SiV9-Pe"
   },
   "outputs": [],
   "source": [
    "def my_sum(*args):\n",
    "  result = 0\n",
    "\n",
    "  for element in args:\n",
    "    # result = result + element\n",
    "    result += element\n",
    "    \n",
    "  return result"
   ]
  },
  {
   "cell_type": "code",
   "execution_count": null,
   "metadata": {
    "id": "ej1UW3wtL7eL"
   },
   "outputs": [],
   "source": [
    "def my_append(*args):\n",
    "  result = []\n",
    "\n",
    "  for element in args:\n",
    "    # result = result + element\n",
    "    result.append(element)\n",
    "    \n",
    "  return result"
   ]
  },
  {
   "cell_type": "code",
   "execution_count": null,
   "metadata": {
    "colab": {
     "base_uri": "https://localhost:8080/"
    },
    "executionInfo": {
     "elapsed": 414,
     "status": "ok",
     "timestamp": 1629221364852,
     "user": {
      "displayName": "Intro Python",
      "photoUrl": "",
      "userId": "07941982911866096271"
     },
     "user_tz": -240
    },
    "id": "51TyPrQQ9-Pf",
    "outputId": "a887f1db-7ea0-4814-e960-1f22e4f71858"
   },
   "outputs": [
    {
     "name": "stdout",
     "output_type": "stream",
     "text": [
      "-1427\n"
     ]
    }
   ],
   "source": [
    "\n",
    "print(my_sum(100, 6, 4, 3, 2, 1, -555, -1000, 5, 6, 1))"
   ]
  },
  {
   "cell_type": "code",
   "execution_count": null,
   "metadata": {
    "id": "3_0mEYMe9-Pg"
   },
   "outputs": [],
   "source": [
    "def my_sum(lst):\n",
    "  result = 0\n",
    "\n",
    "  for element in lst:\n",
    "    # result = result + element\n",
    "    result += element\n",
    "    \n",
    "  return result"
   ]
  },
  {
   "cell_type": "code",
   "execution_count": null,
   "metadata": {
    "colab": {
     "base_uri": "https://localhost:8080/",
     "height": 292
    },
    "executionInfo": {
     "elapsed": 7,
     "status": "error",
     "timestamp": 1629221206170,
     "user": {
      "displayName": "Intro Python",
      "photoUrl": "",
      "userId": "07941982911866096271"
     },
     "user_tz": -240
    },
    "id": "zu7eu8HKaqc1",
    "outputId": "451d3438-a7bf-48f5-f45d-432c8f6950e2"
   },
   "outputs": [
    {
     "ename": "UnboundLocalError",
     "evalue": "ignored",
     "output_type": "error",
     "traceback": [
      "\u001b[0;31m---------------------------------------------------------------------------\u001b[0m",
      "\u001b[0;31mUnboundLocalError\u001b[0m                         Traceback (most recent call last)",
      "\u001b[0;32m<ipython-input-174-133b57f26d4b>\u001b[0m in \u001b[0;36m<module>\u001b[0;34m()\u001b[0m\n\u001b[0;32m----> 1\u001b[0;31m \u001b[0mmy_sum\u001b[0m\u001b[0;34m(\u001b[0m\u001b[0mlst\u001b[0m\u001b[0;34m)\u001b[0m\u001b[0;34m\u001b[0m\u001b[0;34m\u001b[0m\u001b[0m\n\u001b[0m",
      "\u001b[0;32m<ipython-input-173-c0d301c1db90>\u001b[0m in \u001b[0;36mmy_sum\u001b[0;34m(lst)\u001b[0m\n\u001b[1;32m      4\u001b[0m   \u001b[0;32mfor\u001b[0m \u001b[0melement\u001b[0m \u001b[0;32min\u001b[0m \u001b[0mlst\u001b[0m\u001b[0;34m:\u001b[0m\u001b[0;34m\u001b[0m\u001b[0;34m\u001b[0m\u001b[0m\n\u001b[1;32m      5\u001b[0m     \u001b[0;31m# result = result + element\u001b[0m\u001b[0;34m\u001b[0m\u001b[0;34m\u001b[0m\u001b[0;34m\u001b[0m\u001b[0m\n\u001b[0;32m----> 6\u001b[0;31m     \u001b[0mresult\u001b[0m \u001b[0;34m+=\u001b[0m \u001b[0melement\u001b[0m\u001b[0;34m\u001b[0m\u001b[0;34m\u001b[0m\u001b[0m\n\u001b[0m\u001b[1;32m      7\u001b[0m \u001b[0;34m\u001b[0m\u001b[0m\n\u001b[1;32m      8\u001b[0m   \u001b[0;32mreturn\u001b[0m \u001b[0mresult\u001b[0m\u001b[0;34m\u001b[0m\u001b[0;34m\u001b[0m\u001b[0m\n",
      "\u001b[0;31mUnboundLocalError\u001b[0m: local variable 'result' referenced before assignment"
     ]
    }
   ],
   "source": [
    "my_sum(lst)"
   ]
  },
  {
   "cell_type": "markdown",
   "metadata": {
    "id": "Ckl0vvxV9-Pg"
   },
   "source": [
    "Անսահմանափակ Keyword argument-ների համար՝"
   ]
  },
  {
   "cell_type": "code",
   "execution_count": null,
   "metadata": {
    "id": "-7Qp-pK-9-Ph"
   },
   "outputs": [],
   "source": [
    "def my_other_sum(**kwargs):\n",
    "  result = 0\n",
    "\n",
    "  for value in kwargs.values():\n",
    "    result += value\n",
    "\n",
    "  return result"
   ]
  },
  {
   "cell_type": "code",
   "execution_count": null,
   "metadata": {
    "colab": {
     "base_uri": "https://localhost:8080/"
    },
    "executionInfo": {
     "elapsed": 755,
     "status": "ok",
     "timestamp": 1629221144862,
     "user": {
      "displayName": "Intro Python",
      "photoUrl": "",
      "userId": "07941982911866096271"
     },
     "user_tz": -240
    },
    "id": "H5CLfs_f9-Ph",
    "outputId": "0dac9e7f-f99b-4294-80b3-3eb64d7e663f"
   },
   "outputs": [
    {
     "name": "stdout",
     "output_type": "stream",
     "text": [
      "{'k': 1, 'x': 14, 'y': 21, 'i': 190}\n"
     ]
    },
    {
     "data": {
      "text/plain": [
       "226"
      ]
     },
     "execution_count": 172,
     "metadata": {
      "tags": []
     },
     "output_type": "execute_result"
    }
   ],
   "source": [
    "my_other_sum(k=1, x=14, y=21, i=190)"
   ]
  },
  {
   "cell_type": "code",
   "execution_count": null,
   "metadata": {
    "colab": {
     "base_uri": "https://localhost:8080/",
     "height": 399
    },
    "executionInfo": {
     "elapsed": 5782,
     "status": "error",
     "timestamp": 1629221592813,
     "user": {
      "displayName": "Intro Python",
      "photoUrl": "",
      "userId": "07941982911866096271"
     },
     "user_tz": -240
    },
    "id": "pRTcx0OMKkTH",
    "outputId": "2315e484-c50c-4189-8ee2-96f3b2fefd79"
   },
   "outputs": [
    {
     "name": "stdout",
     "output_type": "stream",
     "text": [
      "5\n",
      "2\n",
      "7\n",
      "quit\n"
     ]
    },
    {
     "ename": "TypeError",
     "evalue": "ignored",
     "output_type": "error",
     "traceback": [
      "\u001b[0;31m---------------------------------------------------------------------------\u001b[0m",
      "\u001b[0;31mTypeError\u001b[0m                                 Traceback (most recent call last)",
      "\u001b[0;32m<ipython-input-183-110aca46f8c4>\u001b[0m in \u001b[0;36m<module>\u001b[0;34m()\u001b[0m\n\u001b[1;32m      9\u001b[0m \u001b[0;34m\u001b[0m\u001b[0m\n\u001b[1;32m     10\u001b[0m \u001b[0;34m\u001b[0m\u001b[0m\n\u001b[0;32m---> 11\u001b[0;31m \u001b[0mmy_sum\u001b[0m\u001b[0;34m(\u001b[0m\u001b[0mlst\u001b[0m\u001b[0;34m)\u001b[0m\u001b[0;34m\u001b[0m\u001b[0;34m\u001b[0m\u001b[0m\n\u001b[0m",
      "\u001b[0;32m<ipython-input-176-a845587f9736>\u001b[0m in \u001b[0;36mmy_sum\u001b[0;34m(*args)\u001b[0m\n\u001b[1;32m      4\u001b[0m   \u001b[0;32mfor\u001b[0m \u001b[0melement\u001b[0m \u001b[0;32min\u001b[0m \u001b[0margs\u001b[0m\u001b[0;34m:\u001b[0m\u001b[0;34m\u001b[0m\u001b[0;34m\u001b[0m\u001b[0m\n\u001b[1;32m      5\u001b[0m     \u001b[0;31m# result = result + element\u001b[0m\u001b[0;34m\u001b[0m\u001b[0;34m\u001b[0m\u001b[0;34m\u001b[0m\u001b[0m\n\u001b[0;32m----> 6\u001b[0;31m     \u001b[0mresult\u001b[0m \u001b[0;34m+=\u001b[0m \u001b[0melement\u001b[0m\u001b[0;34m\u001b[0m\u001b[0;34m\u001b[0m\u001b[0m\n\u001b[0m\u001b[1;32m      7\u001b[0m \u001b[0;34m\u001b[0m\u001b[0m\n\u001b[1;32m      8\u001b[0m   \u001b[0;32mreturn\u001b[0m \u001b[0mresult\u001b[0m\u001b[0;34m\u001b[0m\u001b[0;34m\u001b[0m\u001b[0m\n",
      "\u001b[0;31mTypeError\u001b[0m: unsupported operand type(s) for +=: 'int' and 'list'"
     ]
    }
   ],
   "source": [
    "lst = []\n",
    "\n",
    "while True:\n",
    "  x = input()\n",
    "  \n",
    "  if x == 'quit':\n",
    "    break\n",
    "  lst.append(int(x))\n",
    "\n",
    "my_sum(lst)"
   ]
  },
  {
   "cell_type": "markdown",
   "metadata": {
    "id": "qZlNgfFJ9-Pi"
   },
   "source": [
    "## Lambda Functions"
   ]
  },
  {
   "cell_type": "markdown",
   "metadata": {
    "id": "atHeVpZ29-Pi"
   },
   "source": [
    "Lambda ֆունկցիաները սովորաբար չունեն անուն և պարունակում են մի գործողություն։ Դրանք հայտարարվում են, որպես \n",
    "\n",
    "```python\n",
    "lambda <argument>: <statement>\n",
    "```\n"
   ]
  },
  {
   "cell_type": "markdown",
   "metadata": {
    "id": "cHMWZovFt_E4"
   },
   "source": [
    "Այս ֆունկցիաները ցանկալի չէ վերագրել փոփոխականների, սակայն կարելի է։"
   ]
  },
  {
   "cell_type": "code",
   "execution_count": 2,
   "metadata": {
    "executionInfo": {
     "elapsed": 292,
     "status": "ok",
     "timestamp": 1629819242632,
     "user": {
      "displayName": "Intro Python",
      "photoUrl": "",
      "userId": "07941982911866096271"
     },
     "user_tz": -240
    },
    "id": "CmoXBXJM9-Pj"
   },
   "outputs": [],
   "source": [
    "z = lambda x: x ** 2"
   ]
  },
  {
   "cell_type": "code",
   "execution_count": 3,
   "metadata": {
    "colab": {
     "base_uri": "https://localhost:8080/"
    },
    "executionInfo": {
     "elapsed": 275,
     "status": "ok",
     "timestamp": 1629819249147,
     "user": {
      "displayName": "Intro Python",
      "photoUrl": "",
      "userId": "07941982911866096271"
     },
     "user_tz": -240
    },
    "id": "luQj_JcU9-Pk",
    "outputId": "4f70dfd4-0900-4e5f-c1f7-00eb50b0ae34"
   },
   "outputs": [
    {
     "data": {
      "text/plain": [
       "4"
      ]
     },
     "execution_count": 3,
     "metadata": {},
     "output_type": "execute_result"
    }
   ],
   "source": [
    "z(2)"
   ]
  },
  {
   "cell_type": "code",
   "execution_count": 4,
   "metadata": {
    "colab": {
     "base_uri": "https://localhost:8080/"
    },
    "executionInfo": {
     "elapsed": 312,
     "status": "ok",
     "timestamp": 1629819255594,
     "user": {
      "displayName": "Intro Python",
      "photoUrl": "",
      "userId": "07941982911866096271"
     },
     "user_tz": -240
    },
    "id": "KanI3lC9zCpF",
    "outputId": "4044cdc6-ed75-47d5-8bbc-05c1eb8efb4d"
   },
   "outputs": [
    {
     "data": {
      "text/plain": [
       "81"
      ]
     },
     "execution_count": 4,
     "metadata": {},
     "output_type": "execute_result"
    }
   ],
   "source": [
    "z(9)"
   ]
  },
  {
   "cell_type": "markdown",
   "metadata": {
    "id": "Lasmrk7XuOJz"
   },
   "source": [
    "Լամբդաները կարող են ունենալ մի քանի արգումենտ։"
   ]
  },
  {
   "cell_type": "code",
   "execution_count": 5,
   "metadata": {
    "executionInfo": {
     "elapsed": 291,
     "status": "ok",
     "timestamp": 1629819283419,
     "user": {
      "displayName": "Intro Python",
      "photoUrl": "",
      "userId": "07941982911866096271"
     },
     "user_tz": -240
    },
    "id": "v7RYuXka9-Pk"
   },
   "outputs": [],
   "source": [
    "lambda_func = lambda x, y, z: x + y + z"
   ]
  },
  {
   "cell_type": "code",
   "execution_count": 6,
   "metadata": {
    "colab": {
     "base_uri": "https://localhost:8080/"
    },
    "executionInfo": {
     "elapsed": 260,
     "status": "ok",
     "timestamp": 1629819289583,
     "user": {
      "displayName": "Intro Python",
      "photoUrl": "",
      "userId": "07941982911866096271"
     },
     "user_tz": -240
    },
    "id": "QMyn8-VX9-Pl",
    "outputId": "1d37f5ce-5e62-4f66-e3f2-dba322635311"
   },
   "outputs": [
    {
     "data": {
      "text/plain": [
       "9"
      ]
     },
     "execution_count": 6,
     "metadata": {},
     "output_type": "execute_result"
    }
   ],
   "source": [
    "lambda_func(2, 3, 4)"
   ]
  },
  {
   "cell_type": "code",
   "execution_count": 7,
   "metadata": {
    "executionInfo": {
     "elapsed": 272,
     "status": "ok",
     "timestamp": 1629819308744,
     "user": {
      "displayName": "Intro Python",
      "photoUrl": "",
      "userId": "07941982911866096271"
     },
     "user_tz": -240
    },
    "id": "CbSOf4CJzOwQ"
   },
   "outputs": [],
   "source": [
    "lambda_func = lambda x, y, z=5: x + y + z"
   ]
  },
  {
   "cell_type": "code",
   "execution_count": 9,
   "metadata": {
    "colab": {
     "base_uri": "https://localhost:8080/"
    },
    "executionInfo": {
     "elapsed": 266,
     "status": "ok",
     "timestamp": 1629819329912,
     "user": {
      "displayName": "Intro Python",
      "photoUrl": "",
      "userId": "07941982911866096271"
     },
     "user_tz": -240
    },
    "id": "5mWzbslUzRED",
    "outputId": "c60103a5-74bd-4564-885b-bde4b9cc2fa5"
   },
   "outputs": [
    {
     "data": {
      "text/plain": [
       "17"
      ]
     },
     "execution_count": 9,
     "metadata": {},
     "output_type": "execute_result"
    }
   ],
   "source": [
    "lambda_func(3, 4, z=10)"
   ]
  },
  {
   "cell_type": "code",
   "execution_count": 10,
   "metadata": {
    "colab": {
     "base_uri": "https://localhost:8080/"
    },
    "executionInfo": {
     "elapsed": 254,
     "status": "ok",
     "timestamp": 1629819362292,
     "user": {
      "displayName": "Intro Python",
      "photoUrl": "",
      "userId": "07941982911866096271"
     },
     "user_tz": -240
    },
    "id": "lCDJaOZKzdEs",
    "outputId": "2684d679-6431-4602-9c09-09c190b83c4c"
   },
   "outputs": [
    {
     "data": {
      "text/plain": [
       "<function __main__.<lambda>>"
      ]
     },
     "execution_count": 10,
     "metadata": {},
     "output_type": "execute_result"
    }
   ],
   "source": [
    "lambda x, y, z=5: x + y + z"
   ]
  },
  {
   "cell_type": "markdown",
   "metadata": {
    "id": "mu382BEI9-Pm"
   },
   "source": [
    "### map"
   ]
  },
  {
   "cell_type": "markdown",
   "metadata": {
    "id": "T4-aEvo99-Pn"
   },
   "source": [
    "**map( )** ֆունկցիան վերցնում է երկու արգումենտ։ Ֆունկցիա և իտերացվող կառուցվածք։ Երբ map()-ը կանչում ենք, այն տրված կառուցվածքի յուրաքանչյուր տարրի վրա կատարում է տրված ֆունկցիան։ Այստեղ շատ են պետք գալիս **lambda**-ները։"
   ]
  },
  {
   "cell_type": "code",
   "execution_count": 11,
   "metadata": {
    "executionInfo": {
     "elapsed": 246,
     "status": "ok",
     "timestamp": 1629819468951,
     "user": {
      "displayName": "Intro Python",
      "photoUrl": "",
      "userId": "07941982911866096271"
     },
     "user_tz": -240
    },
    "id": "nXUD3rty9-Po"
   },
   "outputs": [],
   "source": [
    "lst = [1, 2, 3, 4, 5, 6, 7, 8, 9]\n",
    "\n",
    "def square(lst):\n",
    "  result = []\n",
    "\n",
    "  for item in lst:\n",
    "    result.append(item ** 2)\n",
    "\n",
    "  return result"
   ]
  },
  {
   "cell_type": "code",
   "execution_count": 12,
   "metadata": {
    "colab": {
     "base_uri": "https://localhost:8080/"
    },
    "executionInfo": {
     "elapsed": 251,
     "status": "ok",
     "timestamp": 1629819474757,
     "user": {
      "displayName": "Intro Python",
      "photoUrl": "",
      "userId": "07941982911866096271"
     },
     "user_tz": -240
    },
    "id": "7caNKaSbd_sC",
    "outputId": "4ba172e3-3afa-4fc9-a896-446573f582e8"
   },
   "outputs": [
    {
     "data": {
      "text/plain": [
       "[1, 4, 9, 16, 25, 36, 49, 64, 81]"
      ]
     },
     "execution_count": 12,
     "metadata": {},
     "output_type": "execute_result"
    }
   ],
   "source": [
    "square(lst)"
   ]
  },
  {
   "cell_type": "code",
   "execution_count": 20,
   "metadata": {
    "executionInfo": {
     "elapsed": 308,
     "status": "ok",
     "timestamp": 1629819635946,
     "user": {
      "displayName": "Intro Python",
      "photoUrl": "",
      "userId": "07941982911866096271"
     },
     "user_tz": -240
    },
    "id": "arGiqxyY9-Pq"
   },
   "outputs": [],
   "source": [
    "list_2 = list(map(lambda x: x ** 2, lst))"
   ]
  },
  {
   "cell_type": "code",
   "execution_count": 21,
   "metadata": {
    "colab": {
     "base_uri": "https://localhost:8080/"
    },
    "executionInfo": {
     "elapsed": 9,
     "status": "ok",
     "timestamp": 1629819637201,
     "user": {
      "displayName": "Intro Python",
      "photoUrl": "",
      "userId": "07941982911866096271"
     },
     "user_tz": -240
    },
    "id": "j5iquYwI9-Pr",
    "outputId": "62d5de01-8a6e-4c04-ab3d-ae780d037c08"
   },
   "outputs": [
    {
     "data": {
      "text/plain": [
       "['1', '2', '3', '4', '5', '6', '7', '8', '9']"
      ]
     },
     "execution_count": 21,
     "metadata": {},
     "output_type": "execute_result"
    }
   ],
   "source": [
    "list_2"
   ]
  },
  {
   "cell_type": "markdown",
   "metadata": {
    "id": "Nb3I0Ejb9-Ps"
   },
   "source": [
    "Կարելի է տալ երկու լիստ, իսկ ֆունկցիային երկու արգումենտ։ Առաջինը կհամապատասխանի առաջին տրված լիստ-ին, երկրորդը՝ երկրորդին։ Օրինակ եկեք գումարենք երկու լիստի տարրերն իրար։"
   ]
  },
  {
   "cell_type": "code",
   "execution_count": 30,
   "metadata": {
    "colab": {
     "base_uri": "https://localhost:8080/"
    },
    "executionInfo": {
     "elapsed": 255,
     "status": "ok",
     "timestamp": 1629819857746,
     "user": {
      "displayName": "Intro Python",
      "photoUrl": "",
      "userId": "07941982911866096271"
     },
     "user_tz": -240
    },
    "id": "u0SjY65Z9-Ps",
    "outputId": "34e40150-6435-4ff5-d0d9-4aaa75d0d70b"
   },
   "outputs": [
    {
     "data": {
      "text/plain": [
       "8"
      ]
     },
     "execution_count": 30,
     "metadata": {},
     "output_type": "execute_result"
    }
   ],
   "source": [
    "list_1 = [1, 2, 3, 4, 5, 6, 7, 8, 9]\n",
    "list_2 = [9, 8, 7, 6, 5, 4, 3, 2]\n",
    "len(list_2)"
   ]
  },
  {
   "cell_type": "code",
   "execution_count": 35,
   "metadata": {
    "executionInfo": {
     "elapsed": 1077,
     "status": "ok",
     "timestamp": 1629819957558,
     "user": {
      "displayName": "Intro Python",
      "photoUrl": "",
      "userId": "07941982911866096271"
     },
     "user_tz": -240
    },
    "id": "5f5t3qv-9-Pt"
   },
   "outputs": [],
   "source": [
    "list_3 = tuple(map(lambda x, y: x + y, list_1, list_2))"
   ]
  },
  {
   "cell_type": "code",
   "execution_count": 36,
   "metadata": {
    "colab": {
     "base_uri": "https://localhost:8080/"
    },
    "executionInfo": {
     "elapsed": 7,
     "status": "ok",
     "timestamp": 1629819957841,
     "user": {
      "displayName": "Intro Python",
      "photoUrl": "",
      "userId": "07941982911866096271"
     },
     "user_tz": -240
    },
    "id": "8Hqvp7eO9-Pu",
    "outputId": "f5b3710a-4f67-4af3-bb64-17ea35c03a3a"
   },
   "outputs": [
    {
     "data": {
      "text/plain": [
       "(10, 10, 10, 10, 10, 10, 10, 10)"
      ]
     },
     "execution_count": 36,
     "metadata": {},
     "output_type": "execute_result"
    }
   ],
   "source": [
    "list_3"
   ]
  },
  {
   "cell_type": "code",
   "execution_count": null,
   "metadata": {
    "id": "xaR7WJ4U9-Pu"
   },
   "outputs": [],
   "source": []
  },
  {
   "cell_type": "markdown",
   "metadata": {
    "id": "cSN4bKyJ9-Pw"
   },
   "source": [
    "Բացի լամբդաներից, ցանկացած ֆունկցիա կարող ենք օգտագործել։"
   ]
  },
  {
   "cell_type": "code",
   "execution_count": 2,
   "metadata": {
    "executionInfo": {
     "elapsed": 273,
     "status": "ok",
     "timestamp": 1629820266436,
     "user": {
      "displayName": "Intro Python",
      "photoUrl": "",
      "userId": "07941982911866096271"
     },
     "user_tz": -240
    },
    "id": "NrAt0Ruw9-Pw"
   },
   "outputs": [],
   "source": [
    "def square(x):\n",
    "  x += 1\n",
    "  return x ** 2"
   ]
  },
  {
   "cell_type": "code",
   "execution_count": 3,
   "metadata": {
    "colab": {
     "base_uri": "https://localhost:8080/"
    },
    "executionInfo": {
     "elapsed": 288,
     "status": "ok",
     "timestamp": 1629820271038,
     "user": {
      "displayName": "Intro Python",
      "photoUrl": "",
      "userId": "07941982911866096271"
     },
     "user_tz": -240
    },
    "id": "t7uTpuBD9-Pz",
    "outputId": "067b867d-efda-455e-99ed-8ea3097502f9"
   },
   "outputs": [
    {
     "ename": "NameError",
     "evalue": "name 'list_1' is not defined",
     "output_type": "error",
     "traceback": [
      "\u001b[1;31m---------------------------------------------------------------------------\u001b[0m",
      "\u001b[1;31mNameError\u001b[0m                                 Traceback (most recent call last)",
      "\u001b[1;32m<ipython-input-3-b90a6c6cbd5b>\u001b[0m in \u001b[0;36m<module>\u001b[1;34m\u001b[0m\n\u001b[1;32m----> 1\u001b[1;33m \u001b[0mlist_3\u001b[0m \u001b[1;33m=\u001b[0m \u001b[0mlist\u001b[0m\u001b[1;33m(\u001b[0m\u001b[0mmap\u001b[0m\u001b[1;33m(\u001b[0m\u001b[0msquare\u001b[0m\u001b[1;33m,\u001b[0m \u001b[0mlist_1\u001b[0m\u001b[1;33m)\u001b[0m\u001b[1;33m)\u001b[0m\u001b[1;33m\u001b[0m\u001b[1;33m\u001b[0m\u001b[0m\n\u001b[0m\u001b[0;32m      2\u001b[0m \u001b[1;31m# list_3 = list(map(lambda x: x ** 2, list_1))\u001b[0m\u001b[1;33m\u001b[0m\u001b[1;33m\u001b[0m\u001b[1;33m\u001b[0m\u001b[0m\n\u001b[0;32m      3\u001b[0m \u001b[1;33m\u001b[0m\u001b[0m\n\u001b[0;32m      4\u001b[0m \u001b[0mlist_3\u001b[0m\u001b[1;33m\u001b[0m\u001b[1;33m\u001b[0m\u001b[0m\n",
      "\u001b[1;31mNameError\u001b[0m: name 'list_1' is not defined"
     ]
    }
   ],
   "source": [
    "list_3 = list(map(square, list_1))\n",
    "# list_3 = list(map(lambda x: x ** 2, list_1))\n",
    "\n",
    "list_3"
   ]
  },
  {
   "cell_type": "code",
   "execution_count": 45,
   "metadata": {
    "colab": {
     "base_uri": "https://localhost:8080/"
    },
    "executionInfo": {
     "elapsed": 251,
     "status": "ok",
     "timestamp": 1629820386665,
     "user": {
      "displayName": "Intro Python",
      "photoUrl": "",
      "userId": "07941982911866096271"
     },
     "user_tz": -240
    },
    "id": "Dqm6tMqf3Pgh",
    "outputId": "170d8306-c38b-48c2-8928-3e9b53c8250c"
   },
   "outputs": [
    {
     "name": "stdout",
     "output_type": "stream",
     "text": [
      "Hello!\n"
     ]
    }
   ],
   "source": [
    "def higher_order_func(func):\n",
    "  func()\n",
    "\n",
    "def hello():\n",
    "  print('Hello!')\n",
    "\n",
    "higher_order_func(hello)"
   ]
  },
  {
   "cell_type": "markdown",
   "metadata": {
    "id": "clTqp2Wr9-Pz"
   },
   "source": [
    "### filter"
   ]
  },
  {
   "cell_type": "markdown",
   "metadata": {
    "id": "pf-uA-_x9-P0"
   },
   "source": [
    "**filter( )** ֆունկցիան ֆիլտրում է լիստը ըստ մեր տված ֆունկցիայի. **filter()**-ը **վերադարձնում է նոր լիստ**։"
   ]
  },
  {
   "cell_type": "code",
   "execution_count": 63,
   "metadata": {
    "executionInfo": {
     "elapsed": 6,
     "status": "ok",
     "timestamp": 1629820830719,
     "user": {
      "displayName": "Intro Python",
      "photoUrl": "",
      "userId": "07941982911866096271"
     },
     "user_tz": -240
    },
    "id": "MAzc5SJl9-P0"
   },
   "outputs": [],
   "source": [
    "dirty_list = [1, 2, 3, 4, 5, '7', '9', 6, 7, 8, 6.7]"
   ]
  },
  {
   "cell_type": "code",
   "execution_count": 53,
   "metadata": {
    "executionInfo": {
     "elapsed": 6,
     "status": "ok",
     "timestamp": 1629820596918,
     "user": {
      "displayName": "Intro Python",
      "photoUrl": "",
      "userId": "07941982911866096271"
     },
     "user_tz": -240
    },
    "id": "_4s8DT7D9-P1"
   },
   "outputs": [],
   "source": [
    "clean_list = list(filter(lambda x: isinstance(x, int), dirty_list))"
   ]
  },
  {
   "cell_type": "code",
   "execution_count": 54,
   "metadata": {
    "colab": {
     "base_uri": "https://localhost:8080/"
    },
    "executionInfo": {
     "elapsed": 8,
     "status": "ok",
     "timestamp": 1629820597777,
     "user": {
      "displayName": "Intro Python",
      "photoUrl": "",
      "userId": "07941982911866096271"
     },
     "user_tz": -240
    },
    "id": "nxo5Zq5F39IL",
    "outputId": "194160ec-808c-406d-c571-cb39c57153cb"
   },
   "outputs": [
    {
     "data": {
      "text/plain": [
       "[1, 2, 3, 4, 5, 6, 7, 8]"
      ]
     },
     "execution_count": 54,
     "metadata": {},
     "output_type": "execute_result"
    }
   ],
   "source": [
    "clean_list"
   ]
  },
  {
   "cell_type": "code",
   "execution_count": 51,
   "metadata": {
    "colab": {
     "base_uri": "https://localhost:8080/"
    },
    "executionInfo": {
     "elapsed": 378,
     "status": "ok",
     "timestamp": 1629820582904,
     "user": {
      "displayName": "Intro Python",
      "photoUrl": "",
      "userId": "07941982911866096271"
     },
     "user_tz": -240
    },
    "id": "QBUmU1x94EhF",
    "outputId": "6d928c5d-8a0d-43fa-f42c-436d8d7dafc0"
   },
   "outputs": [
    {
     "data": {
      "text/plain": [
       "True"
      ]
     },
     "execution_count": 51,
     "metadata": {},
     "output_type": "execute_result"
    }
   ],
   "source": [
    "isinstance(True, int)"
   ]
  },
  {
   "cell_type": "code",
   "execution_count": 66,
   "metadata": {
    "executionInfo": {
     "elapsed": 285,
     "status": "ok",
     "timestamp": 1629820844439,
     "user": {
      "displayName": "Intro Python",
      "photoUrl": "",
      "userId": "07941982911866096271"
     },
     "user_tz": -240
    },
    "id": "0irHQoTT4bd8"
   },
   "outputs": [],
   "source": [
    "evens = list(filter(lambda x: int(x) % 2 == 1, dirty_list))"
   ]
  },
  {
   "cell_type": "code",
   "execution_count": 67,
   "metadata": {
    "colab": {
     "base_uri": "https://localhost:8080/"
    },
    "executionInfo": {
     "elapsed": 256,
     "status": "ok",
     "timestamp": 1629820847005,
     "user": {
      "displayName": "Intro Python",
      "photoUrl": "",
      "userId": "07941982911866096271"
     },
     "user_tz": -240
    },
    "id": "944JlDIX4edv",
    "outputId": "7f3e56ea-d777-4799-bf80-72001c83646e"
   },
   "outputs": [
    {
     "data": {
      "text/plain": [
       "[1, 3, 5, '7', '9', 7]"
      ]
     },
     "execution_count": 67,
     "metadata": {},
     "output_type": "execute_result"
    }
   ],
   "source": [
    "evens"
   ]
  },
  {
   "cell_type": "markdown",
   "metadata": {
    "id": "pk8FSUB29-P1"
   },
   "source": [
    "Օրինակ պետք է ստանանք լիստ, որը պարունակում է list1-ի այն տարրերը, որոնք փոքր են 6-ից"
   ]
  },
  {
   "cell_type": "code",
   "execution_count": 60,
   "metadata": {
    "executionInfo": {
     "elapsed": 258,
     "status": "ok",
     "timestamp": 1629820778115,
     "user": {
      "displayName": "Intro Python",
      "photoUrl": "",
      "userId": "07941982911866096271"
     },
     "user_tz": -240
    },
    "id": "x74Rl7759-P2"
   },
   "outputs": [],
   "source": [
    "less_than_six = list(filter(lambda x: x < 6, evens))"
   ]
  },
  {
   "cell_type": "code",
   "execution_count": 61,
   "metadata": {
    "colab": {
     "base_uri": "https://localhost:8080/"
    },
    "executionInfo": {
     "elapsed": 255,
     "status": "ok",
     "timestamp": 1629820784950,
     "user": {
      "displayName": "Intro Python",
      "photoUrl": "",
      "userId": "07941982911866096271"
     },
     "user_tz": -240
    },
    "id": "brQ9ZSTp438A",
    "outputId": "cd01a302-fe62-4c20-f129-f3d5e4fc462c"
   },
   "outputs": [
    {
     "data": {
      "text/plain": [
       "[2, 4]"
      ]
     },
     "execution_count": 61,
     "metadata": {},
     "output_type": "execute_result"
    }
   ],
   "source": [
    "less_than_six"
   ]
  },
  {
   "cell_type": "markdown",
   "metadata": {
    "id": "yYt17ePB9-P2"
   },
   "source": [
    "Երբ նույն ձևով **map()** ենք օգտագործում."
   ]
  },
  {
   "cell_type": "code",
   "execution_count": 68,
   "metadata": {
    "executionInfo": {
     "elapsed": 7,
     "status": "ok",
     "timestamp": 1629820890695,
     "user": {
      "displayName": "Intro Python",
      "photoUrl": "",
      "userId": "07941982911866096271"
     },
     "user_tz": -240
    },
    "id": "SQ591vMy9-P3"
   },
   "outputs": [],
   "source": [
    "evens = list(map(lambda x: int(x) % 2 == 0, clean_list))"
   ]
  },
  {
   "cell_type": "code",
   "execution_count": 69,
   "metadata": {
    "colab": {
     "base_uri": "https://localhost:8080/"
    },
    "executionInfo": {
     "elapsed": 9,
     "status": "ok",
     "timestamp": 1629820894553,
     "user": {
      "displayName": "Intro Python",
      "photoUrl": "",
      "userId": "07941982911866096271"
     },
     "user_tz": -240
    },
    "id": "wVpf5Fo-5TQx",
    "outputId": "f9f37b4a-d979-46ea-915f-d1eb42f58299"
   },
   "outputs": [
    {
     "data": {
      "text/plain": [
       "[False, True, False, True, False, True, False, True]"
      ]
     },
     "execution_count": 69,
     "metadata": {},
     "output_type": "execute_result"
    }
   ],
   "source": [
    "evens"
   ]
  },
  {
   "cell_type": "markdown",
   "metadata": {
    "id": "IA_p5cc69-P3"
   },
   "source": [
    "Կարող ենք անել հետևյալ հետևությունը։ Միայն այն տարրերն են վերադարձվում **filter( )**-ից հետո, որոնք **map( )**-ի կողմից True են վերադարձվում։"
   ]
  },
  {
   "cell_type": "code",
   "execution_count": null,
   "metadata": {
    "id": "Mg26h9Xk9-P4"
   },
   "outputs": [],
   "source": []
  },
  {
   "cell_type": "markdown",
   "metadata": {
    "id": "HXVitP2x-5-Y"
   },
   "source": []
  },
  {
   "cell_type": "markdown",
   "metadata": {
    "id": "Lf_6ksB1--cO"
   },
   "source": [
    "# Code Testing"
   ]
  },
  {
   "cell_type": "markdown",
   "metadata": {
    "id": "fuXVqD8m_BZj"
   },
   "source": [
    "Կոդի թեստավորումը **assert**-ով"
   ]
  },
  {
   "cell_type": "code",
   "execution_count": null,
   "metadata": {
    "id": "G---IgMO6cK2"
   },
   "outputs": [],
   "source": []
  },
  {
   "cell_type": "code",
   "execution_count": 82,
   "metadata": {
    "executionInfo": {
     "elapsed": 509,
     "status": "ok",
     "timestamp": 1629821356451,
     "user": {
      "displayName": "Intro Python",
      "photoUrl": "",
      "userId": "07941982911866096271"
     },
     "user_tz": -240
    },
    "id": "I3_UTJejjLIQ"
   },
   "outputs": [],
   "source": [
    "def my_sum(a, b):\n",
    "  return a + b + 1"
   ]
  },
  {
   "cell_type": "code",
   "execution_count": 76,
   "metadata": {
    "executionInfo": {
     "elapsed": 6,
     "status": "ok",
     "timestamp": 1629821059414,
     "user": {
      "displayName": "Intro Python",
      "photoUrl": "",
      "userId": "07941982911866096271"
     },
     "user_tz": -240
    },
    "id": "ipfiAimR_DZQ"
   },
   "outputs": [],
   "source": [
    "assert my_sum(2, 8) == 10, 'Check the function definition'"
   ]
  },
  {
   "cell_type": "code",
   "execution_count": 77,
   "metadata": {
    "executionInfo": {
     "elapsed": 266,
     "status": "ok",
     "timestamp": 1629821079870,
     "user": {
      "displayName": "Intro Python",
      "photoUrl": "",
      "userId": "07941982911866096271"
     },
     "user_tz": -240
    },
    "id": "H6Dl96zM_DeE"
   },
   "outputs": [],
   "source": [
    "def power(a, b):\n",
    "  return a ** b"
   ]
  },
  {
   "cell_type": "code",
   "execution_count": 81,
   "metadata": {
    "executionInfo": {
     "elapsed": 391,
     "status": "ok",
     "timestamp": 1629821127362,
     "user": {
      "displayName": "Intro Python",
      "photoUrl": "",
      "userId": "07941982911866096271"
     },
     "user_tz": -240
    },
    "id": "wzD1YcQ2kO0d"
   },
   "outputs": [],
   "source": [
    "assert power(5, 2) == 25, 'Something\\' is not right...'"
   ]
  },
  {
   "cell_type": "code",
   "execution_count": null,
   "metadata": {
    "id": "VuQp-StGkiVn"
   },
   "outputs": [],
   "source": [
    "# unittest, pytest"
   ]
  }
 ],
 "metadata": {
  "colab": {
   "collapsed_sections": [],
   "name": "Lecture 3_Functions.ipynb",
   "provenance": []
  },
  "kernelspec": {
   "display_name": "Python 3",
   "language": "python",
   "name": "python3"
  },
  "language_info": {
   "codemirror_mode": {
    "name": "ipython",
    "version": 3
   },
   "file_extension": ".py",
   "mimetype": "text/x-python",
   "name": "python",
   "nbconvert_exporter": "python",
   "pygments_lexer": "ipython3",
   "version": "3.8.5"
  }
 },
 "nbformat": 4,
 "nbformat_minor": 4
}
