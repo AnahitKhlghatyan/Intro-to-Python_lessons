{
 "cells": [
  {
   "cell_type": "code",
   "execution_count": 1,
   "id": "843d681f-38e1-4b8f-9ac0-fea31c8c1283",
   "metadata": {},
   "outputs": [],
   "source": [
    "# Product of nonzero digits"
   ]
  },
  {
   "cell_type": "code",
   "execution_count": 75,
   "id": "e8ae05e6-4153-43be-8462-b54577dcfc20",
   "metadata": {},
   "outputs": [
    {
     "name": "stdin",
     "output_type": "stream",
     "text": [
      " 302\n"
     ]
    },
    {
     "name": "stdout",
     "output_type": "stream",
     "text": [
      "2\n",
      "0\n",
      "3\n",
      "6\n"
     ]
    }
   ],
   "source": [
    "x = int(input())\n",
    "p = 1\n",
    "while x > 0:\n",
    "    digit = x % 10\n",
    "    print(digit)\n",
    "    if digit != 0:\n",
    "        p *= digit\n",
    "    x //= 10\n",
    "print(p)"
   ]
  },
  {
   "cell_type": "code",
   "execution_count": null,
   "id": "aa81cfc0-90ed-4a45-a7ef-e734a1413531",
   "metadata": {},
   "outputs": [],
   "source": []
  }
 ],
 "metadata": {
  "kernelspec": {
   "display_name": "Python 3",
   "language": "python",
   "name": "python3"
  },
  "language_info": {
   "codemirror_mode": {
    "name": "ipython",
    "version": 3
   },
   "file_extension": ".py",
   "mimetype": "text/x-python",
   "name": "python",
   "nbconvert_exporter": "python",
   "pygments_lexer": "ipython3",
   "version": "3.8.8"
  }
 },
 "nbformat": 4,
 "nbformat_minor": 5
}
