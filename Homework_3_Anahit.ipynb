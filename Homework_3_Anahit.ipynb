{
 "cells": [
  {
   "cell_type": "code",
   "execution_count": 1,
   "metadata": {},
   "outputs": [],
   "source": [
    "# Salaries"
   ]
  },
  {
   "cell_type": "code",
   "execution_count": 2,
   "metadata": {},
   "outputs": [
    {
     "name": "stdin",
     "output_type": "stream",
     "text": [
      " 1000\n",
      " 500\n",
      " 100\n"
     ]
    },
    {
     "name": "stdout",
     "output_type": "stream",
     "text": [
      "900\n"
     ]
    }
   ],
   "source": [
    "emp1 = int(input())\n",
    "emp2 = int(input())\n",
    "emp3 = int(input())\n",
    "lst = [emp1, emp2, emp3]\n",
    "print(max(lst)-min(lst))"
   ]
  },
  {
   "cell_type": "code",
   "execution_count": 3,
   "metadata": {},
   "outputs": [
    {
     "name": "stdin",
     "output_type": "stream",
     "text": [
      " 3\n",
      " 1000\n",
      " 500\n",
      " 100\n"
     ]
    },
    {
     "name": "stdout",
     "output_type": "stream",
     "text": [
      "900\n"
     ]
    }
   ],
   "source": [
    "n = int(input())\n",
    "lst = []\n",
    "for i in range(n):\n",
    "    lst.append(int(input()))\n",
    "print(max(lst)-min(lst))"
   ]
  },
  {
   "cell_type": "code",
   "execution_count": 4,
   "metadata": {},
   "outputs": [],
   "source": [
    "# Boring Numbers"
   ]
  },
  {
   "cell_type": "code",
   "execution_count": 5,
   "metadata": {},
   "outputs": [
    {
     "name": "stdin",
     "output_type": "stream",
     "text": [
      " 77777\n"
     ]
    },
    {
     "name": "stdout",
     "output_type": "stream",
     "text": [
      "Boring\n"
     ]
    }
   ],
   "source": [
    "n = int(input())\n",
    "lst = [int(i) for i in str(n)]\n",
    "\n",
    "if max(lst) == min(lst):\n",
    "    print('Boring')\n",
    "else:\n",
    "    print('Interesting')"
   ]
  },
  {
   "cell_type": "code",
   "execution_count": 6,
   "metadata": {},
   "outputs": [],
   "source": [
    "# Largest Number"
   ]
  },
  {
   "cell_type": "code",
   "execution_count": 7,
   "metadata": {},
   "outputs": [
    {
     "name": "stdin",
     "output_type": "stream",
     "text": [
      " 99888740\n"
     ]
    },
    {
     "name": "stdout",
     "output_type": "stream",
     "text": [
      "No\n"
     ]
    }
   ],
   "source": [
    "n = int(input())\n",
    "lst = [int(i) for i in str(n)]\n",
    "\n",
    "c = lst.copy()\n",
    "c.sort(reverse = True)\n",
    "\n",
    "if lst == c:\n",
    "    print('No')\n",
    "else: \n",
    "    print('Yes')"
   ]
  },
  {
   "cell_type": "code",
   "execution_count": 8,
   "metadata": {},
   "outputs": [
    {
     "name": "stdin",
     "output_type": "stream",
     "text": [
      " 99888470\n"
     ]
    },
    {
     "name": "stdout",
     "output_type": "stream",
     "text": [
      "No\n"
     ]
    }
   ],
   "source": [
    "x = int(input())\n",
    "t = True\n",
    "a = x % 10\n",
    "x //= 10\n",
    "while x > 0:\n",
    "    if a > x % 10:\n",
    "        t = False\n",
    "        break\n",
    "    x //= 10\n",
    "    a = x % 10\n",
    "    \n",
    "if(t):\n",
    "    print('No')\n",
    "else:\n",
    "    print('Yes')"
   ]
  },
  {
   "cell_type": "code",
   "execution_count": 8,
   "metadata": {},
   "outputs": [],
   "source": [
    "# Line segment intersection"
   ]
  },
  {
   "cell_type": "code",
   "execution_count": 9,
   "metadata": {},
   "outputs": [
    {
     "name": "stdin",
     "output_type": "stream",
     "text": [
      " 10\n",
      " 0\n",
      " 0.1\n",
      " 0.2\n"
     ]
    }
   ],
   "source": [
    "a1 = float(input())\n",
    "b1 = float(input())\n",
    "a2 = float(input())\n",
    "b2 = float(input())"
   ]
  },
  {
   "cell_type": "code",
   "execution_count": 10,
   "metadata": {},
   "outputs": [
    {
     "name": "stdout",
     "output_type": "stream",
     "text": [
      "0.1\n"
     ]
    }
   ],
   "source": [
    "if max(a1,b1) <= min(a2,b2) or max(a2,b2) <= min(a1,b1):\n",
    "    print(0)\n",
    "elif max(a1,b1) > min(a2,b2) and max(a1,b1) < max(a2,b2) and min(a1,b1) < min(a2,b2):\n",
    "    print(max(a1,b1)-min(a2, b2))\n",
    "elif max(a2,b2) > min(a1,b1) and max(a2,b2) < max(a1,b1) and min(a2,b2) < min(a1,b1):\n",
    "    print(max(a2,b2)-min(a1,b1))\n",
    "elif max(a1,b1) > max(a2,b2) and min(a1,b1) < min(a2,b2):\n",
    "    print(abs(a2-b2))\n",
    "elif max(a2,b2) > max(a1,b1) and min(a2,b2) < min(a1,b1):\n",
    "    print(abs(a1-b1))"
   ]
  },
  {
   "cell_type": "code",
   "execution_count": 11,
   "metadata": {},
   "outputs": [],
   "source": [
    "# Number of divisors"
   ]
  },
  {
   "cell_type": "code",
   "execution_count": 12,
   "metadata": {},
   "outputs": [
    {
     "name": "stdin",
     "output_type": "stream",
     "text": [
      " 10\n"
     ]
    },
    {
     "name": "stdout",
     "output_type": "stream",
     "text": [
      "4\n"
     ]
    }
   ],
   "source": [
    "n = int(input())\n",
    "lst = []\n",
    "for i in range(n):\n",
    "    lst.append(i+1)\n",
    "\n",
    "l = []\n",
    "for i in lst:\n",
    "    if n % i == 0:\n",
    "        l.append(i)\n",
    "print(len(l))"
   ]
  },
  {
   "cell_type": "code",
   "execution_count": 13,
   "metadata": {},
   "outputs": [],
   "source": [
    "# Quadratic Equation"
   ]
  },
  {
   "cell_type": "code",
   "execution_count": 14,
   "metadata": {},
   "outputs": [
    {
     "name": "stdin",
     "output_type": "stream",
     "text": [
      " 1\n",
      " 0\n",
      " -1\n"
     ]
    }
   ],
   "source": [
    "import math\n",
    "a = int(input())\n",
    "b = int(input())\n",
    "c = int(input())"
   ]
  },
  {
   "cell_type": "code",
   "execution_count": 15,
   "metadata": {},
   "outputs": [
    {
     "name": "stdout",
     "output_type": "stream",
     "text": [
      "Quadratic equation\n",
      "Discriminant: 4\n",
      "Two solution: 1.0 -1.0\n"
     ]
    }
   ],
   "source": [
    "if a == 0:\n",
    "    print('Non-quadratic equation')\n",
    "    if b == 0 and c !=0:\n",
    "        print('No solution')\n",
    "    elif b == 0 and c ==0:\n",
    "        print('Infinite solutions')\n",
    "    else:\n",
    "        x = -c/b\n",
    "        print('One solution:',x)\n",
    "elif (a,b,c) != 0:\n",
    "    print('Quadratic equation')\n",
    "    D = b*b - 4*a*c\n",
    "    print('Discriminant:', D)\n",
    "    if D < 0:\n",
    "        print('No Solution')\n",
    "    elif D == 0:\n",
    "        x = -b/(2*a)\n",
    "        print('One Solution:', x)\n",
    "    elif D > 0:\n",
    "        x1 = (-b + math.sqrt(D))/(2*a)\n",
    "        x2 = (-b - math.sqrt(D))/(2*a)\n",
    "        print('Two solution:',x1,x2)"
   ]
  },
  {
   "cell_type": "code",
   "execution_count": 16,
   "metadata": {},
   "outputs": [],
   "source": [
    "# List 1"
   ]
  },
  {
   "cell_type": "code",
   "execution_count": 17,
   "metadata": {},
   "outputs": [
    {
     "name": "stdin",
     "output_type": "stream",
     "text": [
      " 4\n",
      " a\n",
      " b\n",
      " c\n",
      " d\n"
     ]
    },
    {
     "name": "stdout",
     "output_type": "stream",
     "text": [
      "['a', 'b', 'c', 'd']\n",
      "abcd\n"
     ]
    }
   ],
   "source": [
    "n = int(input())\n",
    "lst = []\n",
    "for i in range(n):\n",
    "    lst.append(input())\n",
    "print(lst)\n",
    "k = ''\n",
    "for i in lst:\n",
    "    k += i\n",
    "print(k)"
   ]
  },
  {
   "cell_type": "code",
   "execution_count": 18,
   "metadata": {},
   "outputs": [],
   "source": [
    "# List 2"
   ]
  },
  {
   "cell_type": "code",
   "execution_count": 9,
   "metadata": {},
   "outputs": [
    {
     "name": "stdin",
     "output_type": "stream",
     "text": [
      " 5\n",
      " 0\n",
      " 2\n",
      " 3\n",
      " -5\n",
      " -1\n"
     ]
    },
    {
     "name": "stdout",
     "output_type": "stream",
     "text": [
      "[0, 2, 3, -5, -1]\n",
      "The second minimum is -1\n"
     ]
    }
   ],
   "source": [
    "n = int(input())\n",
    "lst = []\n",
    "for i in range(n):\n",
    "    lst.append(int(input()))\n",
    "print(lst)\n",
    "\n",
    "m = max(lst)\n",
    "for i in lst:\n",
    "    for j in lst:\n",
    "        if i < m and i > j:\n",
    "            m = i\n",
    "print('The second minimum is', m)"
   ]
  },
  {
   "cell_type": "code",
   "execution_count": null,
   "metadata": {},
   "outputs": [],
   "source": []
  }
 ],
 "metadata": {
  "kernelspec": {
   "display_name": "Python 3",
   "language": "python",
   "name": "python3"
  },
  "language_info": {
   "codemirror_mode": {
    "name": "ipython",
    "version": 3
   },
   "file_extension": ".py",
   "mimetype": "text/x-python",
   "name": "python",
   "nbconvert_exporter": "python",
   "pygments_lexer": "ipython3",
   "version": "3.8.5"
  }
 },
 "nbformat": 4,
 "nbformat_minor": 4
}
