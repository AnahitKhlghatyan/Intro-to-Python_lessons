{
 "cells": [
  {
   "cell_type": "code",
   "execution_count": 1,
   "id": "e651d4de-c6cb-4771-bc94-6b107f83fad6",
   "metadata": {},
   "outputs": [],
   "source": [
    "# P1"
   ]
  },
  {
   "cell_type": "code",
   "execution_count": 20,
   "id": "eca86bc8-61b6-4ce3-afe7-09f288f4478d",
   "metadata": {},
   "outputs": [
    {
     "name": "stdout",
     "output_type": "stream",
     "text": [
      "[5, 10, 15, 200, 25, 50, 20]\n"
     ]
    }
   ],
   "source": [
    "lst = [5, 10, 15, 20, 25, 50, 20]\n",
    "lst[lst.index(20)] = 200\n",
    "print(lst)"
   ]
  },
  {
   "cell_type": "code",
   "execution_count": 10,
   "id": "7bd712f9-5c69-4664-a369-80fda19a326b",
   "metadata": {},
   "outputs": [],
   "source": [
    "# P2"
   ]
  },
  {
   "cell_type": "code",
   "execution_count": 21,
   "id": "d95d06c4-07f3-4669-9183-27fa258ec503",
   "metadata": {},
   "outputs": [
    {
     "name": "stdout",
     "output_type": "stream",
     "text": [
      "[5, 15, 20, 25, 50, 20]\n"
     ]
    }
   ],
   "source": [
    "lst_1 = [5, 20, 15, 20, 25, 50, 20]\n",
    "lst_1.pop(lst_1.index(20))\n",
    "print(lst_1)"
   ]
  },
  {
   "cell_type": "code",
   "execution_count": 16,
   "id": "e6d09085-471d-4f4d-9098-b97a92bbbe16",
   "metadata": {},
   "outputs": [],
   "source": [
    "# P3"
   ]
  },
  {
   "cell_type": "code",
   "execution_count": 22,
   "id": "4dd1ca13-d09e-490a-9dac-c31cd024d241",
   "metadata": {},
   "outputs": [
    {
     "name": "stdout",
     "output_type": "stream",
     "text": [
      "10\n"
     ]
    }
   ],
   "source": [
    "A = [10, 20, 4]\n",
    "A.sort()\n",
    "print(A[-2])"
   ]
  },
  {
   "cell_type": "code",
   "execution_count": 31,
   "id": "48e1e5d0-0314-4d82-a5a5-51d3b02d8d45",
   "metadata": {},
   "outputs": [
    {
     "name": "stdout",
     "output_type": "stream",
     "text": [
      "70\n"
     ]
    }
   ],
   "source": [
    "B = [70, 11, 20, 4, 200]\n",
    "B.pop(B.index(max(B)))\n",
    "print(max(B))"
   ]
  },
  {
   "cell_type": "code",
   "execution_count": 32,
   "id": "d2f37cf7-1b18-4961-95f4-3cd22d311c1f",
   "metadata": {},
   "outputs": [],
   "source": [
    "# P4"
   ]
  },
  {
   "cell_type": "code",
   "execution_count": 41,
   "id": "490d5759-6597-48b1-b81e-a05a15070db9",
   "metadata": {},
   "outputs": [
    {
     "name": "stdout",
     "output_type": "stream",
     "text": [
      "{1: 10, 2: 20, 3: 30, 4: 40, 5: 50, 6: 60}\n"
     ]
    }
   ],
   "source": [
    "new_dict = {}\n",
    "dict_1 = {1:10, 2:20}\n",
    "dict_2 = {3:30, 4:40}\n",
    "dict_3 = {5:50, 6:60}\n",
    "new_dict.update(dict_1)\n",
    "new_dict.update(dict_2)\n",
    "new_dict.update(dict_3)\n",
    "print(new_dict)"
   ]
  },
  {
   "cell_type": "code",
   "execution_count": 43,
   "id": "f6285fd1-cb98-45bf-bd1d-c14edb29e6c8",
   "metadata": {},
   "outputs": [],
   "source": [
    "# P5"
   ]
  },
  {
   "cell_type": "code",
   "execution_count": 48,
   "id": "64df6fd9-3301-4dc3-afb0-285229fbc08a",
   "metadata": {},
   "outputs": [
    {
     "name": "stdout",
     "output_type": "stream",
     "text": [
      "{'b': 2, 'c': 3, 'd': 4}\n"
     ]
    }
   ],
   "source": [
    "C = {'a':1, 'b':2, 'c':3, 'd':4}\n",
    "C.pop('a')\n",
    "print(C)"
   ]
  },
  {
   "cell_type": "code",
   "execution_count": 52,
   "id": "85c282c7-0b27-4f91-a9f6-ad3145cb8a81",
   "metadata": {},
   "outputs": [
    {
     "ename": "KeyError",
     "evalue": "'e'",
     "output_type": "error",
     "traceback": [
      "\u001b[1;31m---------------------------------------------------------------------------\u001b[0m",
      "\u001b[1;31mKeyError\u001b[0m                                  Traceback (most recent call last)",
      "\u001b[1;32m<ipython-input-52-ba0cd361909a>\u001b[0m in \u001b[0;36m<module>\u001b[1;34m\u001b[0m\n\u001b[0;32m      1\u001b[0m \u001b[0mD\u001b[0m \u001b[1;33m=\u001b[0m \u001b[1;33m{\u001b[0m\u001b[1;34m'a'\u001b[0m\u001b[1;33m:\u001b[0m\u001b[1;36m1\u001b[0m\u001b[1;33m,\u001b[0m \u001b[1;34m'b'\u001b[0m\u001b[1;33m:\u001b[0m\u001b[1;36m2\u001b[0m\u001b[1;33m,\u001b[0m \u001b[1;34m'c'\u001b[0m\u001b[1;33m:\u001b[0m\u001b[1;36m3\u001b[0m\u001b[1;33m,\u001b[0m \u001b[1;34m'd'\u001b[0m\u001b[1;33m:\u001b[0m\u001b[1;36m4\u001b[0m\u001b[1;33m}\u001b[0m\u001b[1;33m\u001b[0m\u001b[1;33m\u001b[0m\u001b[0m\n\u001b[1;32m----> 2\u001b[1;33m \u001b[0mD\u001b[0m\u001b[1;33m.\u001b[0m\u001b[0mpop\u001b[0m\u001b[1;33m(\u001b[0m\u001b[1;34m'e'\u001b[0m\u001b[1;33m)\u001b[0m\u001b[1;33m\u001b[0m\u001b[1;33m\u001b[0m\u001b[0m\n\u001b[0m\u001b[0;32m      3\u001b[0m \u001b[0mprint\u001b[0m\u001b[1;33m(\u001b[0m\u001b[0mD\u001b[0m\u001b[1;33m)\u001b[0m\u001b[1;33m\u001b[0m\u001b[1;33m\u001b[0m\u001b[0m\n",
      "\u001b[1;31mKeyError\u001b[0m: 'e'"
     ]
    }
   ],
   "source": [
    "D = {'a':1, 'b':2, 'c':3, 'd':4}\n",
    "D.pop('e')\n",
    "print(D)"
   ]
  },
  {
   "cell_type": "code",
   "execution_count": 51,
   "id": "30a8ecdb-2833-4335-846c-d312afca4ff1",
   "metadata": {},
   "outputs": [],
   "source": [
    "# P6"
   ]
  },
  {
   "cell_type": "code",
   "execution_count": 55,
   "id": "08b62e17-678c-4336-a112-fcc1157b9802",
   "metadata": {},
   "outputs": [
    {
     "name": "stdout",
     "output_type": "stream",
     "text": [
      "True\n",
      "False\n"
     ]
    }
   ],
   "source": [
    "E = {1, 10, 90, 9}\n",
    "print(90 in E)\n",
    "F = {6, 4, 10, 20, 21, 3}\n",
    "print(90 in F)"
   ]
  },
  {
   "cell_type": "code",
   "execution_count": 56,
   "id": "ec32565c-c6e2-48db-8638-3d99d2b32ce5",
   "metadata": {},
   "outputs": [],
   "source": [
    "# P7"
   ]
  },
  {
   "cell_type": "code",
   "execution_count": 64,
   "id": "51d14afc-927d-4b3a-81c4-2f6ccb74e68d",
   "metadata": {},
   "outputs": [
    {
     "data": {
      "text/plain": [
       "[7, 14, 21, 28, 35, 42, 49, 56, 63, 70, 77, 84, 91, 98]"
      ]
     },
     "execution_count": 64,
     "metadata": {},
     "output_type": "execute_result"
    }
   ],
   "source": [
    "lst_3 = [i for i in range(1,100) if i % 7 == 0]\n",
    "print(lst_3)"
   ]
  },
  {
   "cell_type": "code",
   "execution_count": 2,
   "id": "9634ad8f-1c45-4da7-a1a8-8807a1eed08c",
   "metadata": {},
   "outputs": [
    {
     "name": "stdout",
     "output_type": "stream",
     "text": [
      "[7, 14, 21, 28, 35, 42, 49, 56, 63, 70, 77, 84, 91, 98]\n"
     ]
    }
   ],
   "source": [
    "lst_4 = []\n",
    "for i in range(1,100):\n",
    "    if i % 7 == 0:\n",
    "        lst_4.append(i)\n",
    "        \n",
    "print(lst_4)"
   ]
  },
  {
   "cell_type": "code",
   "execution_count": null,
   "id": "8594b91a-64cc-41cd-a363-7876e79a4cf0",
   "metadata": {},
   "outputs": [],
   "source": []
  }
 ],
 "metadata": {
  "kernelspec": {
   "display_name": "Python 3",
   "language": "python",
   "name": "python3"
  },
  "language_info": {
   "codemirror_mode": {
    "name": "ipython",
    "version": 3
   },
   "file_extension": ".py",
   "mimetype": "text/x-python",
   "name": "python",
   "nbconvert_exporter": "python",
   "pygments_lexer": "ipython3",
   "version": "3.8.8"
  }
 },
 "nbformat": 4,
 "nbformat_minor": 5
}
