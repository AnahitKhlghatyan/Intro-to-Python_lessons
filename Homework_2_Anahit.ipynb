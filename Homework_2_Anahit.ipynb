{
  "cells": [
    {
      "cell_type": "markdown",
      "source": [
        "### **1.Given a list, find value 20 in the list, replace it with 200. Only update the first occurrence of a value**\n",
        "[5, 10, 15, 20, 25, 50, 20]."
      ],
      "metadata": {
        "id": "GwY9xUXnMvNB"
      },
      "id": "GwY9xUXnMvNB"
    },
    {
      "cell_type": "code",
      "execution_count": null,
      "metadata": {
        "collapsed": true,
        "cellView": "form",
        "id": "s3RWktSdMmll",
        "outputId": "b7ce65e3-6205-4877-9f14-c2deb7c4c645"
      },
      "outputs": [
        {
          "name": "stdout",
          "output_type": "stream",
          "text": [
            "[5, 10, 15, 200, 25, 50, 20]\n"
          ]
        }
      ],
      "source": [
        "# @title\n",
        "lst = [5, 10, 15, 20, 25, 50, 20]\n",
        "lst[lst.index(20)] = 200\n",
        "print(lst)"
      ],
      "id": "s3RWktSdMmll"
    },
    {
      "cell_type": "markdown",
      "source": [
        "### **2.Given a list, remove the first occurrence of 20 from the list.**\n",
        "[5, 20, 15, 20, 25, 50, 20]"
      ],
      "metadata": {
        "id": "nALwxeoENgdS"
      },
      "id": "nALwxeoENgdS"
    },
    {
      "cell_type": "code",
      "execution_count": 5,
      "metadata": {
        "collapsed": true,
        "cellView": "form",
        "id": "oBhD8e3oMmll",
        "outputId": "40f19125-68db-43e9-db4d-193016f86121",
        "colab": {
          "base_uri": "https://localhost:8080/"
        }
      },
      "outputs": [
        {
          "output_type": "stream",
          "name": "stdout",
          "text": [
            "[5, 15, 20, 25, 50, 20]\n"
          ]
        }
      ],
      "source": [
        "# @title\n",
        "lst_1 = [5, 20, 15, 20, 25, 50, 20]\n",
        "lst_1.pop(lst_1.index(20))\n",
        "print(lst_1)"
      ],
      "id": "oBhD8e3oMmll"
    },
    {
      "cell_type": "code",
      "source": [
        "# @title\n",
        "lst_2 = [5, 20, 15, 20, 25, 50, 20]\n",
        "lst_2.remove(20)\n",
        "print(lst_2)"
      ],
      "metadata": {
        "collapsed": true,
        "cellView": "form",
        "id": "H3rBUAbiNypv",
        "outputId": "b0862d4c-ecd4-4c98-fd4c-97fb1ca6c0f7",
        "colab": {
          "base_uri": "https://localhost:8080/"
        }
      },
      "id": "H3rBUAbiNypv",
      "execution_count": 6,
      "outputs": [
        {
          "output_type": "stream",
          "name": "stdout",
          "text": [
            "[5, 15, 20, 25, 50, 20]\n"
          ]
        }
      ]
    },
    {
      "cell_type": "markdown",
      "source": [
        "### **3.Given a list, print the second largest element.**\n",
        "[10, 20, 4],\n",
        "\n",
        "[70, 11, 20, 4, 100]"
      ],
      "metadata": {
        "id": "iT90iITlORqE"
      },
      "id": "iT90iITlORqE"
    },
    {
      "cell_type": "code",
      "source": [
        "# @title\n",
        "B = [70, 11, 20, 4, 200]\n",
        "B.pop(B.index(max(B)))\n",
        "print(max(B))"
      ],
      "metadata": {
        "collapsed": true,
        "cellView": "form",
        "id": "uUq7FHRCOkYN",
        "outputId": "df9b0539-47b2-4c49-ac2b-fe1962ab9769",
        "colab": {
          "base_uri": "https://localhost:8080/"
        }
      },
      "id": "uUq7FHRCOkYN",
      "execution_count": 8,
      "outputs": [
        {
          "output_type": "stream",
          "name": "stdout",
          "text": [
            "70\n"
          ]
        }
      ]
    },
    {
      "cell_type": "code",
      "source": [
        "# @title\n",
        "numbers = [10, 20, 4]\n",
        "max1 = max(numbers)\n",
        "numbers.remove(max1)\n",
        "max2 = max(numbers)\n",
        "print(max2)"
      ],
      "metadata": {
        "collapsed": true,
        "cellView": "form",
        "id": "otj1CJZyOlG5",
        "outputId": "20e559ca-d3bb-44fd-ad71-32f5c4e73d56",
        "colab": {
          "base_uri": "https://localhost:8080/"
        }
      },
      "id": "otj1CJZyOlG5",
      "execution_count": 9,
      "outputs": [
        {
          "output_type": "stream",
          "name": "stdout",
          "text": [
            "10\n"
          ]
        }
      ]
    },
    {
      "cell_type": "markdown",
      "source": [
        "### **4.Given 3 dictionaries, create a new dictionary, which contains all of them.**\n",
        "dic1={1:10, 2:20}\n",
        "\n",
        "dic2={3:30, 4:40}\n",
        "\n",
        "dic3={5:50,6:60}"
      ],
      "metadata": {
        "id": "1igusm5aPIoJ"
      },
      "id": "1igusm5aPIoJ"
    },
    {
      "cell_type": "code",
      "execution_count": 10,
      "metadata": {
        "cellView": "form",
        "collapsed": true,
        "id": "pxLy_RXoMmlm",
        "outputId": "125bfd07-3220-48df-ca51-46af45d7a3c2",
        "colab": {
          "base_uri": "https://localhost:8080/"
        }
      },
      "outputs": [
        {
          "output_type": "stream",
          "name": "stdout",
          "text": [
            "{1: 10, 2: 20, 3: 30, 4: 40, 5: 50, 6: 60}\n"
          ]
        }
      ],
      "source": [
        "# @title\n",
        "new_dict = {}\n",
        "dict_1 = {1:10, 2:20}\n",
        "dict_2 = {3:30, 4:40}\n",
        "dict_3 = {5:50, 6:60}\n",
        "new_dict.update(dict_1)\n",
        "new_dict.update(dict_2)\n",
        "new_dict.update(dict_3)\n",
        "print(new_dict)"
      ],
      "id": "pxLy_RXoMmlm"
    },
    {
      "cell_type": "markdown",
      "source": [
        "### **5.Given a dictionary, remove the given key.**\n",
        "{‘a':1,'b':2,'c':3,'d':4}\n",
        "‘a’ {'b':2,'c':3,'d':4}\n",
        "\n",
        "{‘a':1,'b':2,'c':3,'d':4}\n",
        "‘e’ \\{‘a':1,'b':2,'c':3,'d':4}"
      ],
      "metadata": {
        "id": "UoJuhbeFQXyB"
      },
      "id": "UoJuhbeFQXyB"
    },
    {
      "cell_type": "code",
      "execution_count": 27,
      "metadata": {
        "cellView": "form",
        "collapsed": true,
        "id": "xIZ-obsqMmlm",
        "outputId": "66b23e6f-9aa8-414d-f7a3-52491c2a7b51",
        "colab": {
          "base_uri": "https://localhost:8080/"
        }
      },
      "outputs": [
        {
          "output_type": "stream",
          "name": "stdout",
          "text": [
            "Input key:e\n",
            "{'a': 1, 'b': 2, 'c': 3, 'd': 4}\n"
          ]
        }
      ],
      "source": [
        "# @title\n",
        "key = input('Input key:')\n",
        "D = {'a':1, 'b':2, 'c':3, 'd':4}\n",
        "if key in D:\n",
        "    D.pop(key)\n",
        "    print(D)\n",
        "else:\n",
        "    print(D)"
      ],
      "id": "xIZ-obsqMmlm"
    },
    {
      "cell_type": "code",
      "source": [
        "# @title\n",
        "d = {'a':1,'b':2,'c':3,'d':4}\n",
        "k = 'e'\n",
        "d.pop(k, None)\n",
        "print(d)"
      ],
      "metadata": {
        "collapsed": true,
        "cellView": "form",
        "id": "hMNULt2zSChU",
        "outputId": "1270451c-d00e-482f-dbf7-35eb6b231943",
        "colab": {
          "base_uri": "https://localhost:8080/"
        }
      },
      "id": "hMNULt2zSChU",
      "execution_count": 30,
      "outputs": [
        {
          "output_type": "stream",
          "name": "stdout",
          "text": [
            "{'a': 1, 'b': 2, 'c': 3, 'd': 4}\n"
          ]
        }
      ]
    },
    {
      "cell_type": "markdown",
      "source": [
        "### **6.Given a set, check if the given number exists.**\n",
        "s = {1, 10, 90, 9},\n",
        "n = 90\n",
        "\n",
        "s = {6, 4, 10, 20, 21, 3},\n",
        "n = 90"
      ],
      "metadata": {
        "id": "uNhqGP6pSxuV"
      },
      "id": "uNhqGP6pSxuV"
    },
    {
      "cell_type": "code",
      "execution_count": null,
      "metadata": {
        "cellView": "form",
        "collapsed": true,
        "id": "NIFnhzwPMmlm",
        "outputId": "0798e6d5-449c-4d14-9f23-4f120de30ec9"
      },
      "outputs": [
        {
          "name": "stdout",
          "output_type": "stream",
          "text": [
            "True\n",
            "False\n"
          ]
        }
      ],
      "source": [
        "# @title\n",
        "E = {1, 10, 90, 9}\n",
        "print(90 in E)\n",
        "F = {6, 4, 10, 20, 21, 3}\n",
        "print(90 in F)"
      ],
      "id": "NIFnhzwPMmlm"
    },
    {
      "cell_type": "markdown",
      "source": [
        "### **7.For a given n, create a list (using loops, or list comprehension), which contains all natural numbers less or equal n divisible by 7.**"
      ],
      "metadata": {
        "id": "S5bF4F_FTS7v"
      },
      "id": "S5bF4F_FTS7v"
    },
    {
      "cell_type": "code",
      "execution_count": null,
      "metadata": {
        "cellView": "form",
        "collapsed": true,
        "id": "dSOchl2oMmlm",
        "outputId": "7181ba7e-4680-4ac8-b9ad-affdc871a44d"
      },
      "outputs": [
        {
          "name": "stdout",
          "output_type": "stream",
          "text": [
            "[7, 14, 21, 28, 35, 42, 49, 56, 63, 70, 77, 84, 91, 98]\n"
          ]
        }
      ],
      "source": [
        "# @title\n",
        "lst_3 = [i for i in range(1,100) if i % 7 == 0]\n",
        "print(lst_3)"
      ],
      "id": "dSOchl2oMmlm"
    },
    {
      "cell_type": "code",
      "execution_count": 33,
      "metadata": {
        "cellView": "form",
        "collapsed": true,
        "id": "NnAygC3_Mmln",
        "outputId": "bd363073-d2b5-43fb-a49c-290aebc44e5a",
        "colab": {
          "base_uri": "https://localhost:8080/"
        }
      },
      "outputs": [
        {
          "output_type": "stream",
          "name": "stdout",
          "text": [
            "[7, 14, 21, 28, 35, 42, 49, 56, 63, 70, 77, 84, 91, 98]\n"
          ]
        }
      ],
      "source": [
        "# @title\n",
        "lst_4 = []\n",
        "for i in range(1,100):\n",
        "    if i % 7 == 0:\n",
        "        lst_4.append(i)\n",
        "\n",
        "print(lst_4)"
      ],
      "id": "NnAygC3_Mmln"
    },
    {
      "cell_type": "code",
      "execution_count": 31,
      "metadata": {
        "cellView": "form",
        "collapsed": true,
        "id": "OLPh7KMiMmln",
        "outputId": "283c1fbb-8911-4ed5-98a9-109664d80952",
        "colab": {
          "base_uri": "https://localhost:8080/"
        }
      },
      "outputs": [
        {
          "output_type": "stream",
          "name": "stdout",
          "text": [
            "[7, 14, 21, 28, 35, 42, 49, 56, 63, 70, 77, 84, 91, 98]\n"
          ]
        }
      ],
      "source": [
        "# @title\n",
        "n = 100\n",
        "result = list(range(7, n + 1, 7))\n",
        "print(result)"
      ],
      "id": "OLPh7KMiMmln"
    },
    {
      "cell_type": "code",
      "source": [],
      "metadata": {
        "id": "_RT-egFhUZn7"
      },
      "id": "_RT-egFhUZn7",
      "execution_count": null,
      "outputs": []
    }
  ],
  "metadata": {
    "kernelspec": {
      "display_name": "Python 3",
      "language": "python",
      "name": "python3"
    },
    "language_info": {
      "codemirror_mode": {
        "name": "ipython",
        "version": 3
      },
      "file_extension": ".py",
      "mimetype": "text/x-python",
      "name": "python",
      "nbconvert_exporter": "python",
      "pygments_lexer": "ipython3",
      "version": "3.8.5"
    },
    "colab": {
      "provenance": [],
      "toc_visible": true
    }
  },
  "nbformat": 4,
  "nbformat_minor": 5
}