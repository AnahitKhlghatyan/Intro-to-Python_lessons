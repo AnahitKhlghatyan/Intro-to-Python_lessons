{
 "cells": [
  {
   "cell_type": "code",
   "execution_count": 3,
   "metadata": {},
   "outputs": [
    {
     "data": {
      "text/plain": [
       "'\\n\"Hello world!\"\\nprint(s[-1: : -1])\\n'"
      ]
     },
     "execution_count": 3,
     "metadata": {},
     "output_type": "execute_result"
    }
   ],
   "source": [
    "#REVERSE STRING\n",
    "'''\n",
    "\"Hello world!\"\n",
    "print(s[-1: : -1])\n",
    "'''"
   ]
  },
  {
   "cell_type": "code",
   "execution_count": 4,
   "metadata": {},
   "outputs": [
    {
     "data": {
      "text/plain": [
       "'\\n#input aracy khaskana vorper tox dra hamar petq e convertacia anel int() kam float() funkcianerov kaxvac inputi tesakic\\ns=input()\\nx=int(input())\\ny=float(input())\\n'"
      ]
     },
     "execution_count": 4,
     "metadata": {},
     "output_type": "execute_result"
    }
   ],
   "source": [
    "#FUNCTION INPUT\n",
    "'''\n",
    "#input aracy khaskana vorper tox dra hamar petq e convertacia anel int() kam float() funkcianerov kaxvac inputi tesakic\n",
    "s=input()\n",
    "x=int(input())\n",
    "y=float(input())\n",
    "'''"
   ]
  },
  {
   "cell_type": "code",
   "execution_count": 5,
   "metadata": {},
   "outputs": [
    {
     "data": {
      "text/plain": [
       "\"\\n#tpel erku nermucvac tveri bajanman ardyunqum stacvac tivy toxnelov ketic heto toxnelov 4 tvanshan\\na=int(input())\\nb=int(input())\\nresult=a/b\\nprint('{:.4f}'.format(result))\\n\""
      ]
     },
     "execution_count": 5,
     "metadata": {},
     "output_type": "execute_result"
    }
   ],
   "source": [
    "#FORMAT IN PRINT\n",
    "'''\n",
    "#tpel erku nermucvac tveri bajanman ardyunqum stacvac tivy toxnelov ketic heto toxnelov 4 tvanshan\n",
    "a=int(input())\n",
    "b=int(input())\n",
    "result=a/b\n",
    "print('{:.4f}'.format(result))\n",
    "'''"
   ]
  },
  {
   "cell_type": "code",
   "execution_count": 6,
   "metadata": {},
   "outputs": [
    {
     "data": {
      "text/plain": [
       "\"\\n#nermucel text jnjel a tarery\\ns=input()\\ns=s.replace('a','')\\nprint(s)\\n\""
      ]
     },
     "execution_count": 6,
     "metadata": {},
     "output_type": "execute_result"
    }
   ],
   "source": [
    "#REPLACE\n",
    "'''\n",
    "#nermucel text jnjel a tarery\n",
    "s=input()\n",
    "s=s.replace('a','')\n",
    "print(s)\n",
    "'''"
   ]
  },
  {
   "cell_type": "code",
   "execution_count": null,
   "metadata": {},
   "outputs": [],
   "source": []
  },
  {
   "cell_type": "code",
   "execution_count": 7,
   "metadata": {},
   "outputs": [
    {
     "data": {
      "text/plain": [
       "'\\n#nermucvac toxi arajin tary sarqel mecatar\\n#1\\ns=input()\\ns=s[0].upper()+s[1:]\\nprint(s)\\n\\n#2\\n#REPLACE funkcian kvercni voch te s[0]n miayn ayl s[0]-i arjeqy unecox bolor simvolnery toxum\\ns=input()\\ns.replace(s[0],s[0].upper())\\n\\n'"
      ]
     },
     "execution_count": 7,
     "metadata": {},
     "output_type": "execute_result"
    }
   ],
   "source": [
    "#UPPER AND LOWER\n",
    "'''\n",
    "#nermucvac toxi arajin tary sarqel mecatar\n",
    "#1\n",
    "s=input()\n",
    "s=s[0].upper()+s[1:]\n",
    "print(s)\n",
    "\n",
    "#2\n",
    "#REPLACE funkcian kvercni voch te s[0]n miayn ayl s[0]-i arjeqy unecox bolor simvolnery toxum\n",
    "s=input()\n",
    "s.replace(s[0],s[0].upper())\n",
    "\n",
    "'''"
   ]
  },
  {
   "cell_type": "code",
   "execution_count": 8,
   "metadata": {},
   "outputs": [
    {
     "data": {
      "text/plain": [
       "'\\n#tpel nermucvac erknish tvi tvanshanneri gumary\\na=int(input())\\nsum=a//10+a%10\\nprint(sum)\\n'"
      ]
     },
     "execution_count": 8,
     "metadata": {},
     "output_type": "execute_result"
    }
   ],
   "source": [
    "#MATEMATIKAKAN GORCOXUTYUNNER\n",
    "'''\n",
    "#tpel nermucvac erknish tvi tvanshanneri gumary\n",
    "a=int(input())\n",
    "sum=a//10+a%10\n",
    "print(sum)\n",
    "'''"
   ]
  },
  {
   "cell_type": "code",
   "execution_count": 9,
   "metadata": {},
   "outputs": [
    {
     "data": {
      "text/plain": [
       "'\\n#tpel nermucvac eranish tvi tvanshanneri gumary\\na=int(input())\\nsum=a//100+a//10%10+a%10\\nprint(sum)\\n'"
      ]
     },
     "execution_count": 9,
     "metadata": {},
     "output_type": "execute_result"
    }
   ],
   "source": [
    "'''\n",
    "#tpel nermucvac eranish tvi tvanshanneri gumary\n",
    "a=int(input())\n",
    "sum=a//100+a//10%10+a%10\n",
    "print(sum)\n",
    "'''"
   ]
  },
  {
   "cell_type": "code",
   "execution_count": 10,
   "metadata": {},
   "outputs": [
    {
     "data": {
      "text/plain": [
       "'\\n#trvac e a,b,c,x, hashvel ax^2+bx+c art arjeqy\\na=int(input())\\nb=int(input())\\nc=int(input())\\nx=int(input())\\nprint(a*pow(x,2)+b*x+c)\\n'"
      ]
     },
     "execution_count": 10,
     "metadata": {},
     "output_type": "execute_result"
    }
   ],
   "source": [
    "#MAT FUNCTION POW\n",
    "'''\n",
    "#trvac e a,b,c,x, hashvel ax^2+bx+c art arjeqy\n",
    "a=int(input())\n",
    "b=int(input())\n",
    "c=int(input())\n",
    "x=int(input())\n",
    "print(a*pow(x,2)+b*x+c)\n",
    "'''"
   ]
  },
  {
   "cell_type": "code",
   "execution_count": null,
   "metadata": {},
   "outputs": [],
   "source": [
    "'''\n",
    "#float tvery gumarelis pythony mec chshtutyun e mtcnum, petq e mez anhrajesht chshrtutyun mtcnenq tramabanakan orcoxutyunner katarelu hamar \n",
    "a=0.1+0.2\n",
    "b=0.3\n",
    "epsilon=0.001\n",
    "print(a>b-epsilon and a<b+epsilon)\n",
    "'''"
   ]
  },
  {
   "cell_type": "code",
   "execution_count": 4,
   "metadata": {},
   "outputs": [
    {
     "name": "stdout",
     "output_type": "stream",
     "text": [
      "9.0\n"
     ]
    }
   ],
   "source": [
    "'''\n",
    "# The input of the program consists of five integer numbers: n, an, m, am and k. an is the n-th member of an arithmetic progression,\n",
    "# am is the m-th. You may assume that all n, m and k are positive, n < m and the progression consists only of whole numbers.\n",
    "# Output the k-th member of the progression.\n",
    "# Hint: Use the equations an=a1 + (n-1)d and am=a1 + (m-1)d to get the values a1 and d, after which use the same formula ak=a1 + (k-1)d\n",
    "# to obtain the needed value. Use new variables to store any intermediate results.\n",
    "n=int(input())\n",
    "an=int(input())\n",
    "m=int(input())\n",
    "am=int(input())\n",
    "k=int(input())\n",
    "d=(am-an)/(m-n)\n",
    "a1=an-((n-1)*d)\n",
    "ak=a1+((k-1)*d)\n",
    "print(ak)\n",
    "'''"
   ]
  },
  {
   "cell_type": "code",
   "execution_count": 7,
   "metadata": {},
   "outputs": [
    {
     "name": "stdout",
     "output_type": "stream",
     "text": [
      "3\n",
      "4\n",
      "3\n",
      "4\n",
      "4\n",
      "3\n"
     ]
    }
   ],
   "source": [
    "'''\n",
    "#unenq erku popoxakan texery poxel arjeqneri aranc errord popoxakani\n",
    "a=int(input())\n",
    "b=int(input())\n",
    "print(a)\n",
    "print(b)\n",
    "a=b+a\n",
    "b=a-b\n",
    "a=a-b\n",
    "\n",
    "print(a)\n",
    "print(b)\n",
    "'''"
   ]
  },
  {
   "cell_type": "code",
   "execution_count": 10,
   "metadata": {},
   "outputs": [
    {
     "name": "stdout",
     "output_type": "stream",
     "text": [
      "3.7\n",
      "4\n"
     ]
    }
   ],
   "source": [
    "#nermucum enq float tiv inchpes chisht kloracnel \n",
    "a=float(input())\n",
    "print(int(a+0.5))"
   ]
  },
  {
   "cell_type": "code",
   "execution_count": null,
   "metadata": {},
   "outputs": [],
   "source": []
  }
 ],
 "metadata": {
  "kernelspec": {
   "display_name": "Python 3",
   "language": "python",
   "name": "python3"
  },
  "language_info": {
   "codemirror_mode": {
    "name": "ipython",
    "version": 3
   },
   "file_extension": ".py",
   "mimetype": "text/x-python",
   "name": "python",
   "nbconvert_exporter": "python",
   "pygments_lexer": "ipython3",
   "version": "3.8.8"
  }
 },
 "nbformat": 4,
 "nbformat_minor": 4
}
