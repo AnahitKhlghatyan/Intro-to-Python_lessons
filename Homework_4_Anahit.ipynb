{
 "cells": [
  {
   "cell_type": "code",
   "execution_count": 1,
   "metadata": {},
   "outputs": [],
   "source": [
    "# Index Sum"
   ]
  },
  {
   "cell_type": "code",
   "execution_count": 2,
   "metadata": {},
   "outputs": [
    {
     "name": "stdin",
     "output_type": "stream",
     "text": [
      "N = 5\n",
      " -5\n",
      " 2.5\n",
      " 0\n",
      " 1\n",
      " 3\n"
     ]
    },
    {
     "name": "stdout",
     "output_type": "stream",
     "text": [
      "A = [-5.0, 2.5, 0.0, 1.0, 3.0]\n"
     ]
    },
    {
     "name": "stdin",
     "output_type": "stream",
     "text": [
      "M = 4\n",
      " 0\n",
      " 0\n",
      " 4\n",
      " 4\n"
     ]
    },
    {
     "name": "stdout",
     "output_type": "stream",
     "text": [
      "IND = [0, 0, 4, 4]\n",
      "Index sum is -4.0\n"
     ]
    }
   ],
   "source": [
    "n = int(input('N ='))\n",
    "if n <= 0:\n",
    "    print('N is incorrect')\n",
    "else:\n",
    "    lst = []\n",
    "    for i in range(n):\n",
    "        lst.append(float(input()))\n",
    "    print('A =', lst)\n",
    "\n",
    "    \n",
    "m = int(input('M ='))\n",
    "if m < 0:\n",
    "    print('M is incorrect')\n",
    "else:\n",
    "    lst_1 = []\n",
    "    for i in range(m):\n",
    "        lst_1.append(int(input()))\n",
    "    print('IND =', lst_1)\n",
    "    \n",
    "    \n",
    "s = 0\n",
    "for j in lst_1:\n",
    "    s += lst[j]\n",
    "print('Index sum is', s)"
   ]
  },
  {
   "cell_type": "code",
   "execution_count": 3,
   "metadata": {},
   "outputs": [],
   "source": [
    "# The most divisor-rich number"
   ]
  },
  {
   "cell_type": "code",
   "execution_count": 4,
   "metadata": {},
   "outputs": [],
   "source": [
    "def dv(n):\n",
    "    lst = [i+1 for i in range(n) if n % (i+1) == 0]\n",
    "  \n",
    "    return len(lst)"
   ]
  },
  {
   "cell_type": "code",
   "execution_count": 5,
   "metadata": {},
   "outputs": [
    {
     "name": "stdin",
     "output_type": "stream",
     "text": [
      "a = 30\n",
      "b = 40\n"
     ]
    },
    {
     "name": "stdout",
     "output_type": "stream",
     "text": [
      "The most divisor-rich number is 36\n"
     ]
    }
   ],
   "source": [
    "a = int(input('a ='))\n",
    "b = int(input('b ='))\n",
    "\n",
    "lst = [i for i in range(a, b+1)]\n",
    "\n",
    "lst_1 = list(map(dv, lst))\n",
    "\n",
    "print('The most divisor-rich number is', lst[(lst_1.index(max(lst_1)))])"
   ]
  },
  {
   "cell_type": "code",
   "execution_count": 6,
   "metadata": {},
   "outputs": [],
   "source": [
    "# Tree"
   ]
  },
  {
   "cell_type": "code",
   "execution_count": 31,
   "metadata": {},
   "outputs": [
    {
     "name": "stdin",
     "output_type": "stream",
     "text": [
      "Input the base width of the tree: 9\n"
     ]
    },
    {
     "name": "stdout",
     "output_type": "stream",
     "text": [
      "    *\n",
      "   ***\n",
      "  *****\n",
      " *******\n",
      "*********\n"
     ]
    }
   ],
   "source": [
    "x = int(input('Input the base width of the tree:'))\n",
    "lst = [i for i in range(1, x+1) if i % 2 == 1]\n",
    "\n",
    "k = x + 1\n",
    "v = int((x-1)/2+1)\n",
    "for i in lst:\n",
    "    k -= 2\n",
    "    v -= 1\n",
    "    print(' ' * v + i * '*')"
   ]
  },
  {
   "cell_type": "code",
   "execution_count": 8,
   "metadata": {},
   "outputs": [],
   "source": [
    "# The Goldbach Conjecture"
   ]
  },
  {
   "cell_type": "code",
   "execution_count": 9,
   "metadata": {},
   "outputs": [],
   "source": [
    "def prime(n):\n",
    "    if dv(n) == 2:\n",
    "        print('{} is prime number'.format(n))\n",
    "    else:\n",
    "        print('{} is not prime number'.format(n))"
   ]
  },
  {
   "cell_type": "code",
   "execution_count": 10,
   "metadata": {},
   "outputs": [
    {
     "name": "stdin",
     "output_type": "stream",
     "text": [
      "Input even number: 992\n"
     ]
    },
    {
     "name": "stdout",
     "output_type": "stream",
     "text": [
      "992 equals 73 + 919\n",
      "______________________________\n",
      "73 is prime number\n",
      "919 is prime number\n"
     ]
    }
   ],
   "source": [
    "n = int(input('Input even number:'))\n",
    "\n",
    "lst = [i+1 for i in range(1, n)]\n",
    "l = [i for i in lst if dv(i) == 2]\n",
    "\n",
    "for i in l:\n",
    "    k = n-i\n",
    "    if dv(k) == 2:\n",
    "        print('{} equals {} + {}'.format(n,i,k))\n",
    "        break\n",
    "print('_'*30)\n",
    "prime(i)\n",
    "prime(k)"
   ]
  },
  {
   "cell_type": "code",
   "execution_count": 11,
   "metadata": {},
   "outputs": [],
   "source": [
    "# Polindrome numbers"
   ]
  },
  {
   "cell_type": "code",
   "execution_count": 12,
   "metadata": {},
   "outputs": [
    {
     "name": "stdin",
     "output_type": "stream",
     "text": [
      "a = 1300\n",
      "b = 1350\n"
     ]
    },
    {
     "name": "stdout",
     "output_type": "stream",
     "text": [
      "1331\n"
     ]
    }
   ],
   "source": [
    "a = int(input('a ='))\n",
    "b = int(input('b ='))\n",
    "\n",
    "lst = [i for i in range(a,b+1)]\n",
    "for i in lst:\n",
    "    l = list(str(i))\n",
    "    if len(l) % 2 == 0:\n",
    "        if (l[0:(len(l)//2)] == l[-1:(len(l)//2-1):-1]) == True:\n",
    "            print(int(''.join(l)))\n",
    "        else:\n",
    "            pass\n",
    "    else: \n",
    "        if (l[0:(len(l)//2)] == l[-1:(len(l)//2):-1]) == True:\n",
    "            print(int(''.join(l)))\n",
    "        else:\n",
    "            pass"
   ]
  },
  {
   "cell_type": "code",
   "execution_count": 13,
   "metadata": {},
   "outputs": [],
   "source": [
    "# Suffix sums"
   ]
  },
  {
   "cell_type": "code",
   "execution_count": 14,
   "metadata": {},
   "outputs": [
    {
     "name": "stdin",
     "output_type": "stream",
     "text": [
      "n = 3\n",
      " 1.5\n",
      " 2.5\n",
      " 3\n"
     ]
    },
    {
     "name": "stdout",
     "output_type": "stream",
     "text": [
      "A = [1.5, 2.5, 3.0]\n",
      "B = [7.0, 5.5, 3.0]\n"
     ]
    }
   ],
   "source": [
    "n = int(input('n ='))\n",
    "A = [float(input()) for i in range(n)]\n",
    "print('A =', A)\n",
    "B = []\n",
    "for i in A:\n",
    "    B.append(sum(A[A.index(i):len(A)]))\n",
    "print('B =',B)"
   ]
  },
  {
   "cell_type": "code",
   "execution_count": 15,
   "metadata": {},
   "outputs": [],
   "source": [
    "# Cyclic Shift"
   ]
  },
  {
   "cell_type": "code",
   "execution_count": 16,
   "metadata": {},
   "outputs": [
    {
     "name": "stdin",
     "output_type": "stream",
     "text": [
      "N = 6\n",
      "k = 1\n",
      " 7\n",
      " 1\n",
      " 7\n",
      " 2\n",
      " 6\n",
      " 1\n"
     ]
    },
    {
     "name": "stdout",
     "output_type": "stream",
     "text": [
      "Original list [7, 1, 7, 2, 6, 1]\n",
      "Shifted list [1, 7, 1, 7, 2, 6]\n"
     ]
    }
   ],
   "source": [
    "N = int(input('N ='))\n",
    "k = int(input('k ='))\n",
    "lst = [int(input()) for i in range(N)]\n",
    "print('Original list',lst)\n",
    "while k > 0:\n",
    "    k -= 1\n",
    "    lst.insert(0, lst[-1])\n",
    "    lst.pop()\n",
    "print('Shifted list',lst)"
   ]
  },
  {
   "cell_type": "code",
   "execution_count": 29,
   "metadata": {},
   "outputs": [
    {
     "name": "stdin",
     "output_type": "stream",
     "text": [
      "N = 3\n",
      "k = 1000\n",
      " 9\n",
      " 1\n",
      " 2\n"
     ]
    },
    {
     "name": "stdout",
     "output_type": "stream",
     "text": [
      "Original list [9, 1, 2]\n",
      "Shifted list [2, 9, 1]\n"
     ]
    }
   ],
   "source": [
    "N = int(input('N ='))\n",
    "k = int(input('k ='))\n",
    "original = [int(input()) for i in range(N)]\n",
    "\n",
    "if k <= N:\n",
    "    lst = []\n",
    "    for i in range(0, len(original)-k):\n",
    "        lst.append(original[i])\n",
    "\n",
    "    shft = []\n",
    "    for i in range(len(original)-k, len(original)):\n",
    "        shft.append(original[i])\n",
    "else:\n",
    "    k = k % N\n",
    "    lst = []\n",
    "    for i in range(0, len(original)-k):\n",
    "        lst.append(original[i])\n",
    "\n",
    "    shft = []\n",
    "    for i in range(len(original)-k, len(original)):\n",
    "        shft.append(original[i])\n",
    "        \n",
    "Shifted_list = shft + lst\n",
    "print('Original list', original)\n",
    "print('Shifted list', Shifted_list)"
   ]
  },
  {
   "cell_type": "markdown",
   "metadata": {},
   "source": []
  }
 ],
 "metadata": {
  "kernelspec": {
   "display_name": "Python 3",
   "language": "python",
   "name": "python3"
  },
  "language_info": {
   "codemirror_mode": {
    "name": "ipython",
    "version": 3
   },
   "file_extension": ".py",
   "mimetype": "text/x-python",
   "name": "python",
   "nbconvert_exporter": "python",
   "pygments_lexer": "ipython3",
   "version": "3.8.5"
  }
 },
 "nbformat": 4,
 "nbformat_minor": 4
}
