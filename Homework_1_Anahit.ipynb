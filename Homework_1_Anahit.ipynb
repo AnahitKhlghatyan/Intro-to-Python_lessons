{
  "cells": [
    {
      "cell_type": "markdown",
      "source": [
        "### **1. The program’s input is a four-digit number (do not check that fact, just assume it to be true). Output the sum of its digits.**\n",
        "\n",
        "| Input  | Output |\n",
        "|--------|--------|\n",
        "| 1511   | 8      |\n",
        "| 7087   | 22     |\n",
        "| 2123   | 8      |"
      ],
      "metadata": {
        "id": "1Ei8bMvzCsxW"
      }
    },
    {
      "cell_type": "code",
      "execution_count": 19,
      "metadata": {
        "colab": {
          "base_uri": "https://localhost:8080/"
        },
        "cellView": "form",
        "collapsed": true,
        "id": "yLgG6esh_nu8",
        "outputId": "3c15a501-fa92-47df-d87f-9b14f5a68cb7"
      },
      "outputs": [
        {
          "output_type": "stream",
          "name": "stdout",
          "text": [
            "1557\n",
            "18\n"
          ]
        }
      ],
      "source": [
        "# @title\n",
        "a = int(input())\n",
        "print(a//1000+a//100%10+a//10%10+a%10)"
      ]
    },
    {
      "cell_type": "code",
      "source": [
        "# @title\n",
        "n = int(input())\n",
        "s = str(n)\n",
        "sum_of_digits = int(s[0]) + int(s[1]) + int(s[2]) + int(s[3])\n",
        "print(sum_of_digits)"
      ],
      "metadata": {
        "colab": {
          "base_uri": "https://localhost:8080/"
        },
        "collapsed": true,
        "cellView": "form",
        "id": "Tn6lozknAGre",
        "outputId": "1d7499f9-ad87-47f6-e9f3-272dc769949e"
      },
      "execution_count": 20,
      "outputs": [
        {
          "output_type": "stream",
          "name": "stdout",
          "text": [
            "1557\n",
            "18\n"
          ]
        }
      ]
    },
    {
      "cell_type": "code",
      "source": [],
      "metadata": {
        "id": "WcHz2o45LRzT"
      },
      "execution_count": null,
      "outputs": []
    },
    {
      "cell_type": "markdown",
      "source": [
        "### **2. The input of the program consists of two integers: the legs of a right triangle. Output the triangle’s area**\n",
        "\n",
        "| a | b | Area (Output) |\n",
        "|---|---|----------------|\n",
        "| 4 | 5 | 10.0           |\n",
        "| 4 | 4 | 8.0            |\n",
        "| 5 | 5 | 12.5           |"
      ],
      "metadata": {
        "id": "JM2w7A14C5JC"
      }
    },
    {
      "cell_type": "code",
      "execution_count": null,
      "metadata": {
        "collapsed": true,
        "cellView": "form",
        "id": "YELDSBIw_nu9",
        "outputId": "a87509e2-b890-4ca5-cbf0-f74b997bb509"
      },
      "outputs": [
        {
          "name": "stdin",
          "output_type": "stream",
          "text": [
            " 4\n",
            " 5\n"
          ]
        },
        {
          "name": "stdout",
          "output_type": "stream",
          "text": [
            "10.0\n"
          ]
        }
      ],
      "source": [
        "# @title\n",
        "x = int(input())\n",
        "y = int(input())\n",
        "print((x*y)/2)"
      ]
    },
    {
      "cell_type": "markdown",
      "source": [
        "**3. The program input consists of 3 integer numbers: a1, a2 and n. a1 and\n",
        "a2 are the first two members of arithmetic progression. Output the value\n",
        "of the n-th member.**"
      ],
      "metadata": {
        "id": "RXfOT0ldCWzU"
      }
    },
    {
      "cell_type": "markdown",
      "source": [
        "### **3. The program input consists of 3 integer numbers: a1, a2 and n. a1 and a2 are the first two members of arithmetic progression. Output the value of the n-th member.**\n",
        "\n",
        "| Input Values       | Output |\n",
        "|--------------------|--------|\n",
        "| 2, 4, 3            | 6      |\n",
        "| 3, 3, 1500         | 3      |                \n",
        "| 9, 4, 2            | 4      |"
      ],
      "metadata": {
        "id": "-kXsV7W4DJHe"
      }
    },
    {
      "cell_type": "code",
      "execution_count": 6,
      "metadata": {
        "colab": {
          "base_uri": "https://localhost:8080/"
        },
        "collapsed": true,
        "cellView": "form",
        "id": "1ES1UuVS_nu9",
        "outputId": "9b6ffdc5-5bb0-458b-d24d-24332e457569"
      },
      "outputs": [
        {
          "output_type": "stream",
          "name": "stdout",
          "text": [
            "2\n",
            "4\n",
            "5\n",
            "10\n"
          ]
        }
      ],
      "source": [
        "# @title\n",
        "a1 = int(input())\n",
        "a2 = int(input())\n",
        "n = int(input())\n",
        "an = a1 + (n-1)*(a2-a1)\n",
        "print(an)"
      ]
    },
    {
      "cell_type": "markdown",
      "source": [
        "### **4.Given a year, return the century it is in. The first century spans from the year 1 up to and including the year 100, the second - from the year 101 up to and including the year 200, etc.**"
      ],
      "metadata": {
        "id": "sZpQvwypD-HZ"
      }
    },
    {
      "cell_type": "code",
      "execution_count": 8,
      "metadata": {
        "colab": {
          "base_uri": "https://localhost:8080/"
        },
        "cellView": "form",
        "collapsed": true,
        "id": "Ii7RFtSc_nu9",
        "outputId": "acbf655b-9bde-4d1c-95bf-3ee7bc9ec7a0"
      },
      "outputs": [
        {
          "output_type": "stream",
          "name": "stdout",
          "text": [
            "1905\n",
            "20\n"
          ]
        }
      ],
      "source": [
        "# @title\n",
        "year = int(input())\n",
        "century = (year + 99) // 100\n",
        "print(century)"
      ]
    },
    {
      "cell_type": "markdown",
      "source": [
        "### **5.Two men start to shoot several cans of Coca-Cola they have put on a log. The first man began shooting the cans in order, starting with the leftmost, the second man from the rightmost. At some point, they simultaneously shot the same last can. And at this point they stop.You are given the number of cans the first man has shot, and the number of cans the second man has shot. Output the number of cans the first man missed because of the second man, and the number of cans the second man missed because of the first man.**"
      ],
      "metadata": {
        "id": "v9y5hMtHEcX7"
      }
    },
    {
      "cell_type": "code",
      "execution_count": 10,
      "metadata": {
        "colab": {
          "base_uri": "https://localhost:8080/"
        },
        "collapsed": true,
        "cellView": "form",
        "id": "6aItR61N_nu-",
        "outputId": "9ed5a84f-f239-4f04-9a5f-4f8a4f25c5cb"
      },
      "outputs": [
        {
          "output_type": "stream",
          "name": "stdout",
          "text": [
            "4\n",
            "9\n",
            "8\n",
            "3\n"
          ]
        }
      ],
      "source": [
        "# @title\n",
        "man1 = int(input())\n",
        "man2 = int(input())\n",
        "m1 = man2 - 1\n",
        "m2 = man1 - 1\n",
        "print(m1)\n",
        "print(m2)"
      ]
    },
    {
      "cell_type": "markdown",
      "source": [
        "### **6. You are given the coordinates of a cell on a standard chess board: py and px. It is guaranteed that the coordinates are correct, i.e. are integers from the interval [1,8]. Output all cells that the knight can move in a single move(each coordinate pair on separate line). It is guaranteed that for a given input cell all 8 moves exist. The output cells order does not matter.**"
      ],
      "metadata": {
        "id": "uNycMAFsGum_"
      }
    },
    {
      "cell_type": "code",
      "execution_count": 11,
      "metadata": {
        "colab": {
          "base_uri": "https://localhost:8080/"
        },
        "cellView": "form",
        "collapsed": true,
        "id": "MKuv9fxW_nu-",
        "outputId": "cf4e3817-2397-4223-9878-a36ecaa3c87a"
      },
      "outputs": [
        {
          "output_type": "stream",
          "name": "stdout",
          "text": [
            "6\n",
            "4\n",
            "5 6\n",
            "5 2\n",
            "7 2\n",
            "7 6\n",
            "4 5\n",
            "4 3\n",
            "8 5\n",
            "8 3\n"
          ]
        }
      ],
      "source": [
        "# @title\n",
        "x = int(input())\n",
        "y = int(input())\n",
        "print(x-1, y+2)\n",
        "print(x-1, y-2)\n",
        "print(x+1, y-2)\n",
        "print(x+1, y+2)\n",
        "print(x-2, y+1)\n",
        "print(x-2, y-1)\n",
        "print(x+2, y+1)\n",
        "print(x+2, y-1)"
      ]
    },
    {
      "cell_type": "markdown",
      "source": [
        "### **7. Given a string of odd length greater than 3, return a new string made of the middle three characters of a given String**\n",
        "\n",
        "### JhonDipPeta - Dip\n",
        "\n",
        "### JaSonAy - Son"
      ],
      "metadata": {
        "id": "whJpqFYnHSgN"
      }
    },
    {
      "cell_type": "code",
      "execution_count": 12,
      "metadata": {
        "colab": {
          "base_uri": "https://localhost:8080/"
        },
        "cellView": "form",
        "collapsed": true,
        "id": "W_UeeGIR_nu-",
        "outputId": "b3b7d20e-6260-422c-95f6-a42951386c2f"
      },
      "outputs": [
        {
          "output_type": "stream",
          "name": "stdout",
          "text": [
            "JhonDipPeta\n",
            "Dip\n"
          ]
        }
      ],
      "source": [
        "# @title\n",
        "text = str(input())\n",
        "m = len(text) // 2\n",
        "print(text[m-1] + text[m] + text[m+1])"
      ]
    },
    {
      "cell_type": "markdown",
      "source": [
        "### **8.Given two strings, s1 and s2, create a new string by appending s2 in the middle of s1.**\n",
        "### s1 = \"Ault\", s2 = \"Kelly\"\n",
        "### AuKellylt"
      ],
      "metadata": {
        "id": "KcE5NngvIAc5"
      }
    },
    {
      "cell_type": "code",
      "execution_count": 17,
      "metadata": {
        "colab": {
          "base_uri": "https://localhost:8080/"
        },
        "cellView": "form",
        "collapsed": true,
        "id": "FHkwTTrS_nu-",
        "outputId": "8ba8848f-033c-4381-a4b6-bdee27233dca"
      },
      "outputs": [
        {
          "output_type": "stream",
          "name": "stdout",
          "text": [
            "Ault\n",
            "Kelly\n",
            "AuKellylt\n"
          ]
        }
      ],
      "source": [
        "# @title\n",
        "s1 = str(input())\n",
        "s2 = str(input())\n",
        "m = len(s1) // 2\n",
        "new_string = s1[:m] + s2 + s1[m:]\n",
        "print(new_string)"
      ]
    },
    {
      "cell_type": "markdown",
      "source": [
        "### **9. Given two strings, s1 and s2, create a new string made of the first,middle, and last characters of s1 and s2.**\n",
        "s1 = \"America\",\n",
        "s2 = \"Japan\"\n",
        "\n",
        "AJrpan"
      ],
      "metadata": {
        "id": "gccx5ARrI2KE"
      }
    },
    {
      "cell_type": "code",
      "execution_count": null,
      "metadata": {
        "cellView": "form",
        "collapsed": true,
        "id": "WA-I_ruW_nu-",
        "outputId": "adbe5042-a8d5-4a65-b5df-f4003bd60902"
      },
      "outputs": [
        {
          "name": "stdin",
          "output_type": "stream",
          "text": [
            " America\n",
            " Japan\n"
          ]
        },
        {
          "name": "stdout",
          "output_type": "stream",
          "text": [
            "AJrpan\n"
          ]
        }
      ],
      "source": [
        "# @title\n",
        "str1 = str(input())\n",
        "str2 = str(input())\n",
        "print(str1[0]+str2[0]+str1[len(str1)//2]+str2[len(str2)//2]+str1[-1]+str2[-1])"
      ]
    }
  ],
  "metadata": {
    "kernelspec": {
      "display_name": "Python 3",
      "language": "python",
      "name": "python3"
    },
    "language_info": {
      "codemirror_mode": {
        "name": "ipython",
        "version": 3
      },
      "file_extension": ".py",
      "mimetype": "text/x-python",
      "name": "python",
      "nbconvert_exporter": "python",
      "pygments_lexer": "ipython3",
      "version": "3.8.5"
    },
    "colab": {
      "provenance": []
    }
  },
  "nbformat": 4,
  "nbformat_minor": 0
}