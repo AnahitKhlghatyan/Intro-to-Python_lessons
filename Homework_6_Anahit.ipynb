{
 "cells": [
  {
   "cell_type": "code",
   "execution_count": null,
   "metadata": {},
   "outputs": [],
   "source": [
    "# 1.Real, complex,scalar"
   ]
  },
  {
   "cell_type": "code",
   "execution_count": 3,
   "metadata": {},
   "outputs": [],
   "source": [
    "import numpy as np"
   ]
  },
  {
   "cell_type": "code",
   "execution_count": 53,
   "metadata": {},
   "outputs": [
    {
     "name": "stdout",
     "output_type": "stream",
     "text": [
      "Array: [[3.94692767 3.97951295 4.57063303 1.04680778 0.66616271]\n",
      " [0.35560174 0.4635234  4.07890073 4.60642292 4.96060029]\n",
      " [4.98801458 2.52644771 3.04632747 1.29564683 2.96368493]\n",
      " [1.90427514 1.83298758 3.70930129 3.10923057 4.49587359]]\n",
      "________________________________________________________________________________\n",
      "Real: [3.94692767 3.97951295 4.57063303 1.04680778 0.66616271 0.35560174\n",
      " 0.4635234  4.07890073 4.60642292 4.96060029 4.98801458 2.52644771\n",
      " 3.04632747 1.29564683 2.96368493 1.90427514 1.83298758 3.70930129\n",
      " 3.10923057 4.49587359]\n",
      "________________________________________________________________________________\n",
      "Complex: []\n"
     ]
    }
   ],
   "source": [
    "arr = (np.random.random(20) * 5).reshape(4,5)\n",
    "print('Array:',arr)\n",
    "print('_'*80)\n",
    "print('Real:',arr[np.isreal(arr)])\n",
    "print('_'*80)\n",
    "print('Complex:',arr[np.iscomplex(arr)])"
   ]
  },
  {
   "cell_type": "code",
   "execution_count": 62,
   "metadata": {},
   "outputs": [
    {
     "name": "stdout",
     "output_type": "stream",
     "text": [
      "Scalars in array: [False, False, False, False]\n",
      "Scalars in array lists: [True, True, True, True, True, True, True, True, True, True, True, True, True, True, True, True, True, True, True, True]\n"
     ]
    }
   ],
   "source": [
    "scalar = []\n",
    "for i in arr:\n",
    "    scalar.append(np.isscalar(i))\n",
    "print('Scalars in array:',scalar)\n",
    "\n",
    "scalar_lst = []\n",
    "for i in arr:\n",
    "    for j in i:\n",
    "        scalar_lst.append(np.isscalar(j))\n",
    "print('Scalars in array lists:',scalar_lst)"
   ]
  },
  {
   "cell_type": "code",
   "execution_count": null,
   "metadata": {},
   "outputs": [],
   "source": [
    "# 2.Element-wise comparison"
   ]
  },
  {
   "cell_type": "code",
   "execution_count": 63,
   "metadata": {},
   "outputs": [
    {
     "name": "stdout",
     "output_type": "stream",
     "text": [
      "Array_1: [21 80 22 61 73 88  2 58 93 15 17 45 26 49 49 33 80 21 26 72]\n",
      "____________________________________________________________________________________________________\n",
      "Array_2: [ 98  30 105  70 107  50  74  65  31  68  85 114 115  84 114  46  92 118\n",
      "  86  64]\n",
      "____________________________________________________________________________________________________\n",
      "Equal: [False False False False False False False False False False False False\n",
      " False False False False False False False False]\n",
      "____________________________________________________________________________________________________\n",
      "Greater: [False  True False False False  True False False  True False False False\n",
      " False False False False False False False  True]\n",
      "____________________________________________________________________________________________________\n",
      "Greater equal: [False  True False False False  True False False  True False False False\n",
      " False False False False False False False  True]\n",
      "____________________________________________________________________________________________________\n",
      "Less: [ True False  True  True  True False  True  True False  True  True  True\n",
      "  True  True  True  True  True  True  True False]\n",
      "____________________________________________________________________________________________________\n",
      "Less equal: [ True False  True  True  True False  True  True False  True  True  True\n",
      "  True  True  True  True  True  True  True False]\n"
     ]
    }
   ],
   "source": [
    "arr_1 = np.random.randint(1,100,20)\n",
    "arr_2 = np.random.randint(20,120,20)\n",
    "print('Array_1:',arr_1)\n",
    "print('_' * 100)\n",
    "print('Array_2:',arr_2)\n",
    "print('_' * 100)\n",
    "print('Equal:',np.equal(arr_1,arr_2))\n",
    "print('_' * 100)\n",
    "print('Greater:',np.greater(arr_1,arr_2))\n",
    "print('_' * 100)\n",
    "print('Greater equal:',np.greater_equal(arr_1,arr_2))\n",
    "print('_' * 100)\n",
    "print('Less:',np.less(arr_1,arr_2))\n",
    "print('_' * 100)\n",
    "print('Less equal:',np.less_equal(arr_1,arr_2))"
   ]
  },
  {
   "cell_type": "code",
   "execution_count": 63,
   "metadata": {},
   "outputs": [],
   "source": [
    "# 3.NumPy array of 10 zeros,10 ones, 10 fives."
   ]
  },
  {
   "cell_type": "code",
   "execution_count": 71,
   "metadata": {},
   "outputs": [
    {
     "name": "stdout",
     "output_type": "stream",
     "text": [
      "[[0. 0. 0. 0. 0. 0. 0. 0. 0. 0.]\n",
      " [1. 1. 1. 1. 1. 1. 1. 1. 1. 1.]\n",
      " [5. 5. 5. 5. 5. 5. 5. 5. 5. 5.]]\n"
     ]
    }
   ],
   "source": [
    "arr_1 = np.zeros(10)\n",
    "arr_2 = np.ones(10)\n",
    "arr_3 = np.zeros(10)\n",
    "arr_3.fill(5)\n",
    "\n",
    "array = np.asarray((arr_1,arr_2,arr_3), dtype = float)\n",
    "print(array)"
   ]
  },
  {
   "cell_type": "code",
   "execution_count": null,
   "metadata": {},
   "outputs": [],
   "source": [
    "# 4.Update 6th number"
   ]
  },
  {
   "cell_type": "code",
   "execution_count": 64,
   "metadata": {},
   "outputs": [
    {
     "name": "stdout",
     "output_type": "stream",
     "text": [
      "[ 0.  0.  0.  0.  0. 11.  0.  0.  0.  0.]\n"
     ]
    }
   ],
   "source": [
    "vec = np.zeros(10)\n",
    "vec[5] = 11\n",
    "print(vec)"
   ]
  },
  {
   "cell_type": "code",
   "execution_count": null,
   "metadata": {},
   "outputs": [],
   "source": [
    "# 5.Array from normal distribution "
   ]
  },
  {
   "cell_type": "code",
   "execution_count": 69,
   "metadata": {},
   "outputs": [
    {
     "name": "stdout",
     "output_type": "stream",
     "text": [
      "Normal distributed array:\n",
      " [[ 1.49507935  0.84278885  1.68044865  1.49461918  1.90937238]\n",
      " [ 0.79488176  0.01469364  0.48649149  1.21982902  0.75839408]\n",
      " [ 0.41322533  1.48758463  0.26875677  2.81579428  0.52938124]\n",
      " [ 1.13824116 -0.1904366   0.92060983  0.03172401  0.84546444]\n",
      " [-0.22791434  0.62417794 -1.00765087  1.84973255  1.19623118]]\n",
      "______________________________________________________________________\n",
      "Reversed array:\n",
      " [[ 1.19623118  1.84973255 -1.00765087  0.62417794 -0.22791434]\n",
      " [ 0.84546444  0.03172401  0.92060983 -0.1904366   1.13824116]\n",
      " [ 0.52938124  2.81579428  0.26875677  1.48758463  0.41322533]\n",
      " [ 0.75839408  1.21982902  0.48649149  0.01469364  0.79488176]\n",
      " [ 1.90937238  1.49461918  1.68044865  0.84278885  1.49507935]]\n"
     ]
    }
   ],
   "source": [
    "normal_arr = np.random.normal(1,1,(5,5))\n",
    "print('Normal distributed array:\\n',normal_arr)\n",
    "print('_'*70)\n",
    "print('Reversed array:\\n',np.flip(normal_arr))"
   ]
  },
  {
   "cell_type": "code",
   "execution_count": null,
   "metadata": {},
   "outputs": [],
   "source": [
    "# 6.Borders"
   ]
  },
  {
   "cell_type": "code",
   "execution_count": 117,
   "metadata": {},
   "outputs": [
    {
     "name": "stdout",
     "output_type": "stream",
     "text": [
      "[[1. 1. 1.]\n",
      " [1. 1. 1.]\n",
      " [1. 1. 1.]]\n",
      "[[0. 0. 0. 0. 0.]\n",
      " [0. 1. 1. 1. 0.]\n",
      " [0. 1. 1. 1. 0.]\n",
      " [0. 1. 1. 1. 0.]\n",
      " [0. 0. 0. 0. 0.]]\n"
     ]
    }
   ],
   "source": [
    "arr_ones = np.ones(9).reshape(3,3)\n",
    "print(arr_ones)\n",
    "border = np.pad(arr_ones,1)\n",
    "print(border)"
   ]
  },
  {
   "cell_type": "code",
   "execution_count": 118,
   "metadata": {},
   "outputs": [],
   "source": [
    "# 7.Checkerbord pattern"
   ]
  },
  {
   "cell_type": "code",
   "execution_count": 133,
   "metadata": {},
   "outputs": [
    {
     "name": "stdout",
     "output_type": "stream",
     "text": [
      "[[0 1 0 1 0 1 0 1]\n",
      " [1 0 1 0 1 0 1 0]\n",
      " [0 1 0 1 0 1 0 1]\n",
      " [1 0 1 0 1 0 1 0]\n",
      " [0 1 0 1 0 1 0 1]\n",
      " [1 0 1 0 1 0 1 0]\n",
      " [0 1 0 1 0 1 0 1]\n",
      " [1 0 1 0 1 0 1 0]]\n"
     ]
    }
   ],
   "source": [
    "arr = np.zeros(64, dtype = int).reshape(8,8)\n",
    "arr[1::2,::2] = 1\n",
    "arr[::2,1::2] = 1\n",
    "print(arr)"
   ]
  },
  {
   "cell_type": "code",
   "execution_count": null,
   "metadata": {},
   "outputs": [],
   "source": [
    "# 8.Centigrade to Fahrenheit"
   ]
  },
  {
   "cell_type": "code",
   "execution_count": 70,
   "metadata": {},
   "outputs": [
    {
     "name": "stdout",
     "output_type": "stream",
     "text": [
      "Centigrade array:\n",
      " [24.98120456  7.17332889 20.15936072  6.73067761 20.85405736 14.97942592\n",
      " 23.09816092 19.17322886  3.56925702 15.04331033  8.6147361  27.60637672\n",
      " 27.13531583 10.56381855 11.24557991 16.97347126 11.55021329 25.51485801\n",
      " 21.32147374 18.23745642]\n",
      "________________________________________________________________________________\n",
      "Fahrenheit array:\n",
      " [94.96616821 62.91199199 86.28684929 62.1152197  87.53730324 76.96296665\n",
      " 91.57668966 84.51181194 56.42466263 77.0779586  65.50652499 99.69147809\n",
      " 98.8435685  69.01487339 70.24204384 80.55224827 70.79038391 95.92674441\n",
      " 88.37865273 82.82742156]\n"
     ]
    }
   ],
   "source": [
    "arr = np.random.random(20) * 30\n",
    "arr_fahrenheit = arr * 9/5 +50 \n",
    "print('Centigrade array:\\n',arr)\n",
    "print('_'*80)\n",
    "print('Fahrenheit array:\\n',arr_fahrenheit)"
   ]
  },
  {
   "cell_type": "code",
   "execution_count": 1,
   "metadata": {},
   "outputs": [],
   "source": [
    "# 9.Two arrays"
   ]
  },
  {
   "cell_type": "code",
   "execution_count": 76,
   "metadata": {},
   "outputs": [
    {
     "name": "stdout",
     "output_type": "stream",
     "text": [
      "Array 1: [37 15 24  8 22 30 35 47 27 31]\n",
      "Array 2: [14 49 13 22 32 32 44 31 45 28]\n",
      "[False, False, False, False, True, False, False, False, False, True]\n"
     ]
    }
   ],
   "source": [
    "arr_1 = np.random.randint(0,50,10)\n",
    "arr_2 = np.random.randint(0,50,10)\n",
    "print('Array 1:',arr_1)\n",
    "print('Array 2:',arr_2)\n",
    "check = []\n",
    "for i in range(len(arr_1)):\n",
    "    if arr_1[i] in arr_2:\n",
    "        check.append(True)\n",
    "    else:\n",
    "        check.append(False)\n",
    "print(check)"
   ]
  },
  {
   "cell_type": "code",
   "execution_count": 75,
   "metadata": {},
   "outputs": [],
   "source": [
    "# Equal values"
   ]
  },
  {
   "cell_type": "code",
   "execution_count": 40,
   "metadata": {},
   "outputs": [
    {
     "name": "stdout",
     "output_type": "stream",
     "text": [
      "Array 1: [15 13  9  8 10 10  5  7  1  3]\n",
      "Array 2: [13 10  7  7  3  2 12 17  5 13]\n",
      "Equal values: {3, 5, 7, 10, 13}\n"
     ]
    }
   ],
   "source": [
    "arr_1 = np.random.randint(0,20,10)\n",
    "arr_2 = np.random.randint(0,20,10)\n",
    "print('Array 1:',arr_1)\n",
    "print('Array 2:',arr_2)\n",
    "equal = []\n",
    "for i in range(len(arr_1)):\n",
    "    if arr_1[i] in arr_2:\n",
    "        equal.append(arr_1[i])\n",
    "print('Equal values:',set(equal))"
   ]
  }
 ],
 "metadata": {
  "kernelspec": {
   "display_name": "Python 3",
   "language": "python",
   "name": "python3"
  },
  "language_info": {
   "codemirror_mode": {
    "name": "ipython",
    "version": 3
   },
   "file_extension": ".py",
   "mimetype": "text/x-python",
   "name": "python",
   "nbconvert_exporter": "python",
   "pygments_lexer": "ipython3",
   "version": "3.8.5"
  }
 },
 "nbformat": 4,
 "nbformat_minor": 4
}
