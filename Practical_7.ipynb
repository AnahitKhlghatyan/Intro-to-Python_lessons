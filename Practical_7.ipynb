{
 "cells": [
  {
   "cell_type": "code",
   "execution_count": 1,
   "metadata": {
    "id": "mWXW9NNuSwOj"
   },
   "outputs": [],
   "source": [
    "import numpy as np"
   ]
  },
  {
   "cell_type": "markdown",
   "metadata": {
    "id": "4X5FEsXPf6R8"
   },
   "source": [
    "1. Ստեղծել np զանգված, որը կպարունակի 100 պատահական ամբողջ թիվ։ Այնուհետև ստանալ այն տարրերի ինդեքսները, որոնք ավարտվում են 6-ով։"
   ]
  },
  {
   "cell_type": "code",
   "execution_count": 2,
   "metadata": {
    "id": "uPMKpoTUfpBX"
   },
   "outputs": [
    {
     "name": "stdout",
     "output_type": "stream",
     "text": [
      "[42 94 41 87 93 60 27 41  1 99 79 85 49 21 82 67 83  6 16 58 41  6 58  6\n",
      " 98 67 24 27 24 88 67 24 49 99  2 65 62  8 43 86 86 52 49 77  4 64 84 79\n",
      " 36  4 45 33 66 78 50 11 25 75 90 28 73 14 15 35 53 47 91 33 50 29 60 81\n",
      " 47 42 43 76 65 44 13 17 77 66 73 82 17 83 72  3  6 15 62 21 56 38 89 34\n",
      " 55 47  7 34]\n",
      "(array([17, 18, 21, 23, 39, 40, 48, 52, 75, 81, 88, 92], dtype=int64),)\n",
      "[ 6 16  6  6 86 86 36 66 76 66  6 56]\n"
     ]
    }
   ],
   "source": [
    "arr = np.random.randint(0, 100, 100)\n",
    "index = np.where(arr%10 == 6 )\n",
    "print(arr)\n",
    "print(index)\n",
    "print(arr[index])"
   ]
  },
  {
   "cell_type": "markdown",
   "metadata": {
    "id": "VS5jHeu6gN5h"
   },
   "source": [
    "2. Ստեղծել np զանգված, որի բոլոր տարրերը կլինեն 0-ներ, իսկ անկյունագծայինները՝ 1։"
   ]
  },
  {
   "cell_type": "code",
   "execution_count": 3,
   "metadata": {
    "id": "MeYpKo2WgXg2"
   },
   "outputs": [
    {
     "name": "stdout",
     "output_type": "stream",
     "text": [
      "[[1 0 0]\n",
      " [0 1 0]\n",
      " [0 0 1]]\n"
     ]
    }
   ],
   "source": [
    "arr = np.zeros((3,3), dtype = int)\n",
    "np.fill_diagonal(arr, 1)\n",
    "print(arr)"
   ]
  },
  {
   "cell_type": "markdown",
   "metadata": {
    "id": "e3-HbN8FgYur"
   },
   "source": [
    "3. Ստեղծել երկու np միաչափ զանգված արդեն պատրաստի պիտոնական լիստերից (հիշեցում․ asarray, array)։ Ապա կցեք երկու զանգվածներն իրար հորիզոնական ուղությամբ։ \n",
    "\n",
    "օրինակ, եթե\n",
    "```python\n",
    "import numpy as np\n",
    "\n",
    "arr_1 -> array([1, 2, 3])\n",
    "arr_2 -> array([4, 5, 6])\n",
    "\n",
    "```\n",
    "ապա արդյունքը պետք է լինի\n",
    "```python\n",
    "array([1, 2, 3, 4, 5, 6])\n",
    "```"
   ]
  },
  {
   "cell_type": "code",
   "execution_count": 4,
   "metadata": {
    "id": "0bh6QiopgYRk"
   },
   "outputs": [
    {
     "data": {
      "text/plain": [
       "array([1, 2, 3, 4, 5, 6])"
      ]
     },
     "execution_count": 4,
     "metadata": {},
     "output_type": "execute_result"
    }
   ],
   "source": [
    "arr_1 = np.array([1,2,3])\n",
    "arr_2 = np.asarray([4,5,6])\n",
    "np.hstack((arr_1,arr_2))"
   ]
  },
  {
   "cell_type": "markdown",
   "metadata": {
    "id": "o34g72DviNpV"
   },
   "source": [
    "4. Ստեղծել երկու np միաչափ զանգված արդեն պատրաստի պիտոնական լիստերից (հիշեցում․ asarray, array)։ Ապա կցեք երկու զանգվածներն իրար վերտիկալ ուղությամբ։ \n",
    "\n",
    "օրինակ, եթե\n",
    "```python\n",
    "import numpy as np\n",
    "\n",
    "arr_1 -> array([1, 2, 3])\n",
    "arr_2 -> array([4, 5, 6])\n",
    "\n",
    "```\n",
    "ապա արդյունքը պետք է լինի\n",
    "```python\n",
    "array([[1, 2, 3],\n",
    "       [4, 5, 6]])\n",
    "```"
   ]
  },
  {
   "cell_type": "code",
   "execution_count": 5,
   "metadata": {
    "id": "R_8-I23jhA9G"
   },
   "outputs": [
    {
     "data": {
      "text/plain": [
       "array([[1, 2, 3],\n",
       "       [4, 5, 6]])"
      ]
     },
     "execution_count": 5,
     "metadata": {},
     "output_type": "execute_result"
    }
   ],
   "source": [
    "np.vstack((arr_1,arr_2))"
   ]
  },
  {
   "cell_type": "markdown",
   "metadata": {
    "id": "eG3-2JVxidSz"
   },
   "source": [
    "5. Ստեղծել երկչափ զանգված, որը կունենա (3, 3) shape: Այնուհետև ստեղծել նոր զանգված, որը կլինի նախորդ զանգվածը, սակայն առաջին և երրորդ սյուների տեղերը փոխած։"
   ]
  },
  {
   "cell_type": "code",
   "execution_count": 6,
   "metadata": {
    "id": "ddkvNE9HjUlc"
   },
   "outputs": [
    {
     "name": "stdout",
     "output_type": "stream",
     "text": [
      "[[1 2 3]\n",
      " [4 5 6]\n",
      " [7 8 9]]\n",
      "[[3 2 1]\n",
      " [6 5 4]\n",
      " [9 8 7]]\n"
     ]
    }
   ],
   "source": [
    "arr = np.array([1,2,3,4,5,6,7,8,9])\n",
    "arr_re = arr.reshape(3, 3)\n",
    "print(arr_re)\n",
    "for i in range(len(arr_re)):\n",
    "    arr_re[i][0],arr_re[i][2] = arr_re[i][2],arr_re[i][0]\n",
    "print(arr_re)"
   ]
  },
  {
   "cell_type": "markdown",
   "metadata": {
    "id": "yaC8icYxjHy1"
   },
   "source": [
    "6.  Ստեղծել երեք զանգված։ Առաջինը պետք է պարունակի միայն 0-ներ, երկրորդը միայն 1-եր, իսկ երրորդը միայն 9-եր։"
   ]
  },
  {
   "cell_type": "code",
   "execution_count": 7,
   "metadata": {
    "id": "VyclSaE9hGj3"
   },
   "outputs": [
    {
     "name": "stdout",
     "output_type": "stream",
     "text": [
      "[[0 0 0 0]\n",
      " [0 0 0 0]\n",
      " [0 0 0 0]\n",
      " [0 0 0 0]]\n",
      "[[1 1 1 1]\n",
      " [1 1 1 1]\n",
      " [1 1 1 1]\n",
      " [1 1 1 1]]\n",
      "[[9 9 9 9]\n",
      " [9 9 9 9]\n",
      " [9 9 9 9]\n",
      " [9 9 9 9]]\n"
     ]
    }
   ],
   "source": [
    "arr_1 = np.zeros((4,4), dtype=int)\n",
    "arr_2 = np.ones((4,4), dtype = int)\n",
    "arr_3 = np.zeros((4,4), dtype=int)\n",
    "arr_3.fill(9)\n",
    "print(arr_1)\n",
    "print(arr_2)\n",
    "print(arr_3)"
   ]
  },
  {
   "cell_type": "markdown",
   "metadata": {
    "id": "PcquS-LvjX-H"
   },
   "source": [
    "7. Ստեղծել (10, 10) shape-ով զանգված։ Ապա փոխել դրա shape-ը հնարավոր բոլոր տարբերակներով։ "
   ]
  },
  {
   "cell_type": "code",
   "execution_count": 8,
   "metadata": {
    "id": "_OawhpfpjSQQ"
   },
   "outputs": [
    {
     "name": "stdout",
     "output_type": "stream",
     "text": [
      "[[0 1]\n",
      " [2 3]\n",
      " [4 5]\n",
      " [6 7]\n",
      " [8 9]]\n",
      "[[0 1 2 3 4]\n",
      " [5 6 7 8 9]]\n",
      "[[0 1 2 3 4 5 6 7 8 9]]\n",
      "[[0]\n",
      " [1]\n",
      " [2]\n",
      " [3]\n",
      " [4]\n",
      " [5]\n",
      " [6]\n",
      " [7]\n",
      " [8]\n",
      " [9]]\n"
     ]
    }
   ],
   "source": [
    "arr = np.arange(10)\n",
    "arr_1 = arr.reshape(5,2)\n",
    "arr_2 = arr.reshape(2,5)\n",
    "arr_3 = arr.reshape(1,10)\n",
    "arr_4 = arr.reshape(10,1)\n",
    "print(arr_1)\n",
    "print(arr_2)\n",
    "print(arr_3)\n",
    "print(arr_4)"
   ]
  },
  {
   "cell_type": "markdown",
   "metadata": {
    "id": "fhNmVsRBjnIB"
   },
   "source": [
    "8. Ստեղծել երկու երկչափ զանգված և հաշվել դրանց ա) տարր առ տարր արտադրյալը, բ) մատրիցային արտադրյալը։"
   ]
  },
  {
   "cell_type": "code",
   "execution_count": 9,
   "metadata": {
    "id": "3bkSWmGJj4Vf"
   },
   "outputs": [
    {
     "name": "stdout",
     "output_type": "stream",
     "text": [
      "[[  0  11  24]\n",
      " [ 39  56  75]\n",
      " [ 96 119 144]]\n",
      "[[ 45  48  51]\n",
      " [162 174 186]\n",
      " [279 300 321]]\n"
     ]
    }
   ],
   "source": [
    "arr_1 = np.arange(9).reshape(3,3)\n",
    "arr_2 = np.arange(10,19).reshape(3,3)\n",
    "\n",
    "print(np.multiply(arr_1,arr_2))\n",
    "print(np.dot(arr_1,arr_2))"
   ]
  },
  {
   "cell_type": "markdown",
   "metadata": {
    "id": "2leKA54Wj3k2"
   },
   "source": [
    "\n",
    "9. Ստեղծել երկու զանգված (10, 10) shape-ի, որոնք կպարունակեն 0-ից 20-ը պատահական թվեր։ Բաժանել մատրիցներն իրար։ Այնուհետև առանձնացնել նոր մատրիցի մեջ մատրիցների այն տարրերը, որոնք թիվ են (inf կամ nan չեն): Ստանալ inf-երի և nan-երի նաև դրանց ինդեքսները։"
   ]
  },
  {
   "cell_type": "code",
   "execution_count": 10,
   "metadata": {
    "id": "7KT5VRhwl3O8"
   },
   "outputs": [
    {
     "name": "stderr",
     "output_type": "stream",
     "text": [
      "<ipython-input-10-fa04183f27e5>:3: RuntimeWarning: divide by zero encountered in true_divide\n",
      "  c = np.divide(b,a)\n"
     ]
    },
    {
     "data": {
      "text/plain": [
       "array([ 0.375     ,  0.        ,  2.83333333,  1.54545455,  2.        ,\n",
       "        0.25      ,  1.7       ,  1.14285714,  0.75      ,  4.33333333,\n",
       "        0.6       ,  1.5       ,  0.875     ,  1.        ,  7.        ,\n",
       "        5.        ,  1.11111111,  0.41666667,  1.9       ,  4.75      ,\n",
       "        0.3125    ,  0.        ,  0.        ,  0.27272727,  0.38888889,\n",
       "        0.        ,  0.26315789,  0.1875    ,  1.11764706,  4.5       ,\n",
       "        4.75      ,  1.09090909,  3.        ,  1.75      ,  1.        ,\n",
       "        2.        ,  0.63157895,  0.61111111,  1.8       ,  0.1875    ,\n",
       "        0.4       ,  1.        ,  1.        ,  0.5       ,  0.        ,\n",
       "        0.18181818,  0.        ,  1.72727273,  0.41176471,  0.5       ,\n",
       "        0.        ,  0.47368421,  1.15384615,  4.        ,  2.33333333,\n",
       "        0.30769231,  0.3       ,  1.26666667,  0.63157895,  0.94736842,\n",
       "        0.25      ,  0.5       ,  1.66666667,  1.33333333,  7.5       ,\n",
       "        2.4       ,  0.18181818,  1.42857143,  0.30769231,  1.5       ,\n",
       "        0.09090909,  3.6       ,  0.52631579,  0.68421053,  0.75      ,\n",
       "       14.        ,  2.71428571,  1.125     ,  0.5       ,  0.        ,\n",
       "        1.63636364,  0.66666667,  0.6875    ,  1.07142857,  0.9375    ,\n",
       "        1.30769231,  1.25      ,  1.75      ,  0.375     ,  0.46153846,\n",
       "        1.13333333,  0.53846154,  0.17647059,  0.5       ,  0.5       ,\n",
       "        2.66666667,  5.        ,  0.        ])"
      ]
     },
     "execution_count": 10,
     "metadata": {},
     "output_type": "execute_result"
    }
   ],
   "source": [
    "a = np.random.randint(0,20,100).reshape(10,10)\n",
    "b = np.random.randint(0,20,100).reshape(10,10)\n",
    "c = np.divide(b,a)\n",
    "\n",
    "c[np.where((c != np.inf) & (c != np.nan))]"
   ]
  },
  {
   "cell_type": "markdown",
   "metadata": {
    "id": "SbYPcFK9m1zS"
   },
   "source": [
    "10. Ստեղծել (3, 3) մատրից, որի տարրերը կլինեն 11-19, սակայն բացահայտ կերպով սահմանել տարրերի տիպը որպես float։"
   ]
  },
  {
   "cell_type": "code",
   "execution_count": 11,
   "metadata": {
    "id": "fQfMH73Nl7-l"
   },
   "outputs": [
    {
     "name": "stdout",
     "output_type": "stream",
     "text": [
      "[[11. 12. 13.]\n",
      " [14. 15. 16.]\n",
      " [17. 18. 19.]]\n"
     ]
    }
   ],
   "source": [
    "arr = np.arange(11,20,dtype=float).reshape(3,3)\n",
    "print(arr)"
   ]
  },
  {
   "cell_type": "markdown",
   "metadata": {},
   "source": [
    "11.Ստեղծել (10,10) ռանդոմ մատրից, հաշվել սյուների միջին արժեքները։"
   ]
  },
  {
   "cell_type": "code",
   "execution_count": 12,
   "metadata": {
    "id": "m102yKQP4l-3"
   },
   "outputs": [
    {
     "name": "stdout",
     "output_type": "stream",
     "text": [
      "[[2 8 6 3 4 5 0 8 0 5]\n",
      " [6 6 4 1 8 7 8 2 0 2]\n",
      " [2 4 2 8 5 4 9 4 5 8]\n",
      " [2 0 2 6 4 5 4 1 1 2]\n",
      " [6 7 5 1 8 9 0 5 0 9]\n",
      " [9 1 8 1 0 8 4 9 7 6]\n",
      " [9 0 9 8 5 8 8 9 3 2]\n",
      " [7 5 3 2 9 0 0 4 9 8]\n",
      " [9 4 1 5 8 5 5 7 6 3]\n",
      " [2 9 9 3 1 3 0 4 1 9]]\n"
     ]
    },
    {
     "data": {
      "text/plain": [
       "array([5.4, 4.4, 4.9, 3.8, 5.2, 5.4, 3.8, 5.3, 3.2, 5.4])"
      ]
     },
     "execution_count": 12,
     "metadata": {},
     "output_type": "execute_result"
    }
   ],
   "source": [
    "arr = np.random.randint(0,10,100).reshape(10,10)\n",
    "print(arr)\n",
    "s = 0\n",
    "np.mean(arr,axis=0)"
   ]
  },
  {
   "cell_type": "code",
   "execution_count": null,
   "metadata": {},
   "outputs": [],
   "source": []
  }
 ],
 "metadata": {
  "colab": {
   "collapsed_sections": [],
   "name": "Homework 6 NumPy.ipynb",
   "provenance": []
  },
  "kernelspec": {
   "display_name": "Python 3",
   "language": "python",
   "name": "python3"
  },
  "language_info": {
   "codemirror_mode": {
    "name": "ipython",
    "version": 3
   },
   "file_extension": ".py",
   "mimetype": "text/x-python",
   "name": "python",
   "nbconvert_exporter": "python",
   "pygments_lexer": "ipython3",
   "version": "3.8.8"
  }
 },
 "nbformat": 4,
 "nbformat_minor": 4
}
