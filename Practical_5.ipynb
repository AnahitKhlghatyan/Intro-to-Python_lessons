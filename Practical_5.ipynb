{
 "cells": [
  {
   "cell_type": "code",
   "execution_count": null,
   "id": "cab139a0-6289-4fd6-98e2-33e9e7ca2b7e",
   "metadata": {},
   "outputs": [],
   "source": [
    "# Matrix product"
   ]
  },
  {
   "cell_type": "code",
   "execution_count": 116,
   "id": "3442a14a-836a-4f42-9272-fe4229cb18cb",
   "metadata": {},
   "outputs": [
    {
     "name": "stdout",
     "output_type": "stream",
     "text": [
      "[[2, 0], [7, 3]]\n"
     ]
    }
   ],
   "source": [
    "matrix_1 = [[1,0],[2,3]]\n",
    "matrix_2 = [[2,0],[1,1]]\n",
    "matrix_3 = []\n",
    "for _ in range(len(matrix_1)):\n",
    "    matrix_3.append([0]*len(matrix_2[0]))\n",
    "for i in range(len(matrix_1)):\n",
    "    for j in range(len(matrix_2[0])):\n",
    "        el = 0\n",
    "        for k in range(len(matrix_1)):\n",
    "            el += matrix_1[i][k] * matrix_2[k][j]\n",
    "        matrix_3[i][j] = el\n",
    "print(matrix_3)"
   ]
  },
  {
   "cell_type": "code",
   "execution_count": null,
   "id": "51209594-3673-493f-9626-385dcba6d315",
   "metadata": {},
   "outputs": [],
   "source": [
    "# Random matrix"
   ]
  },
  {
   "cell_type": "code",
   "execution_count": 271,
   "id": "ed3a69ac-4ebe-46a4-a53a-f7cc6c79ea6e",
   "metadata": {},
   "outputs": [
    {
     "name": "stdout",
     "output_type": "stream",
     "text": [
      "[[5, 0, 9, 5], [1, 7, 1, 6]]\n"
     ]
    }
   ],
   "source": [
    "import random\n",
    "def matrix(matrix_row,matrix_column):\n",
    "    matrix = []\n",
    "    for i in range(matrix_row):\n",
    "        row = []\n",
    "        for j in range(matrix_column):\n",
    "            row.append(random.randint(0,10))\n",
    "        matrix.append(row)\n",
    "    return matrix\n",
    "\n",
    "matrix = matrix(2,4)\n",
    "print(matrix)"
   ]
  },
  {
   "cell_type": "code",
   "execution_count": null,
   "id": "e5e9ad54-eccc-4b25-8c60-602cea196517",
   "metadata": {},
   "outputs": [],
   "source": [
    "# Write matrix in file"
   ]
  },
  {
   "cell_type": "code",
   "execution_count": 272,
   "id": "6e72a9b7-621a-4777-a09e-6aedf6665600",
   "metadata": {},
   "outputs": [],
   "source": [
    "with open('Filename.txt', 'w') as f:\n",
    "    for i in matrix:\n",
    "        row_str = ' '.join(map(lambda el: str(el), i))\n",
    "        f.write(row_str +'\\n')"
   ]
  },
  {
   "cell_type": "code",
   "execution_count": null,
   "id": "df66cc20-197e-46c1-a8df-b6481893d14c",
   "metadata": {},
   "outputs": [],
   "source": [
    "# Read matrix from file"
   ]
  },
  {
   "cell_type": "code",
   "execution_count": 273,
   "id": "ba3b65e9-fc6c-4239-a315-8b6207240d9a",
   "metadata": {},
   "outputs": [
    {
     "name": "stdout",
     "output_type": "stream",
     "text": [
      "[[5, 0, 9, 5], [1, 7, 1, 6]]\n"
     ]
    }
   ],
   "source": [
    "with open('Filename.txt', 'r') as f:\n",
    "    lines = f.readlines()\n",
    "    mtr = []\n",
    "    for i in lines:\n",
    "        row_list = list(map(lambda el:int(el), i[:-1].split(' ')))\n",
    "        mtr.append(row_list)\n",
    "    print(mtr)"
   ]
  },
  {
   "cell_type": "code",
   "execution_count": null,
   "id": "3c198f30-9b6f-425a-9683-a7deab269b9c",
   "metadata": {},
   "outputs": [],
   "source": []
  }
 ],
 "metadata": {
  "kernelspec": {
   "display_name": "Python 3",
   "language": "python",
   "name": "python3"
  },
  "language_info": {
   "codemirror_mode": {
    "name": "ipython",
    "version": 3
   },
   "file_extension": ".py",
   "mimetype": "text/x-python",
   "name": "python",
   "nbconvert_exporter": "python",
   "pygments_lexer": "ipython3",
   "version": "3.8.8"
  }
 },
 "nbformat": 4,
 "nbformat_minor": 5
}
