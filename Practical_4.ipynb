{
 "cells": [
  {
   "cell_type": "code",
   "execution_count": 1,
   "metadata": {},
   "outputs": [],
   "source": [
    "# Add borders"
   ]
  },
  {
   "cell_type": "code",
   "execution_count": 2,
   "metadata": {},
   "outputs": [],
   "source": [
    "def add_border(l):\n",
    "    n = '*' * (len(l)+2)\n",
    "    new_list = []\n",
    "    new_list.append(n)\n",
    "    \n",
    "    for i in l:\n",
    "        new_list.append('*' + i + '*')\n",
    "        \n",
    "    new_list.append(n)\n",
    "    \n",
    "    return new_list"
   ]
  },
  {
   "cell_type": "code",
   "execution_count": 3,
   "metadata": {},
   "outputs": [
    {
     "name": "stdout",
     "output_type": "stream",
     "text": [
      "*****\n",
      "*abc*\n",
      "*dec*\n",
      "*def*\n",
      "*****\n"
     ]
    }
   ],
   "source": [
    "borders = add_border(['abc', 'dec', 'def'])\n",
    "for s in borders:\n",
    "    print(s)"
   ]
  },
  {
   "cell_type": "code",
   "execution_count": 4,
   "metadata": {},
   "outputs": [],
   "source": [
    "# Matrix Sum"
   ]
  },
  {
   "cell_type": "code",
   "execution_count": 5,
   "metadata": {},
   "outputs": [],
   "source": [
    "def matrix_sum(matrix):\n",
    "    s = 0\n",
    "    for i in matrix:\n",
    "        for j in i:\n",
    "            s += j\n",
    "    return s"
   ]
  },
  {
   "cell_type": "code",
   "execution_count": 6,
   "metadata": {},
   "outputs": [
    {
     "name": "stdout",
     "output_type": "stream",
     "text": [
      "25\n"
     ]
    }
   ],
   "source": [
    "print(matrix_sum([[1,2], [4, 5], [6,7]]))"
   ]
  },
  {
   "cell_type": "code",
   "execution_count": 7,
   "metadata": {},
   "outputs": [],
   "source": [
    "def matrix_sum(matrix):\n",
    "    s = []\n",
    "    for i in matrix:\n",
    "        s.append(sum(i))\n",
    "    return sum(s)"
   ]
  },
  {
   "cell_type": "code",
   "execution_count": 8,
   "metadata": {},
   "outputs": [
    {
     "name": "stdout",
     "output_type": "stream",
     "text": [
      "25\n"
     ]
    }
   ],
   "source": [
    "print(matrix_sum([[1,2], [4, 5], [6,7]]))"
   ]
  },
  {
   "cell_type": "code",
   "execution_count": 9,
   "metadata": {},
   "outputs": [],
   "source": [
    "# Mean of maximums"
   ]
  },
  {
   "cell_type": "code",
   "execution_count": 10,
   "metadata": {},
   "outputs": [],
   "source": [
    "def max_row_matrix(matrix):\n",
    "    m = []\n",
    "    for i in matrix:\n",
    "        m.append(max(i))\n",
    "    mean = sum(m)/len(m)\n",
    "    return mean"
   ]
  },
  {
   "cell_type": "code",
   "execution_count": 11,
   "metadata": {},
   "outputs": [
    {
     "name": "stdout",
     "output_type": "stream",
     "text": [
      "4.666666666666667\n"
     ]
    }
   ],
   "source": [
    "print(max_row_matrix([[1,2], [4, 5], [6,7]]))"
   ]
  },
  {
   "cell_type": "code",
   "execution_count": 12,
   "metadata": {},
   "outputs": [],
   "source": [
    "def max_row_matrix(matrix):\n",
    "    mean = 0\n",
    "    for i in matrix:\n",
    "        mean += max(i)\n",
    "    return mean / len(matrix)"
   ]
  },
  {
   "cell_type": "code",
   "execution_count": 13,
   "metadata": {},
   "outputs": [
    {
     "name": "stdout",
     "output_type": "stream",
     "text": [
      "4.666666666666667\n"
     ]
    }
   ],
   "source": [
    "print(max_row_matrix([[1,2], [4, 5], [6,7]]))"
   ]
  },
  {
   "cell_type": "code",
   "execution_count": 14,
   "metadata": {},
   "outputs": [],
   "source": [
    "# Trace of matrix"
   ]
  },
  {
   "cell_type": "code",
   "execution_count": 23,
   "metadata": {},
   "outputs": [],
   "source": [
    "def trace(matrix):\n",
    "    k = 0\n",
    "    trace = 0\n",
    "    for i in matrix:\n",
    "        trace += i[k]\n",
    "        k += 1\n",
    "        print(i)\n",
    "    return trace"
   ]
  },
  {
   "cell_type": "code",
   "execution_count": 24,
   "metadata": {},
   "outputs": [
    {
     "name": "stdout",
     "output_type": "stream",
     "text": [
      "[1, 3, 5]\n",
      "[4, 6, 8]\n",
      "[6, 7, 1]\n",
      "8\n"
     ]
    }
   ],
   "source": [
    "print(trace([[1, 3, 5], [4, 6, 8], [6, 7, 1]]))"
   ]
  },
  {
   "cell_type": "code",
   "execution_count": 25,
   "metadata": {},
   "outputs": [],
   "source": [
    "def trace(matrix):\n",
    "    l = []\n",
    "    k = 0\n",
    "    for i in matrix:\n",
    "        l.append(i[k])\n",
    "        k += 1\n",
    "        print(i)\n",
    "    return sum(l)"
   ]
  },
  {
   "cell_type": "code",
   "execution_count": 26,
   "metadata": {},
   "outputs": [
    {
     "name": "stdout",
     "output_type": "stream",
     "text": [
      "[1, 3, 5]\n",
      "[4, 6, 8]\n",
      "[6, 7, 1]\n",
      "8\n"
     ]
    }
   ],
   "source": [
    "print(trace([[1, 3, 5], [4, 6, 8], [6, 7, 1]]))"
   ]
  },
  {
   "cell_type": "code",
   "execution_count": null,
   "metadata": {},
   "outputs": [],
   "source": [
    "# Sorting function"
   ]
  },
  {
   "cell_type": "code",
   "execution_count": 43,
   "metadata": {},
   "outputs": [],
   "source": [
    "def sort_list(l):\n",
    "    for i, val in enumerate(l):\n",
    "        for j, value in enumerate(l):\n",
    "             if l[i] <= l[j]:\n",
    "                l[i], l[j] = l[j], l[i]\n",
    "    return l"
   ]
  },
  {
   "cell_type": "code",
   "execution_count": 44,
   "metadata": {},
   "outputs": [
    {
     "data": {
      "text/plain": [
       "[1, 2, 4, 5, 6, 7]"
      ]
     },
     "execution_count": 44,
     "metadata": {},
     "output_type": "execute_result"
    }
   ],
   "source": [
    "l = [4, 5, 6, 7, 2, 1]\n",
    "sort_list(l)"
   ]
  },
  {
   "cell_type": "code",
   "execution_count": 46,
   "metadata": {},
   "outputs": [],
   "source": [
    "def sort_list_1(l):\n",
    "    for i in range(len(l)):\n",
    "        for j in range(len(l)):\n",
    "            if l[i] <= l[j]:\n",
    "                l[i], l[j] = l[j], l[i]\n",
    "    return l"
   ]
  },
  {
   "cell_type": "code",
   "execution_count": 47,
   "metadata": {},
   "outputs": [
    {
     "data": {
      "text/plain": [
       "[2, 4, 4, 5, 6, 12]"
      ]
     },
     "execution_count": 47,
     "metadata": {},
     "output_type": "execute_result"
    }
   ],
   "source": [
    "l = [4, 2, 6, 12, 4, 5]\n",
    "sort_list_1(l)"
   ]
  },
  {
   "cell_type": "code",
   "execution_count": 55,
   "metadata": {},
   "outputs": [],
   "source": [
    "def sort_list_2(l):\n",
    "    for i in range(len(l)):\n",
    "        for j in range(0, len(l)-i-1):\n",
    "            if l[j] > l[j+1]:\n",
    "                l[j], l[j+1] = l[j+1], l[j]\n",
    "    return l"
   ]
  },
  {
   "cell_type": "code",
   "execution_count": 58,
   "metadata": {},
   "outputs": [
    {
     "data": {
      "text/plain": [
       "[1, 4, 5, 5, 7, 8]"
      ]
     },
     "execution_count": 58,
     "metadata": {},
     "output_type": "execute_result"
    }
   ],
   "source": [
    "l = [4, 5, 1, 7, 8, 5]\n",
    "sort_list_2(l)"
   ]
  },
  {
   "cell_type": "code",
   "execution_count": null,
   "metadata": {},
   "outputs": [],
   "source": [
    "# Sorting type checker"
   ]
  },
  {
   "cell_type": "code",
   "execution_count": 34,
   "metadata": {},
   "outputs": [],
   "source": [
    "def sorting(l):\n",
    "    t1 = True\n",
    "    t2 = True\n",
    "    for i in range(1, len(l)):\n",
    "        if l[i] > l[i-1]:\n",
    "            t1 = False\n",
    "        if l[i] < l[i-1]:\n",
    "            t2 = False\n",
    "    if t1 == False and t2 == False:\n",
    "        return 'List is not sorted'\n",
    "    elif t1 == False and t2 == True:\n",
    "        return 'List is ascending'\n",
    "    else:\n",
    "        return 'List is descending'"
   ]
  },
  {
   "cell_type": "code",
   "execution_count": 35,
   "metadata": {},
   "outputs": [
    {
     "data": {
      "text/plain": [
       "'List is ascending'"
      ]
     },
     "execution_count": 35,
     "metadata": {},
     "output_type": "execute_result"
    }
   ],
   "source": [
    "l = [1, 4, 5, 7, 8] \n",
    "sorting(l)"
   ]
  },
  {
   "cell_type": "code",
   "execution_count": null,
   "metadata": {},
   "outputs": [],
   "source": [
    "# Sum odd and even index digits"
   ]
  },
  {
   "cell_type": "code",
   "execution_count": 60,
   "metadata": {},
   "outputs": [],
   "source": [
    "def sum_odd_even(num):\n",
    "    lst = [int(i) for i in str(num)]\n",
    "    \n",
    "    sum1 = 0\n",
    "    sum2 = 0\n",
    "    for i in range(len(lst)):\n",
    "        if i % 2 == 0:\n",
    "            sum1 += lst[i]\n",
    "        else:\n",
    "            sum2 += lst[i]\n",
    "\n",
    "    if sum1 == sum2:\n",
    "        return True\n",
    "    else:\n",
    "        return False"
   ]
  },
  {
   "cell_type": "code",
   "execution_count": 61,
   "metadata": {},
   "outputs": [
    {
     "name": "stdin",
     "output_type": "stream",
     "text": [
      " 12365\n"
     ]
    },
    {
     "data": {
      "text/plain": [
       "False"
      ]
     },
     "execution_count": 61,
     "metadata": {},
     "output_type": "execute_result"
    }
   ],
   "source": [
    "num = int(input())\n",
    "sum_odd_even(num)"
   ]
  },
  {
   "cell_type": "markdown",
   "metadata": {},
   "source": []
  }
 ],
 "metadata": {
  "kernelspec": {
   "display_name": "Python 3",
   "language": "python",
   "name": "python3"
  },
  "language_info": {
   "codemirror_mode": {
    "name": "ipython",
    "version": 3
   },
   "file_extension": ".py",
   "mimetype": "text/x-python",
   "name": "python",
   "nbconvert_exporter": "python",
   "pygments_lexer": "ipython3",
   "version": "3.8.5"
  }
 },
 "nbformat": 4,
 "nbformat_minor": 4
}
