{
 "cells": [
  {
   "cell_type": "code",
   "execution_count": 1,
   "id": "bd33ee7b-0bab-4f74-b18c-ee1e62e8115c",
   "metadata": {},
   "outputs": [],
   "source": [
    "# Create random matrixes and write their product in the file"
   ]
  },
  {
   "cell_type": "code",
   "execution_count": 2,
   "id": "78373279-9deb-41e7-a8ca-c6f83b249c2c",
   "metadata": {},
   "outputs": [],
   "source": [
    "import random\n",
    "def matrix(matrix_row,matrix_column):\n",
    "    matrix = []\n",
    "    for i in range(matrix_row):\n",
    "        row = []\n",
    "        for j in range(matrix_column):\n",
    "            row.append(random.randint(0,10))\n",
    "        matrix.append(row)\n",
    "    return matrix"
   ]
  },
  {
   "cell_type": "code",
   "execution_count": 3,
   "id": "253d04d8-40a6-4d0f-afbf-4e0adbf4f987",
   "metadata": {},
   "outputs": [],
   "source": [
    "def product(matrix_1,matrix_2):\n",
    "    matrix_3 = []\n",
    "    for _ in range(len(matrix_1)):\n",
    "        matrix_3.append([0]*len(matrix_2[0]))\n",
    "    for i in range(len(matrix_1)):\n",
    "        for j in range(len(matrix_2[0])):\n",
    "            el = 0\n",
    "            for k in range(len(matrix_1)):\n",
    "                el += matrix_1[i][k] * matrix_2[k][j]\n",
    "            matrix_3[i][j] = el\n",
    "    return matrix_3"
   ]
  },
  {
   "cell_type": "code",
   "execution_count": 4,
   "id": "9db8de20-44a9-472b-8f5f-b4ec398811e7",
   "metadata": {},
   "outputs": [],
   "source": [
    "def write_matrix(matrix, filename):\n",
    "    with open(filename, 'w') as f:\n",
    "        for i in matrix_product:\n",
    "            row_str = ' '.join(map(lambda el: str(el), i))\n",
    "            f.write(row_str +'\\n')"
   ]
  },
  {
   "cell_type": "code",
   "execution_count": 5,
   "id": "cd42a298-c89a-4ab2-bc3c-249fb8732212",
   "metadata": {},
   "outputs": [
    {
     "name": "stdin",
     "output_type": "stream",
     "text": [
      " 2\n",
      " 4\n"
     ]
    },
    {
     "name": "stdout",
     "output_type": "stream",
     "text": [
      "[[4, 7, 1, 7], [0, 4, 9, 0]]\n"
     ]
    },
    {
     "name": "stdin",
     "output_type": "stream",
     "text": [
      " 4\n",
      " 2\n"
     ]
    },
    {
     "name": "stdout",
     "output_type": "stream",
     "text": [
      "[[2, 1], [1, 0], [10, 8], [9, 10]]\n",
      "[[15, 4], [4, 0]]\n"
     ]
    }
   ],
   "source": [
    "n1 = int(input())\n",
    "m1 = int(input())\n",
    "matrix_1 = matrix(n1,m1)\n",
    "print(matrix_1)\n",
    "\n",
    "n2 = int(input())\n",
    "m2 = int(input())\n",
    "matrix_2 = matrix(n2,m2)\n",
    "print(matrix_2)\n",
    "\n",
    "matrix_product = product(matrix_1, matrix_2)\n",
    "print(matrix_product)\n",
    "\n",
    "write_matrix(matrix_product, 'Filename.txt')"
   ]
  },
  {
   "cell_type": "code",
   "execution_count": 75,
   "id": "a803a490-11c4-4124-8a8e-dc05ba22ca9c",
   "metadata": {},
   "outputs": [],
   "source": [
    "# Remove recurring elements next to each other"
   ]
  },
  {
   "cell_type": "code",
   "execution_count": 74,
   "id": "76c8a8e6-c1c9-4327-8cba-4c8ba207b887",
   "metadata": {},
   "outputs": [
    {
     "name": "stdout",
     "output_type": "stream",
     "text": [
      "a\n"
     ]
    }
   ],
   "source": [
    "s = 'aabaa'\n",
    "s_lst = list(s)\n",
    "\n",
    "n = 0\n",
    "while n < len(s_lst)-1:\n",
    "    if s_lst[n] == s_lst[n+1]:\n",
    "        s_lst.pop(n)\n",
    "        s_lst.pop(n)\n",
    "        n = max(0, n-1)\n",
    "    else:\n",
    "        n += 1\n",
    "\n",
    "print(''.join(s_lst))   "
   ]
  },
  {
   "cell_type": "code",
   "execution_count": null,
   "id": "80a1117e-8288-4886-a861-451d32d70d7c",
   "metadata": {},
   "outputs": [],
   "source": []
  }
 ],
 "metadata": {
  "kernelspec": {
   "display_name": "Python 3",
   "language": "python",
   "name": "python3"
  },
  "language_info": {
   "codemirror_mode": {
    "name": "ipython",
    "version": 3
   },
   "file_extension": ".py",
   "mimetype": "text/x-python",
   "name": "python",
   "nbconvert_exporter": "python",
   "pygments_lexer": "ipython3",
   "version": "3.8.8"
  }
 },
 "nbformat": 4,
 "nbformat_minor": 5
}
