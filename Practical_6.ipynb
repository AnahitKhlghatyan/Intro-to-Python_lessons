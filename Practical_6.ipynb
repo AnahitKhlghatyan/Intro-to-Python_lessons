{
 "cells": [
  {
   "cell_type": "code",
   "execution_count": 1,
   "metadata": {},
   "outputs": [],
   "source": [
    "# Create random matrixes and write their product in the file"
   ]
  },
  {
   "cell_type": "code",
   "execution_count": 2,
   "metadata": {},
   "outputs": [],
   "source": [
    "import random\n",
    "def matrix(matrix_row,matrix_column):\n",
    "    matrix = []\n",
    "    for i in range(matrix_row):\n",
    "        row = []\n",
    "        for j in range(matrix_column):\n",
    "            row.append(random.randint(0,10))\n",
    "        matrix.append(row)\n",
    "    return matrix"
   ]
  },
  {
   "cell_type": "code",
   "execution_count": 3,
   "metadata": {},
   "outputs": [],
   "source": [
    "def product(matrix_1,matrix_2):\n",
    "    matrix_3 = []\n",
    "    for _ in range(len(matrix_1)):\n",
    "        matrix_3.append([0]*len(matrix_2[0]))\n",
    "    for i in range(len(matrix_1)):\n",
    "        for j in range(len(matrix_2[0])):\n",
    "            el = 0\n",
    "            for k in range(len(matrix_1)):\n",
    "                el += matrix_1[i][k] * matrix_2[k][j]\n",
    "            matrix_3[i][j] = el\n",
    "    return matrix_3"
   ]
  },
  {
   "cell_type": "code",
   "execution_count": 4,
   "metadata": {},
   "outputs": [],
   "source": [
    "def write_matrix(matrix, filename):\n",
    "    with open(filename, 'w') as f:\n",
    "        for i in matrix_product:\n",
    "            row_str = ' '.join(map(lambda el: str(el), i))\n",
    "            f.write(row_str +'\\n')"
   ]
  },
  {
   "cell_type": "code",
   "execution_count": 5,
   "metadata": {},
   "outputs": [
    {
     "name": "stdin",
     "output_type": "stream",
     "text": [
      " 2\n",
      " 4\n"
     ]
    },
    {
     "name": "stdout",
     "output_type": "stream",
     "text": [
      "[[4, 7, 1, 7], [0, 4, 9, 0]]\n"
     ]
    },
    {
     "name": "stdin",
     "output_type": "stream",
     "text": [
      " 4\n",
      " 2\n"
     ]
    },
    {
     "name": "stdout",
     "output_type": "stream",
     "text": [
      "[[2, 1], [1, 0], [10, 8], [9, 10]]\n",
      "[[15, 4], [4, 0]]\n"
     ]
    }
   ],
   "source": [
    "n1 = int(input())\n",
    "m1 = int(input())\n",
    "matrix_1 = matrix(n1,m1)\n",
    "print(matrix_1)\n",
    "\n",
    "n2 = int(input())\n",
    "m2 = int(input())\n",
    "matrix_2 = matrix(n2,m2)\n",
    "print(matrix_2)\n",
    "\n",
    "matrix_product = product(matrix_1, matrix_2)\n",
    "print(matrix_product)\n",
    "\n",
    "write_matrix(matrix_product, 'Filename.txt')"
   ]
  },
  {
   "cell_type": "code",
   "execution_count": 75,
   "metadata": {},
   "outputs": [],
   "source": [
    "# Remove recurring elements next to each other"
   ]
  },
  {
   "cell_type": "code",
   "execution_count": 74,
   "metadata": {},
   "outputs": [
    {
     "name": "stdout",
     "output_type": "stream",
     "text": [
      "a\n"
     ]
    }
   ],
   "source": [
    "s = 'aabaa'\n",
    "s_lst = list(s)\n",
    "\n",
    "n = 0\n",
    "while n < len(s_lst)-1:\n",
    "    if s_lst[n] == s_lst[n+1]:\n",
    "        s_lst.pop(n)\n",
    "        s_lst.pop(n)\n",
    "        n = max(0, n-1)\n",
    "    else:\n",
    "        n += 1\n",
    "\n",
    "print(''.join(s_lst))   "
   ]
  },
  {
   "cell_type": "code",
   "execution_count": null,
   "metadata": {},
   "outputs": [],
   "source": [
    "# Password"
   ]
  },
  {
   "cell_type": "code",
   "execution_count": 5,
   "metadata": {},
   "outputs": [
    {
     "name": "stdin",
     "output_type": "stream",
     "text": [
      "Input your password: asdfg\n"
     ]
    },
    {
     "name": "stdout",
     "output_type": "stream",
     "text": [
      "The password should contain at least 6 characters\n",
      "The password should contain at least 1 number\n",
      "The password should contain at least 1 upper case letter\n",
      "The password should contain at least 1 symbol\n",
      "______________________________________________________________________\n",
      "3 missing element(s)\n"
     ]
    }
   ],
   "source": [
    "numbers = '0123456789'\n",
    "lower_case = 'abcdefghijklmnopqrstuvwxyz'\n",
    "upper_case = 'ABCDEFGHIJKLMNOPQRSTUVWXYZ'\n",
    "symbols = '`!@#$%^&*()_+=-[]{}\\|;\"''\"/.,?><'\n",
    "\n",
    "password = input('Input your password:')\n",
    "\n",
    "if len(password) < 6:\n",
    "    print('The password should contain at least 6 characters')\n",
    "q = 6-len(password)\n",
    "\n",
    "n = False\n",
    "l = False\n",
    "u = False\n",
    "s = False\n",
    "\n",
    "for i in password:\n",
    "    if i in numbers:\n",
    "        n = True\n",
    "    if i in lower_case:\n",
    "        l = True\n",
    "    if i in upper_case:\n",
    "        u = True\n",
    "    if i in symbols:\n",
    "        s = True\n",
    "num = 0       \n",
    "if n == False:\n",
    "    print('The password should contain at least 1 number')\n",
    "    num += 1\n",
    "if l == False:\n",
    "    print('The password should contain at least 1 lower case letter')\n",
    "    num += 1\n",
    "if u == False:\n",
    "    print('The password should contain at least 1 upper case letter')\n",
    "    num += 1\n",
    "if s == False:\n",
    "    print('The password should contain at least 1 symbol')\n",
    "    num += 1\n",
    "    \n",
    "print('_' * 70)\n",
    "\n",
    "if n and l and u and s and len(password) >=6:\n",
    "    print('You have successfuly logged in')\n",
    "else:\n",
    "    print('{} missing element(s)'.format(max(q,num)))\n"
   ]
  },
  {
   "cell_type": "code",
   "execution_count": null,
   "metadata": {},
   "outputs": [],
   "source": []
  }
 ],
 "metadata": {
  "kernelspec": {
   "display_name": "Python 3",
   "language": "python",
   "name": "python3"
  },
  "language_info": {
   "codemirror_mode": {
    "name": "ipython",
    "version": 3
   },
   "file_extension": ".py",
   "mimetype": "text/x-python",
   "name": "python",
   "nbconvert_exporter": "python",
   "pygments_lexer": "ipython3",
   "version": "3.8.5"
  }
 },
 "nbformat": 4,
 "nbformat_minor": 5
}
