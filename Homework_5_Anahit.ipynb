{
 "cells": [
  {
   "cell_type": "code",
   "execution_count": 75,
   "metadata": {},
   "outputs": [],
   "source": [
    "# Bayan"
   ]
  },
  {
   "cell_type": "code",
   "execution_count": 76,
   "metadata": {},
   "outputs": [
    {
     "name": "stdin",
     "output_type": "stream",
     "text": [
      "Number of stores: 3\n",
      "Shop name: a\n",
      "Shop name: b\n",
      "Shop name: a\n"
     ]
    },
    {
     "name": "stdout",
     "output_type": "stream",
     "text": [
      "Number of stores, Cindy did not visit: 1\n"
     ]
    }
   ],
   "source": [
    "num = int(input('Number of stores:'))\n",
    "shop_list = []\n",
    "for i in range(num):\n",
    "    shop_list.append(input('Shop name:'))\n",
    "\n",
    "rep_list = []\n",
    "for i in range(len(shop_list)):\n",
    "    count = shop_list.count(shop_list[i])\n",
    "    if count >= 2:\n",
    "        rep_list.append(shop_list[i])\n",
    "\n",
    "rep_set = set(rep_list)\n",
    "unrep_list = list(rep_set)\n",
    "\n",
    "count_list = []\n",
    "n = 0\n",
    "while n < len(unrep_list):\n",
    "    count = rep_list.count(unrep_list[n])\n",
    "    count_list.append(count-1)\n",
    "    n += 1\n",
    "print('Number of stores, Cindy did not visit:', sum(count_list))"
   ]
  },
  {
   "cell_type": "code",
   "execution_count": 77,
   "metadata": {},
   "outputs": [],
   "source": [
    "# Ice Cream Parlor"
   ]
  },
  {
   "cell_type": "code",
   "execution_count": 31,
   "metadata": {},
   "outputs": [
    {
     "name": "stdin",
     "output_type": "stream",
     "text": [
      "Trips: 2\n",
      "Money: 4\n",
      "Cost size: 5\n",
      "Cost: 1\n",
      "Cost: 4\n",
      "Cost: 5\n",
      "Cost: 3\n",
      "Cost: 2\n"
     ]
    },
    {
     "name": "stdout",
     "output_type": "stream",
     "text": [
      "[1, 4, 5, 3, 2]\n",
      "Flavor ID's: 1 4\n"
     ]
    },
    {
     "name": "stdin",
     "output_type": "stream",
     "text": [
      "Money: 4\n",
      "Cost size: 4\n",
      "Cost: 2\n",
      "Cost: 2\n",
      "Cost: 4\n",
      "Cost: 3\n"
     ]
    },
    {
     "name": "stdout",
     "output_type": "stream",
     "text": [
      "[2, 2, 4, 3]\n",
      "Flavor ID's: 1 2\n"
     ]
    }
   ],
   "source": [
    "t = int(input('Trips:'))\n",
    "for i in range(t):\n",
    "    money = int(input('Money:'))\n",
    "    n = int(input('Cost size:'))\n",
    "    cost = [int(input('Cost:')) for i in range(n)]\n",
    "    print(cost)\n",
    "    \n",
    "    l = []\n",
    "    for i in range(len(cost)):\n",
    "        for j in range(len(cost)):\n",
    "            if i != j and cost[i] + cost[j] == money:\n",
    "                l.append(i+1)\n",
    "                \n",
    "    for i in range(len(l)-1):\n",
    "        print('Flavor ID\\'s:', l[i],l[i+1])"
   ]
  },
  {
   "cell_type": "code",
   "execution_count": 78,
   "metadata": {},
   "outputs": [],
   "source": [
    "# Beautiful binary string"
   ]
  },
  {
   "cell_type": "code",
   "execution_count": 154,
   "metadata": {},
   "outputs": [
    {
     "name": "stdin",
     "output_type": "stream",
     "text": [
      "Input the lenght of binary string: 10\n",
      "Input binary string: 0100101010\n"
     ]
    },
    {
     "name": "stdout",
     "output_type": "stream",
     "text": [
      "3\n"
     ]
    }
   ],
   "source": [
    "import re\n",
    "n = int(input('Input the lenght of binary string:'))\n",
    "b = input('Input binary string:')\n",
    "b_lst = list(b)\n",
    "\n",
    "pattern = '[0-1]'\n",
    "result = re.findall(pattern, b)\n",
    "\n",
    "l = []\n",
    "if len(b) == n:\n",
    "    if result == b_lst:\n",
    "        for i in range(len(b_lst)-2):\n",
    "            if b_lst[i] == '0' and b_lst[i+1] == '1' and b_lst[i+2] == '0':\n",
    "                b_lst[i+2] = '1'\n",
    "                l.append(b_lst[i+2])\n",
    "        print(len(l))\n",
    "    else:\n",
    "        print('Binary string should contain 0 and 1.')\n",
    "else:\n",
    "    print('The string\\'s lenght should be {}.'.format(n))"
   ]
  },
  {
   "cell_type": "code",
   "execution_count": 79,
   "metadata": {},
   "outputs": [],
   "source": [
    "# String power"
   ]
  },
  {
   "cell_type": "code",
   "execution_count": 156,
   "metadata": {},
   "outputs": [
    {
     "name": "stdin",
     "output_type": "stream",
     "text": [
      "s = xyzxyz\n",
      "k = -2\n"
     ]
    },
    {
     "name": "stdout",
     "output_type": "stream",
     "text": [
      "xyz\n"
     ]
    }
   ],
   "source": [
    "s = input('s =')\n",
    "k = int(input('k ='))\n",
    "\n",
    "if k >= 0:\n",
    "    x = s * k\n",
    "    print(x)\n",
    "elif k < 0:\n",
    "    lst = list(s)\n",
    "    l = []\n",
    "    for i in range(len(lst)):\n",
    "        if lst[0] == lst[i]:\n",
    "            l.append(lst[0:i])\n",
    "\n",
    "s_new = ''.join(l[1])\n",
    "\n",
    "if s_new * abs(k) <= s:\n",
    "    x = 0\n",
    "    for i in range(len(s)):\n",
    "        if s_new * x * abs(k) == s:\n",
    "            print(s_new * x)\n",
    "        x += 1\n",
    "else:\n",
    "    print('undefined')"
   ]
  },
  {
   "cell_type": "code",
   "execution_count": null,
   "metadata": {},
   "outputs": [],
   "source": [
    "# Two Strings"
   ]
  },
  {
   "cell_type": "code",
   "execution_count": 28,
   "metadata": {},
   "outputs": [
    {
     "name": "stdin",
     "output_type": "stream",
     "text": [
      "T = 2\n",
      "A: hello\n",
      "B: world\n"
     ]
    },
    {
     "name": "stdout",
     "output_type": "stream",
     "text": [
      "Yes\n"
     ]
    },
    {
     "name": "stdin",
     "output_type": "stream",
     "text": [
      "A: hi\n",
      "B: world\n"
     ]
    },
    {
     "name": "stdout",
     "output_type": "stream",
     "text": [
      "No\n"
     ]
    }
   ],
   "source": [
    "T = int(input('T ='))\n",
    "for i in range(T):\n",
    "    A = input('A:')\n",
    "    B = input('B:')\n",
    "    l = []\n",
    "    for i in range(len(A)):\n",
    "        for j in range(len(B)):\n",
    "            if A[i] == B[j]:\n",
    "                l.append(A[i])\n",
    "    if len(l) >= 1:\n",
    "        print('Yes')\n",
    "    else:\n",
    "        print('No')"
   ]
  },
  {
   "cell_type": "code",
   "execution_count": null,
   "metadata": {},
   "outputs": [],
   "source": [
    "# Jewels and stones"
   ]
  },
  {
   "cell_type": "code",
   "execution_count": 16,
   "metadata": {},
   "outputs": [
    {
     "name": "stdin",
     "output_type": "stream",
     "text": [
      "Jewels: aA\n",
      "Stones: aAAbbbb\n"
     ]
    },
    {
     "name": "stdout",
     "output_type": "stream",
     "text": [
      "3\n"
     ]
    }
   ],
   "source": [
    "jewels = input('Jewels:')\n",
    "stones = input('Stones:')\n",
    "l = []\n",
    "for i in range(len(stones)):\n",
    "    for j in range(len(jewels)):\n",
    "        if stones[i] == jewels[j]:\n",
    "            l.append(stones[i])\n",
    "print(len(l))"
   ]
  }
 ],
 "metadata": {
  "kernelspec": {
   "display_name": "Python 3",
   "language": "python",
   "name": "python3"
  },
  "language_info": {
   "codemirror_mode": {
    "name": "ipython",
    "version": 3
   },
   "file_extension": ".py",
   "mimetype": "text/x-python",
   "name": "python",
   "nbconvert_exporter": "python",
   "pygments_lexer": "ipython3",
   "version": "3.8.5"
  }
 },
 "nbformat": 4,
 "nbformat_minor": 4
}
